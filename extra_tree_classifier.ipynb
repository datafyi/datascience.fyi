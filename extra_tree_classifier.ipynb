{
  "nbformat": 4,
  "nbformat_minor": 0,
  "metadata": {
    "colab": {
      "name": "extra_tree_classifier.ipynb",
      "provenance": [],
      "authorship_tag": "ABX9TyMPAVm9eMDmE0x/l1azSwOK",
      "include_colab_link": true
    },
    "kernelspec": {
      "name": "python3",
      "display_name": "Python 3"
    },
    "language_info": {
      "name": "python"
    }
  },
  "cells": [
    {
      "cell_type": "markdown",
      "metadata": {
        "id": "view-in-github",
        "colab_type": "text"
      },
      "source": [
        "<a href=\"https://colab.research.google.com/github/datafyi/datascience.fyi/blob/main/extra_tree_classifier.ipynb\" target=\"_parent\"><img src=\"https://colab.research.google.com/assets/colab-badge.svg\" alt=\"Open In Colab\"/></a>"
      ]
    },
    {
      "cell_type": "code",
      "source": [
        "import pandas as pd\n",
        "\n",
        "cancer_data = pd.read_csv(\"cancer_dataset.csv\")"
      ],
      "metadata": {
        "id": "A1UdEVLkXHb_"
      },
      "execution_count": 68,
      "outputs": []
    },
    {
      "cell_type": "code",
      "source": [
        "# cancer_data = cancer_data.drop(columns=['id'])"
      ],
      "metadata": {
        "id": "XqoUu-aVXbwK"
      },
      "execution_count": 69,
      "outputs": []
    },
    {
      "cell_type": "code",
      "source": [
        "cancer_data.diagnosis = cancer_data.diagnosis.map({'M':1,'B':0})"
      ],
      "metadata": {
        "id": "SXnEyLvVZlaq"
      },
      "execution_count": 70,
      "outputs": []
    },
    {
      "cell_type": "code",
      "source": [
        "cancer_data = cancer_data.drop('Unnamed: 32', axis=1)\n",
        "cancer_data.head()"
      ],
      "metadata": {
        "colab": {
          "base_uri": "https://localhost:8080/",
          "height": 317
        },
        "id": "XDj2TmlQd21c",
        "outputId": "1dcf12f9-032c-4bc4-cd19-7826b3d005dc"
      },
      "execution_count": 71,
      "outputs": [
        {
          "output_type": "execute_result",
          "data": {
            "text/plain": [
              "         id  diagnosis  radius_mean  texture_mean  perimeter_mean  area_mean  \\\n",
              "0    842302          1        17.99         10.38          122.80     1001.0   \n",
              "1    842517          1        20.57         17.77          132.90     1326.0   \n",
              "2  84300903          1        19.69         21.25          130.00     1203.0   \n",
              "3  84348301          1        11.42         20.38           77.58      386.1   \n",
              "4  84358402          1        20.29         14.34          135.10     1297.0   \n",
              "\n",
              "   smoothness_mean  compactness_mean  concavity_mean  concave points_mean  \\\n",
              "0          0.11840           0.27760          0.3001              0.14710   \n",
              "1          0.08474           0.07864          0.0869              0.07017   \n",
              "2          0.10960           0.15990          0.1974              0.12790   \n",
              "3          0.14250           0.28390          0.2414              0.10520   \n",
              "4          0.10030           0.13280          0.1980              0.10430   \n",
              "\n",
              "   ...  radius_worst  texture_worst  perimeter_worst  area_worst  \\\n",
              "0  ...         25.38          17.33           184.60      2019.0   \n",
              "1  ...         24.99          23.41           158.80      1956.0   \n",
              "2  ...         23.57          25.53           152.50      1709.0   \n",
              "3  ...         14.91          26.50            98.87       567.7   \n",
              "4  ...         22.54          16.67           152.20      1575.0   \n",
              "\n",
              "   smoothness_worst  compactness_worst  concavity_worst  concave points_worst  \\\n",
              "0            0.1622             0.6656           0.7119                0.2654   \n",
              "1            0.1238             0.1866           0.2416                0.1860   \n",
              "2            0.1444             0.4245           0.4504                0.2430   \n",
              "3            0.2098             0.8663           0.6869                0.2575   \n",
              "4            0.1374             0.2050           0.4000                0.1625   \n",
              "\n",
              "   symmetry_worst  fractal_dimension_worst  \n",
              "0          0.4601                  0.11890  \n",
              "1          0.2750                  0.08902  \n",
              "2          0.3613                  0.08758  \n",
              "3          0.6638                  0.17300  \n",
              "4          0.2364                  0.07678  \n",
              "\n",
              "[5 rows x 32 columns]"
            ],
            "text/html": [
              "\n",
              "  <div id=\"df-90030007-dd7b-40e5-b5f2-18321c69ee24\">\n",
              "    <div class=\"colab-df-container\">\n",
              "      <div>\n",
              "<style scoped>\n",
              "    .dataframe tbody tr th:only-of-type {\n",
              "        vertical-align: middle;\n",
              "    }\n",
              "\n",
              "    .dataframe tbody tr th {\n",
              "        vertical-align: top;\n",
              "    }\n",
              "\n",
              "    .dataframe thead th {\n",
              "        text-align: right;\n",
              "    }\n",
              "</style>\n",
              "<table border=\"1\" class=\"dataframe\">\n",
              "  <thead>\n",
              "    <tr style=\"text-align: right;\">\n",
              "      <th></th>\n",
              "      <th>id</th>\n",
              "      <th>diagnosis</th>\n",
              "      <th>radius_mean</th>\n",
              "      <th>texture_mean</th>\n",
              "      <th>perimeter_mean</th>\n",
              "      <th>area_mean</th>\n",
              "      <th>smoothness_mean</th>\n",
              "      <th>compactness_mean</th>\n",
              "      <th>concavity_mean</th>\n",
              "      <th>concave points_mean</th>\n",
              "      <th>...</th>\n",
              "      <th>radius_worst</th>\n",
              "      <th>texture_worst</th>\n",
              "      <th>perimeter_worst</th>\n",
              "      <th>area_worst</th>\n",
              "      <th>smoothness_worst</th>\n",
              "      <th>compactness_worst</th>\n",
              "      <th>concavity_worst</th>\n",
              "      <th>concave points_worst</th>\n",
              "      <th>symmetry_worst</th>\n",
              "      <th>fractal_dimension_worst</th>\n",
              "    </tr>\n",
              "  </thead>\n",
              "  <tbody>\n",
              "    <tr>\n",
              "      <th>0</th>\n",
              "      <td>842302</td>\n",
              "      <td>1</td>\n",
              "      <td>17.99</td>\n",
              "      <td>10.38</td>\n",
              "      <td>122.80</td>\n",
              "      <td>1001.0</td>\n",
              "      <td>0.11840</td>\n",
              "      <td>0.27760</td>\n",
              "      <td>0.3001</td>\n",
              "      <td>0.14710</td>\n",
              "      <td>...</td>\n",
              "      <td>25.38</td>\n",
              "      <td>17.33</td>\n",
              "      <td>184.60</td>\n",
              "      <td>2019.0</td>\n",
              "      <td>0.1622</td>\n",
              "      <td>0.6656</td>\n",
              "      <td>0.7119</td>\n",
              "      <td>0.2654</td>\n",
              "      <td>0.4601</td>\n",
              "      <td>0.11890</td>\n",
              "    </tr>\n",
              "    <tr>\n",
              "      <th>1</th>\n",
              "      <td>842517</td>\n",
              "      <td>1</td>\n",
              "      <td>20.57</td>\n",
              "      <td>17.77</td>\n",
              "      <td>132.90</td>\n",
              "      <td>1326.0</td>\n",
              "      <td>0.08474</td>\n",
              "      <td>0.07864</td>\n",
              "      <td>0.0869</td>\n",
              "      <td>0.07017</td>\n",
              "      <td>...</td>\n",
              "      <td>24.99</td>\n",
              "      <td>23.41</td>\n",
              "      <td>158.80</td>\n",
              "      <td>1956.0</td>\n",
              "      <td>0.1238</td>\n",
              "      <td>0.1866</td>\n",
              "      <td>0.2416</td>\n",
              "      <td>0.1860</td>\n",
              "      <td>0.2750</td>\n",
              "      <td>0.08902</td>\n",
              "    </tr>\n",
              "    <tr>\n",
              "      <th>2</th>\n",
              "      <td>84300903</td>\n",
              "      <td>1</td>\n",
              "      <td>19.69</td>\n",
              "      <td>21.25</td>\n",
              "      <td>130.00</td>\n",
              "      <td>1203.0</td>\n",
              "      <td>0.10960</td>\n",
              "      <td>0.15990</td>\n",
              "      <td>0.1974</td>\n",
              "      <td>0.12790</td>\n",
              "      <td>...</td>\n",
              "      <td>23.57</td>\n",
              "      <td>25.53</td>\n",
              "      <td>152.50</td>\n",
              "      <td>1709.0</td>\n",
              "      <td>0.1444</td>\n",
              "      <td>0.4245</td>\n",
              "      <td>0.4504</td>\n",
              "      <td>0.2430</td>\n",
              "      <td>0.3613</td>\n",
              "      <td>0.08758</td>\n",
              "    </tr>\n",
              "    <tr>\n",
              "      <th>3</th>\n",
              "      <td>84348301</td>\n",
              "      <td>1</td>\n",
              "      <td>11.42</td>\n",
              "      <td>20.38</td>\n",
              "      <td>77.58</td>\n",
              "      <td>386.1</td>\n",
              "      <td>0.14250</td>\n",
              "      <td>0.28390</td>\n",
              "      <td>0.2414</td>\n",
              "      <td>0.10520</td>\n",
              "      <td>...</td>\n",
              "      <td>14.91</td>\n",
              "      <td>26.50</td>\n",
              "      <td>98.87</td>\n",
              "      <td>567.7</td>\n",
              "      <td>0.2098</td>\n",
              "      <td>0.8663</td>\n",
              "      <td>0.6869</td>\n",
              "      <td>0.2575</td>\n",
              "      <td>0.6638</td>\n",
              "      <td>0.17300</td>\n",
              "    </tr>\n",
              "    <tr>\n",
              "      <th>4</th>\n",
              "      <td>84358402</td>\n",
              "      <td>1</td>\n",
              "      <td>20.29</td>\n",
              "      <td>14.34</td>\n",
              "      <td>135.10</td>\n",
              "      <td>1297.0</td>\n",
              "      <td>0.10030</td>\n",
              "      <td>0.13280</td>\n",
              "      <td>0.1980</td>\n",
              "      <td>0.10430</td>\n",
              "      <td>...</td>\n",
              "      <td>22.54</td>\n",
              "      <td>16.67</td>\n",
              "      <td>152.20</td>\n",
              "      <td>1575.0</td>\n",
              "      <td>0.1374</td>\n",
              "      <td>0.2050</td>\n",
              "      <td>0.4000</td>\n",
              "      <td>0.1625</td>\n",
              "      <td>0.2364</td>\n",
              "      <td>0.07678</td>\n",
              "    </tr>\n",
              "  </tbody>\n",
              "</table>\n",
              "<p>5 rows × 32 columns</p>\n",
              "</div>\n",
              "      <button class=\"colab-df-convert\" onclick=\"convertToInteractive('df-90030007-dd7b-40e5-b5f2-18321c69ee24')\"\n",
              "              title=\"Convert this dataframe to an interactive table.\"\n",
              "              style=\"display:none;\">\n",
              "        \n",
              "  <svg xmlns=\"http://www.w3.org/2000/svg\" height=\"24px\"viewBox=\"0 0 24 24\"\n",
              "       width=\"24px\">\n",
              "    <path d=\"M0 0h24v24H0V0z\" fill=\"none\"/>\n",
              "    <path d=\"M18.56 5.44l.94 2.06.94-2.06 2.06-.94-2.06-.94-.94-2.06-.94 2.06-2.06.94zm-11 1L8.5 8.5l.94-2.06 2.06-.94-2.06-.94L8.5 2.5l-.94 2.06-2.06.94zm10 10l.94 2.06.94-2.06 2.06-.94-2.06-.94-.94-2.06-.94 2.06-2.06.94z\"/><path d=\"M17.41 7.96l-1.37-1.37c-.4-.4-.92-.59-1.43-.59-.52 0-1.04.2-1.43.59L10.3 9.45l-7.72 7.72c-.78.78-.78 2.05 0 2.83L4 21.41c.39.39.9.59 1.41.59.51 0 1.02-.2 1.41-.59l7.78-7.78 2.81-2.81c.8-.78.8-2.07 0-2.86zM5.41 20L4 18.59l7.72-7.72 1.47 1.35L5.41 20z\"/>\n",
              "  </svg>\n",
              "      </button>\n",
              "      \n",
              "  <style>\n",
              "    .colab-df-container {\n",
              "      display:flex;\n",
              "      flex-wrap:wrap;\n",
              "      gap: 12px;\n",
              "    }\n",
              "\n",
              "    .colab-df-convert {\n",
              "      background-color: #E8F0FE;\n",
              "      border: none;\n",
              "      border-radius: 50%;\n",
              "      cursor: pointer;\n",
              "      display: none;\n",
              "      fill: #1967D2;\n",
              "      height: 32px;\n",
              "      padding: 0 0 0 0;\n",
              "      width: 32px;\n",
              "    }\n",
              "\n",
              "    .colab-df-convert:hover {\n",
              "      background-color: #E2EBFA;\n",
              "      box-shadow: 0px 1px 2px rgba(60, 64, 67, 0.3), 0px 1px 3px 1px rgba(60, 64, 67, 0.15);\n",
              "      fill: #174EA6;\n",
              "    }\n",
              "\n",
              "    [theme=dark] .colab-df-convert {\n",
              "      background-color: #3B4455;\n",
              "      fill: #D2E3FC;\n",
              "    }\n",
              "\n",
              "    [theme=dark] .colab-df-convert:hover {\n",
              "      background-color: #434B5C;\n",
              "      box-shadow: 0px 1px 3px 1px rgba(0, 0, 0, 0.15);\n",
              "      filter: drop-shadow(0px 1px 2px rgba(0, 0, 0, 0.3));\n",
              "      fill: #FFFFFF;\n",
              "    }\n",
              "  </style>\n",
              "\n",
              "      <script>\n",
              "        const buttonEl =\n",
              "          document.querySelector('#df-90030007-dd7b-40e5-b5f2-18321c69ee24 button.colab-df-convert');\n",
              "        buttonEl.style.display =\n",
              "          google.colab.kernel.accessAllowed ? 'block' : 'none';\n",
              "\n",
              "        async function convertToInteractive(key) {\n",
              "          const element = document.querySelector('#df-90030007-dd7b-40e5-b5f2-18321c69ee24');\n",
              "          const dataTable =\n",
              "            await google.colab.kernel.invokeFunction('convertToInteractive',\n",
              "                                                     [key], {});\n",
              "          if (!dataTable) return;\n",
              "\n",
              "          const docLinkHtml = 'Like what you see? Visit the ' +\n",
              "            '<a target=\"_blank\" href=https://colab.research.google.com/notebooks/data_table.ipynb>data table notebook</a>'\n",
              "            + ' to learn more about interactive tables.';\n",
              "          element.innerHTML = '';\n",
              "          dataTable['output_type'] = 'display_data';\n",
              "          await google.colab.output.renderOutput(dataTable, element);\n",
              "          const docLink = document.createElement('div');\n",
              "          docLink.innerHTML = docLinkHtml;\n",
              "          element.appendChild(docLink);\n",
              "        }\n",
              "      </script>\n",
              "    </div>\n",
              "  </div>\n",
              "  "
            ]
          },
          "metadata": {},
          "execution_count": 71
        }
      ]
    },
    {
      "cell_type": "code",
      "execution_count": 72,
      "metadata": {
        "id": "9J1kAQPLU1E4"
      },
      "outputs": [],
      "source": [
        "from sklearn.ensemble import ExtraTreesClassifier\n",
        "from sklearn.datasets import make_classification"
      ]
    },
    {
      "cell_type": "code",
      "source": [
        "X = cancer_data.drop(columns=['diagnosis'])\n",
        "y = cancer_data.diagnosis"
      ],
      "metadata": {
        "id": "5S3bYvBKVO2Z"
      },
      "execution_count": 73,
      "outputs": []
    },
    {
      "cell_type": "code",
      "source": [
        "from sklearn.model_selection import train_test_split\n",
        "\n",
        "X_train, X_test, y_train, y_test = train_test_split(X, y, test_size=0.3, random_state=1)"
      ],
      "metadata": {
        "id": "feQfrcbDbfN6"
      },
      "execution_count": 74,
      "outputs": []
    },
    {
      "cell_type": "code",
      "source": [
        "numeric_features = X.columns\n",
        "# categorical_features = []"
      ],
      "metadata": {
        "id": "2FbxbygXcWJj"
      },
      "execution_count": 75,
      "outputs": []
    },
    {
      "cell_type": "code",
      "source": [
        "from sklearn.compose import ColumnTransformer \n",
        "from sklearn.impute import SimpleImputer\n",
        "from sklearn.preprocessing import StandardScaler, OneHotEncoder"
      ],
      "metadata": {
        "id": "LaDMucvreXS9"
      },
      "execution_count": 76,
      "outputs": []
    },
    {
      "cell_type": "code",
      "source": [
        "drop_feat=['id']\n",
        "drop_transformer = ColumnTransformer(transformers=[('drop_columns', 'drop', drop_feat)], remainder='passthrough')"
      ],
      "metadata": {
        "id": "xXc7dYF7eYer"
      },
      "execution_count": 77,
      "outputs": []
    },
    {
      "cell_type": "code",
      "source": [
        "from sklearn.pipeline import Pipeline"
      ],
      "metadata": {
        "id": "CLHHtwk9erCT"
      },
      "execution_count": 78,
      "outputs": []
    },
    {
      "cell_type": "code",
      "source": [
        "pipeline = Pipeline([('drop_column', drop_transformer)])"
      ],
      "metadata": {
        "id": "fTtRRHWCesSw"
      },
      "execution_count": 79,
      "outputs": []
    },
    {
      "cell_type": "code",
      "source": [
        "pipeline.fit(X_train)"
      ],
      "metadata": {
        "colab": {
          "base_uri": "https://localhost:8080/"
        },
        "id": "obvfihv6exe9",
        "outputId": "e325c769-f083-4493-9cb0-09a70f191055"
      },
      "execution_count": 80,
      "outputs": [
        {
          "output_type": "execute_result",
          "data": {
            "text/plain": [
              "Pipeline(steps=[('drop_column',\n",
              "                 ColumnTransformer(remainder='passthrough',\n",
              "                                   transformers=[('drop_columns', 'drop',\n",
              "                                                  ['id'])]))])"
            ]
          },
          "metadata": {},
          "execution_count": 80
        }
      ]
    },
    {
      "cell_type": "code",
      "source": [
        "transformed_train=pipeline.transform(X_train)\n",
        "transformed_train"
      ],
      "metadata": {
        "colab": {
          "base_uri": "https://localhost:8080/"
        },
        "id": "W11n5ZtJe9Ro",
        "outputId": "a51d1533-1e14-42ea-9b6b-31ce50099c44"
      },
      "execution_count": 82,
      "outputs": [
        {
          "output_type": "execute_result",
          "data": {
            "text/plain": [
              "array([[1.152e+01, 1.493e+01, 7.387e+01, ..., 9.608e-02, 2.664e-01,\n",
              "        7.809e-02],\n",
              "       [1.305e+01, 1.931e+01, 8.261e+01, ..., 1.111e-02, 2.439e-01,\n",
              "        6.289e-02],\n",
              "       [1.420e+01, 2.053e+01, 9.241e+01, ..., 1.339e-01, 2.534e-01,\n",
              "        7.858e-02],\n",
              "       ...,\n",
              "       [1.720e+01, 2.452e+01, 1.142e+02, ..., 1.899e-01, 3.313e-01,\n",
              "        1.339e-01],\n",
              "       [1.403e+01, 2.125e+01, 8.979e+01, ..., 7.963e-02, 2.226e-01,\n",
              "        7.617e-02],\n",
              "       [1.303e+01, 1.842e+01, 8.261e+01, ..., 5.013e-02, 1.987e-01,\n",
              "        6.169e-02]])"
            ]
          },
          "metadata": {},
          "execution_count": 82
        }
      ]
    },
    {
      "cell_type": "code",
      "source": [
        "numeric_transformer = Pipeline(steps=[\n",
        "                                     ('meanimputer', SimpleImputer(strategy='mean')),\n",
        "                                     ('stdscaler', StandardScaler())\n",
        "                                     ])"
      ],
      "metadata": {
        "id": "pKgp-z8CfHgD"
      },
      "execution_count": 83,
      "outputs": []
    },
    {
      "cell_type": "code",
      "source": [
        "# categorical_transformer = Pipeline(steps=[\n",
        "#                                          ('onehotenc', OneHotEncoder(handle_unknown='ignore'))\n",
        "#                                          ])"
      ],
      "metadata": {
        "id": "g6kMxa59fQST"
      },
      "execution_count": 84,
      "outputs": []
    },
    {
      "cell_type": "code",
      "source": [
        "col_transformer = ColumnTransformer(transformers=[('drop_columns', 'drop', drop_feat),\n",
        "                                                   ('numeric_processing',numeric_transformer, numeric_features)\n",
        "                                                   # ,('categorical_processing', categorical_transformer, categorical_features)\n",
        "                                                  ], remainder='drop')"
      ],
      "metadata": {
        "id": "NTognE9cfWQ-"
      },
      "execution_count": 85,
      "outputs": []
    },
    {
      "cell_type": "code",
      "source": [
        "pipeline = Pipeline([('transform_column', col_transformer)])"
      ],
      "metadata": {
        "id": "GljBTt4hfdjE"
      },
      "execution_count": 86,
      "outputs": []
    },
    {
      "cell_type": "code",
      "source": [
        "pipeline.fit(X_train)"
      ],
      "metadata": {
        "colab": {
          "base_uri": "https://localhost:8080/"
        },
        "id": "kKxv9fzcfgEF",
        "outputId": "e967bbbc-77db-4a12-e695-673eaeadc848"
      },
      "execution_count": 87,
      "outputs": [
        {
          "output_type": "execute_result",
          "data": {
            "text/plain": [
              "Pipeline(steps=[('transform_column',\n",
              "                 ColumnTransformer(transformers=[('drop_columns', 'drop',\n",
              "                                                  ['id']),\n",
              "                                                 ('numeric_processing',\n",
              "                                                  Pipeline(steps=[('meanimputer',\n",
              "                                                                   SimpleImputer()),\n",
              "                                                                  ('stdscaler',\n",
              "                                                                   StandardScaler())]),\n",
              "                                                  Index(['id', 'radius_mean', 'texture_mean', 'perimeter_mean', 'area_mean',\n",
              "       'smoothness_mean', 'compactness_mean', 'concavity_mean',\n",
              "       'concave points_mean', 'sy...\n",
              "       'radius_se', 'texture_se', 'perimeter_se', 'area_se', 'smoothness_se',\n",
              "       'compactness_se', 'concavity_se', 'concave points_se', 'symmetry_se',\n",
              "       'fractal_dimension_se', 'radius_worst', 'texture_worst',\n",
              "       'perimeter_worst', 'area_worst', 'smoothness_worst',\n",
              "       'compactness_worst', 'concavity_worst', 'concave points_worst',\n",
              "       'symmetry_worst', 'fractal_dimension_worst'],\n",
              "      dtype='object'))]))])"
            ]
          },
          "metadata": {},
          "execution_count": 87
        }
      ]
    },
    {
      "cell_type": "code",
      "source": [
        "transformed_train=pipeline.transform(X_train)"
      ],
      "metadata": {
        "id": "y2gdJlqFfkyp"
      },
      "execution_count": 88,
      "outputs": []
    },
    {
      "cell_type": "code",
      "source": [
        "pd.DataFrame(transformed_train)"
      ],
      "metadata": {
        "colab": {
          "base_uri": "https://localhost:8080/",
          "height": 488
        },
        "id": "zwMLya1bfo6o",
        "outputId": "2c02bac1-32c9-4829-8188-46a3f16d0b23"
      },
      "execution_count": 89,
      "outputs": [
        {
          "output_type": "execute_result",
          "data": {
            "text/plain": [
              "           0         1         2         3         4         5         6   \\\n",
              "0   -0.252447 -0.718835 -1.012704 -0.724558 -0.690529  0.342745 -0.528382   \n",
              "1   -0.252630 -0.302167 -0.019346 -0.379219 -0.363096 -1.144967 -1.311635   \n",
              "2   -0.252265  0.011015  0.257343  0.008003 -0.116099 -0.518978  0.109290   \n",
              "3   -0.252219 -0.569052 -1.350628 -0.568088 -0.585177  0.968015 -0.294322   \n",
              "4   -0.252299 -0.694325 -0.765499 -0.661733 -0.685384  0.881771  0.226223   \n",
              "..        ...       ...       ...       ...       ...       ...       ...   \n",
              "393 -0.252570  1.533351  1.298328  1.509080  1.437382  0.357119  1.046700   \n",
              "394 -0.252552 -0.928530 -1.003633 -0.946222 -0.828653 -1.336861 -1.048537   \n",
              "395 -0.252617  0.828011  1.162252  0.868979  0.726182  0.759592  1.516379   \n",
              "396  0.339610 -0.035281  0.420635 -0.095520 -0.156723 -0.419079 -0.696570   \n",
              "397 -0.252649 -0.307613 -0.221193 -0.379219 -0.372304 -0.481606 -1.316118   \n",
              "\n",
              "           7         8         9   ...        21        22        23  \\\n",
              "0   -0.572826 -0.506824  0.277754  ... -0.729777 -0.712004 -0.766628   \n",
              "1   -1.104054 -1.142451  0.043414  ... -0.418576 -0.543809 -0.500781   \n",
              "2   -0.481144 -0.474186 -1.102653  ...  0.018680  0.251148  0.120095   \n",
              "3   -0.641057 -0.539967 -0.549758  ... -0.572207 -1.572017 -0.595077   \n",
              "4   -0.227430 -0.110110  0.288739  ... -0.731746 -0.953188 -0.736805   \n",
              "..        ...       ...       ...  ...       ...       ...       ...   \n",
              "393  2.061860  1.659162  1.445790  ...  1.235906  1.253967  1.159623   \n",
              "394 -0.831904 -1.048636 -1.494439  ... -0.867650 -0.786581 -0.854391   \n",
              "395  0.997857  0.762002  0.438862  ...  1.371810  1.292049  1.241989   \n",
              "396 -0.930321 -0.768179 -1.062376  ... -0.201918  0.730343 -0.272710   \n",
              "397 -0.793111 -0.508342 -1.245453  ... -0.601751 -0.454952 -0.664947   \n",
              "\n",
              "           24        25        26        27        28        29        30  \n",
              "0   -0.670318  0.287945 -0.637009 -0.448343 -0.281546 -0.358810 -0.346080  \n",
              "1   -0.451605 -1.349057 -1.265020 -1.340965 -1.548733 -0.756728 -1.248786  \n",
              "2   -0.113698 -0.761871  0.567618 -0.094404  0.282477 -0.588718 -0.316980  \n",
              "3   -0.574270  0.875130 -0.604399 -0.539327 -0.611876 -0.151893 -0.201766  \n",
              "4   -0.696934  0.403603 -0.253511 -0.199386 -0.066495 -0.141282 -0.572944  \n",
              "..        ...       ...       ...       ...       ...       ...       ...  \n",
              "393  1.143535 -0.219170  0.849371  1.485825  0.868571  0.774813  0.043509  \n",
              "394 -0.753969 -1.104396 -0.871152 -0.862522 -1.205428 -1.002552 -0.963721  \n",
              "395  1.295626  1.159826  3.153620  1.932249  1.117624  0.788961  2.968394  \n",
              "396 -0.300505 -0.165789 -0.682012 -1.038692 -0.526870 -1.133423 -0.460106  \n",
              "397 -0.580882 -1.575479 -1.367547 -1.108580 -0.966814 -1.556100 -1.320052  \n",
              "\n",
              "[398 rows x 31 columns]"
            ],
            "text/html": [
              "\n",
              "  <div id=\"df-c18b1bb2-3c01-45e2-abfc-109fa9cb5d9a\">\n",
              "    <div class=\"colab-df-container\">\n",
              "      <div>\n",
              "<style scoped>\n",
              "    .dataframe tbody tr th:only-of-type {\n",
              "        vertical-align: middle;\n",
              "    }\n",
              "\n",
              "    .dataframe tbody tr th {\n",
              "        vertical-align: top;\n",
              "    }\n",
              "\n",
              "    .dataframe thead th {\n",
              "        text-align: right;\n",
              "    }\n",
              "</style>\n",
              "<table border=\"1\" class=\"dataframe\">\n",
              "  <thead>\n",
              "    <tr style=\"text-align: right;\">\n",
              "      <th></th>\n",
              "      <th>0</th>\n",
              "      <th>1</th>\n",
              "      <th>2</th>\n",
              "      <th>3</th>\n",
              "      <th>4</th>\n",
              "      <th>5</th>\n",
              "      <th>6</th>\n",
              "      <th>7</th>\n",
              "      <th>8</th>\n",
              "      <th>9</th>\n",
              "      <th>...</th>\n",
              "      <th>21</th>\n",
              "      <th>22</th>\n",
              "      <th>23</th>\n",
              "      <th>24</th>\n",
              "      <th>25</th>\n",
              "      <th>26</th>\n",
              "      <th>27</th>\n",
              "      <th>28</th>\n",
              "      <th>29</th>\n",
              "      <th>30</th>\n",
              "    </tr>\n",
              "  </thead>\n",
              "  <tbody>\n",
              "    <tr>\n",
              "      <th>0</th>\n",
              "      <td>-0.252447</td>\n",
              "      <td>-0.718835</td>\n",
              "      <td>-1.012704</td>\n",
              "      <td>-0.724558</td>\n",
              "      <td>-0.690529</td>\n",
              "      <td>0.342745</td>\n",
              "      <td>-0.528382</td>\n",
              "      <td>-0.572826</td>\n",
              "      <td>-0.506824</td>\n",
              "      <td>0.277754</td>\n",
              "      <td>...</td>\n",
              "      <td>-0.729777</td>\n",
              "      <td>-0.712004</td>\n",
              "      <td>-0.766628</td>\n",
              "      <td>-0.670318</td>\n",
              "      <td>0.287945</td>\n",
              "      <td>-0.637009</td>\n",
              "      <td>-0.448343</td>\n",
              "      <td>-0.281546</td>\n",
              "      <td>-0.358810</td>\n",
              "      <td>-0.346080</td>\n",
              "    </tr>\n",
              "    <tr>\n",
              "      <th>1</th>\n",
              "      <td>-0.252630</td>\n",
              "      <td>-0.302167</td>\n",
              "      <td>-0.019346</td>\n",
              "      <td>-0.379219</td>\n",
              "      <td>-0.363096</td>\n",
              "      <td>-1.144967</td>\n",
              "      <td>-1.311635</td>\n",
              "      <td>-1.104054</td>\n",
              "      <td>-1.142451</td>\n",
              "      <td>0.043414</td>\n",
              "      <td>...</td>\n",
              "      <td>-0.418576</td>\n",
              "      <td>-0.543809</td>\n",
              "      <td>-0.500781</td>\n",
              "      <td>-0.451605</td>\n",
              "      <td>-1.349057</td>\n",
              "      <td>-1.265020</td>\n",
              "      <td>-1.340965</td>\n",
              "      <td>-1.548733</td>\n",
              "      <td>-0.756728</td>\n",
              "      <td>-1.248786</td>\n",
              "    </tr>\n",
              "    <tr>\n",
              "      <th>2</th>\n",
              "      <td>-0.252265</td>\n",
              "      <td>0.011015</td>\n",
              "      <td>0.257343</td>\n",
              "      <td>0.008003</td>\n",
              "      <td>-0.116099</td>\n",
              "      <td>-0.518978</td>\n",
              "      <td>0.109290</td>\n",
              "      <td>-0.481144</td>\n",
              "      <td>-0.474186</td>\n",
              "      <td>-1.102653</td>\n",
              "      <td>...</td>\n",
              "      <td>0.018680</td>\n",
              "      <td>0.251148</td>\n",
              "      <td>0.120095</td>\n",
              "      <td>-0.113698</td>\n",
              "      <td>-0.761871</td>\n",
              "      <td>0.567618</td>\n",
              "      <td>-0.094404</td>\n",
              "      <td>0.282477</td>\n",
              "      <td>-0.588718</td>\n",
              "      <td>-0.316980</td>\n",
              "    </tr>\n",
              "    <tr>\n",
              "      <th>3</th>\n",
              "      <td>-0.252219</td>\n",
              "      <td>-0.569052</td>\n",
              "      <td>-1.350628</td>\n",
              "      <td>-0.568088</td>\n",
              "      <td>-0.585177</td>\n",
              "      <td>0.968015</td>\n",
              "      <td>-0.294322</td>\n",
              "      <td>-0.641057</td>\n",
              "      <td>-0.539967</td>\n",
              "      <td>-0.549758</td>\n",
              "      <td>...</td>\n",
              "      <td>-0.572207</td>\n",
              "      <td>-1.572017</td>\n",
              "      <td>-0.595077</td>\n",
              "      <td>-0.574270</td>\n",
              "      <td>0.875130</td>\n",
              "      <td>-0.604399</td>\n",
              "      <td>-0.539327</td>\n",
              "      <td>-0.611876</td>\n",
              "      <td>-0.151893</td>\n",
              "      <td>-0.201766</td>\n",
              "    </tr>\n",
              "    <tr>\n",
              "      <th>4</th>\n",
              "      <td>-0.252299</td>\n",
              "      <td>-0.694325</td>\n",
              "      <td>-0.765499</td>\n",
              "      <td>-0.661733</td>\n",
              "      <td>-0.685384</td>\n",
              "      <td>0.881771</td>\n",
              "      <td>0.226223</td>\n",
              "      <td>-0.227430</td>\n",
              "      <td>-0.110110</td>\n",
              "      <td>0.288739</td>\n",
              "      <td>...</td>\n",
              "      <td>-0.731746</td>\n",
              "      <td>-0.953188</td>\n",
              "      <td>-0.736805</td>\n",
              "      <td>-0.696934</td>\n",
              "      <td>0.403603</td>\n",
              "      <td>-0.253511</td>\n",
              "      <td>-0.199386</td>\n",
              "      <td>-0.066495</td>\n",
              "      <td>-0.141282</td>\n",
              "      <td>-0.572944</td>\n",
              "    </tr>\n",
              "    <tr>\n",
              "      <th>...</th>\n",
              "      <td>...</td>\n",
              "      <td>...</td>\n",
              "      <td>...</td>\n",
              "      <td>...</td>\n",
              "      <td>...</td>\n",
              "      <td>...</td>\n",
              "      <td>...</td>\n",
              "      <td>...</td>\n",
              "      <td>...</td>\n",
              "      <td>...</td>\n",
              "      <td>...</td>\n",
              "      <td>...</td>\n",
              "      <td>...</td>\n",
              "      <td>...</td>\n",
              "      <td>...</td>\n",
              "      <td>...</td>\n",
              "      <td>...</td>\n",
              "      <td>...</td>\n",
              "      <td>...</td>\n",
              "      <td>...</td>\n",
              "      <td>...</td>\n",
              "    </tr>\n",
              "    <tr>\n",
              "      <th>393</th>\n",
              "      <td>-0.252570</td>\n",
              "      <td>1.533351</td>\n",
              "      <td>1.298328</td>\n",
              "      <td>1.509080</td>\n",
              "      <td>1.437382</td>\n",
              "      <td>0.357119</td>\n",
              "      <td>1.046700</td>\n",
              "      <td>2.061860</td>\n",
              "      <td>1.659162</td>\n",
              "      <td>1.445790</td>\n",
              "      <td>...</td>\n",
              "      <td>1.235906</td>\n",
              "      <td>1.253967</td>\n",
              "      <td>1.159623</td>\n",
              "      <td>1.143535</td>\n",
              "      <td>-0.219170</td>\n",
              "      <td>0.849371</td>\n",
              "      <td>1.485825</td>\n",
              "      <td>0.868571</td>\n",
              "      <td>0.774813</td>\n",
              "      <td>0.043509</td>\n",
              "    </tr>\n",
              "    <tr>\n",
              "      <th>394</th>\n",
              "      <td>-0.252552</td>\n",
              "      <td>-0.928530</td>\n",
              "      <td>-1.003633</td>\n",
              "      <td>-0.946222</td>\n",
              "      <td>-0.828653</td>\n",
              "      <td>-1.336861</td>\n",
              "      <td>-1.048537</td>\n",
              "      <td>-0.831904</td>\n",
              "      <td>-1.048636</td>\n",
              "      <td>-1.494439</td>\n",
              "      <td>...</td>\n",
              "      <td>-0.867650</td>\n",
              "      <td>-0.786581</td>\n",
              "      <td>-0.854391</td>\n",
              "      <td>-0.753969</td>\n",
              "      <td>-1.104396</td>\n",
              "      <td>-0.871152</td>\n",
              "      <td>-0.862522</td>\n",
              "      <td>-1.205428</td>\n",
              "      <td>-1.002552</td>\n",
              "      <td>-0.963721</td>\n",
              "    </tr>\n",
              "    <tr>\n",
              "      <th>395</th>\n",
              "      <td>-0.252617</td>\n",
              "      <td>0.828011</td>\n",
              "      <td>1.162252</td>\n",
              "      <td>0.868979</td>\n",
              "      <td>0.726182</td>\n",
              "      <td>0.759592</td>\n",
              "      <td>1.516379</td>\n",
              "      <td>0.997857</td>\n",
              "      <td>0.762002</td>\n",
              "      <td>0.438862</td>\n",
              "      <td>...</td>\n",
              "      <td>1.371810</td>\n",
              "      <td>1.292049</td>\n",
              "      <td>1.241989</td>\n",
              "      <td>1.295626</td>\n",
              "      <td>1.159826</td>\n",
              "      <td>3.153620</td>\n",
              "      <td>1.932249</td>\n",
              "      <td>1.117624</td>\n",
              "      <td>0.788961</td>\n",
              "      <td>2.968394</td>\n",
              "    </tr>\n",
              "    <tr>\n",
              "      <th>396</th>\n",
              "      <td>0.339610</td>\n",
              "      <td>-0.035281</td>\n",
              "      <td>0.420635</td>\n",
              "      <td>-0.095520</td>\n",
              "      <td>-0.156723</td>\n",
              "      <td>-0.419079</td>\n",
              "      <td>-0.696570</td>\n",
              "      <td>-0.930321</td>\n",
              "      <td>-0.768179</td>\n",
              "      <td>-1.062376</td>\n",
              "      <td>...</td>\n",
              "      <td>-0.201918</td>\n",
              "      <td>0.730343</td>\n",
              "      <td>-0.272710</td>\n",
              "      <td>-0.300505</td>\n",
              "      <td>-0.165789</td>\n",
              "      <td>-0.682012</td>\n",
              "      <td>-1.038692</td>\n",
              "      <td>-0.526870</td>\n",
              "      <td>-1.133423</td>\n",
              "      <td>-0.460106</td>\n",
              "    </tr>\n",
              "    <tr>\n",
              "      <th>397</th>\n",
              "      <td>-0.252649</td>\n",
              "      <td>-0.307613</td>\n",
              "      <td>-0.221193</td>\n",
              "      <td>-0.379219</td>\n",
              "      <td>-0.372304</td>\n",
              "      <td>-0.481606</td>\n",
              "      <td>-1.316118</td>\n",
              "      <td>-0.793111</td>\n",
              "      <td>-0.508342</td>\n",
              "      <td>-1.245453</td>\n",
              "      <td>...</td>\n",
              "      <td>-0.601751</td>\n",
              "      <td>-0.454952</td>\n",
              "      <td>-0.664947</td>\n",
              "      <td>-0.580882</td>\n",
              "      <td>-1.575479</td>\n",
              "      <td>-1.367547</td>\n",
              "      <td>-1.108580</td>\n",
              "      <td>-0.966814</td>\n",
              "      <td>-1.556100</td>\n",
              "      <td>-1.320052</td>\n",
              "    </tr>\n",
              "  </tbody>\n",
              "</table>\n",
              "<p>398 rows × 31 columns</p>\n",
              "</div>\n",
              "      <button class=\"colab-df-convert\" onclick=\"convertToInteractive('df-c18b1bb2-3c01-45e2-abfc-109fa9cb5d9a')\"\n",
              "              title=\"Convert this dataframe to an interactive table.\"\n",
              "              style=\"display:none;\">\n",
              "        \n",
              "  <svg xmlns=\"http://www.w3.org/2000/svg\" height=\"24px\"viewBox=\"0 0 24 24\"\n",
              "       width=\"24px\">\n",
              "    <path d=\"M0 0h24v24H0V0z\" fill=\"none\"/>\n",
              "    <path d=\"M18.56 5.44l.94 2.06.94-2.06 2.06-.94-2.06-.94-.94-2.06-.94 2.06-2.06.94zm-11 1L8.5 8.5l.94-2.06 2.06-.94-2.06-.94L8.5 2.5l-.94 2.06-2.06.94zm10 10l.94 2.06.94-2.06 2.06-.94-2.06-.94-.94-2.06-.94 2.06-2.06.94z\"/><path d=\"M17.41 7.96l-1.37-1.37c-.4-.4-.92-.59-1.43-.59-.52 0-1.04.2-1.43.59L10.3 9.45l-7.72 7.72c-.78.78-.78 2.05 0 2.83L4 21.41c.39.39.9.59 1.41.59.51 0 1.02-.2 1.41-.59l7.78-7.78 2.81-2.81c.8-.78.8-2.07 0-2.86zM5.41 20L4 18.59l7.72-7.72 1.47 1.35L5.41 20z\"/>\n",
              "  </svg>\n",
              "      </button>\n",
              "      \n",
              "  <style>\n",
              "    .colab-df-container {\n",
              "      display:flex;\n",
              "      flex-wrap:wrap;\n",
              "      gap: 12px;\n",
              "    }\n",
              "\n",
              "    .colab-df-convert {\n",
              "      background-color: #E8F0FE;\n",
              "      border: none;\n",
              "      border-radius: 50%;\n",
              "      cursor: pointer;\n",
              "      display: none;\n",
              "      fill: #1967D2;\n",
              "      height: 32px;\n",
              "      padding: 0 0 0 0;\n",
              "      width: 32px;\n",
              "    }\n",
              "\n",
              "    .colab-df-convert:hover {\n",
              "      background-color: #E2EBFA;\n",
              "      box-shadow: 0px 1px 2px rgba(60, 64, 67, 0.3), 0px 1px 3px 1px rgba(60, 64, 67, 0.15);\n",
              "      fill: #174EA6;\n",
              "    }\n",
              "\n",
              "    [theme=dark] .colab-df-convert {\n",
              "      background-color: #3B4455;\n",
              "      fill: #D2E3FC;\n",
              "    }\n",
              "\n",
              "    [theme=dark] .colab-df-convert:hover {\n",
              "      background-color: #434B5C;\n",
              "      box-shadow: 0px 1px 3px 1px rgba(0, 0, 0, 0.15);\n",
              "      filter: drop-shadow(0px 1px 2px rgba(0, 0, 0, 0.3));\n",
              "      fill: #FFFFFF;\n",
              "    }\n",
              "  </style>\n",
              "\n",
              "      <script>\n",
              "        const buttonEl =\n",
              "          document.querySelector('#df-c18b1bb2-3c01-45e2-abfc-109fa9cb5d9a button.colab-df-convert');\n",
              "        buttonEl.style.display =\n",
              "          google.colab.kernel.accessAllowed ? 'block' : 'none';\n",
              "\n",
              "        async function convertToInteractive(key) {\n",
              "          const element = document.querySelector('#df-c18b1bb2-3c01-45e2-abfc-109fa9cb5d9a');\n",
              "          const dataTable =\n",
              "            await google.colab.kernel.invokeFunction('convertToInteractive',\n",
              "                                                     [key], {});\n",
              "          if (!dataTable) return;\n",
              "\n",
              "          const docLinkHtml = 'Like what you see? Visit the ' +\n",
              "            '<a target=\"_blank\" href=https://colab.research.google.com/notebooks/data_table.ipynb>data table notebook</a>'\n",
              "            + ' to learn more about interactive tables.';\n",
              "          element.innerHTML = '';\n",
              "          dataTable['output_type'] = 'display_data';\n",
              "          await google.colab.output.renderOutput(dataTable, element);\n",
              "          const docLink = document.createElement('div');\n",
              "          docLink.innerHTML = docLinkHtml;\n",
              "          element.appendChild(docLink);\n",
              "        }\n",
              "      </script>\n",
              "    </div>\n",
              "  </div>\n",
              "  "
            ]
          },
          "metadata": {},
          "execution_count": 89
        }
      ]
    },
    {
      "cell_type": "code",
      "source": [
        "pipeline.transform(X_test)"
      ],
      "metadata": {
        "colab": {
          "base_uri": "https://localhost:8080/"
        },
        "id": "RLzmTc4UfsYr",
        "outputId": "cb452619-e046-4c62-fbd0-8d5eb037acb7"
      },
      "execution_count": 90,
      "outputs": [
        {
          "output_type": "execute_result",
          "data": {
            "text/plain": [
              "array([[-0.25229919,  0.14445772, -1.22815887, ..., -0.06202148,\n",
              "        -0.07054093,  0.48476556],\n",
              "       [-0.25786194, -0.26948682, -0.1667621 , ...,  1.39948615,\n",
              "         1.82708337,  2.01817732],\n",
              "       [-0.25240012, -0.32939985, -0.76549874, ..., -0.13957087,\n",
              "         0.90745184,  0.70806642],\n",
              "       ...,\n",
              "       [ 0.31494486,  0.44129954, -0.34139362, ...,  0.98489521,\n",
              "         1.63608298,  1.24018762],\n",
              "       [-0.19805783, -0.3511864 , -0.72240785, ..., -0.85242867,\n",
              "         1.30360081, -0.78971222],\n",
              "       [-0.25230104, -0.81687402,  0.45692189, ..., -1.07225135,\n",
              "         0.19296888, -0.75348522]])"
            ]
          },
          "metadata": {},
          "execution_count": 90
        }
      ]
    },
    {
      "cell_type": "code",
      "source": [
        "pipeline = Pipeline([\n",
        "                     ('transform_column', col_transformer),\n",
        "                     ('logistics', ExtraTreesClassifier())\n",
        "                    ])"
      ],
      "metadata": {
        "id": "M0eLQdprfv03"
      },
      "execution_count": 91,
      "outputs": []
    },
    {
      "cell_type": "code",
      "source": [
        "pipeline.fit(X_train, y_train)"
      ],
      "metadata": {
        "colab": {
          "base_uri": "https://localhost:8080/"
        },
        "id": "RjeNa79if1iB",
        "outputId": "9ea8a60b-51c0-44a6-b996-feff6d381bbc"
      },
      "execution_count": 92,
      "outputs": [
        {
          "output_type": "execute_result",
          "data": {
            "text/plain": [
              "Pipeline(steps=[('transform_column',\n",
              "                 ColumnTransformer(transformers=[('drop_columns', 'drop',\n",
              "                                                  ['id']),\n",
              "                                                 ('numeric_processing',\n",
              "                                                  Pipeline(steps=[('meanimputer',\n",
              "                                                                   SimpleImputer()),\n",
              "                                                                  ('stdscaler',\n",
              "                                                                   StandardScaler())]),\n",
              "                                                  Index(['id', 'radius_mean', 'texture_mean', 'perimeter_mean', 'area_mean',\n",
              "       'smoothness_mean', 'compactness_mean', 'concavity_mean',\n",
              "       'concave points_mean', 'sy...\n",
              "       'radius_se', 'texture_se', 'perimeter_se', 'area_se', 'smoothness_se',\n",
              "       'compactness_se', 'concavity_se', 'concave points_se', 'symmetry_se',\n",
              "       'fractal_dimension_se', 'radius_worst', 'texture_worst',\n",
              "       'perimeter_worst', 'area_worst', 'smoothness_worst',\n",
              "       'compactness_worst', 'concavity_worst', 'concave points_worst',\n",
              "       'symmetry_worst', 'fractal_dimension_worst'],\n",
              "      dtype='object'))])),\n",
              "                ('logistics', ExtraTreesClassifier())])"
            ]
          },
          "metadata": {},
          "execution_count": 92
        }
      ]
    },
    {
      "cell_type": "code",
      "source": [
        "pipeline.score(X_test, y_test)"
      ],
      "metadata": {
        "colab": {
          "base_uri": "https://localhost:8080/"
        },
        "id": "HnjoRZOgf5Vk",
        "outputId": "fafb6f4c-94d2-415e-a858-044c4699cee9"
      },
      "execution_count": 94,
      "outputs": [
        {
          "output_type": "execute_result",
          "data": {
            "text/plain": [
              "0.9532163742690059"
            ]
          },
          "metadata": {},
          "execution_count": 94
        }
      ]
    },
    {
      "cell_type": "code",
      "source": [
        ""
      ],
      "metadata": {
        "id": "9xN5KWhijAR1"
      },
      "execution_count": null,
      "outputs": []
    }
  ]
}