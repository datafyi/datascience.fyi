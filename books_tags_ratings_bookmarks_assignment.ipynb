{
 "cells": [
  {
   "cell_type": "markdown",
   "id": "9aacb142-a966-4322-afcc-340383899aa0",
   "metadata": {},
   "source": [
    "# Project 2 (TDS) : Books Tags Ratings Bookmarks Analysis"
   ]
  },
  {
   "cell_type": "markdown",
   "id": "f401acbb-8d1e-45cf-b8b1-e2b48859c013",
   "metadata": {},
   "source": [
    "https://docs.google.com/document/u/1/d/e/2PACX-1vSQmM5fHa2rVFl_N89rpbmopb8OcsR7m6Df-4J-lUGs-mcS1ICBroRT6g_JWwe-UT1V4snIryWydu0h/pub "
   ]
  },
  {
   "cell_type": "markdown",
   "id": "d5bedacd-b425-4682-a401-bb37a7172902",
   "metadata": {},
   "source": [
    "- How many books do not have an original title [books.csv] ? N\n",
    "- How many unique books are present in the dataset ? Evaluate based on the 'book_id' [books.csv]  N\n",
    "- How many unique users are present in the dataset [ratings.csv] ? N\n",
    "- Which book (title) has the maximum number of ratings based on ‘work_ratings_count’  [books.csv] ? S\n",
    "- Which tag_id  is the most frequently used ie. mapped with the highest number of books [book_tags.csv]  ? (In case of more than one tag, mention the tag id with the least numerical value) N"
   ]
  },
  {
   "cell_type": "code",
   "execution_count": 239,
   "id": "54d8e56c-e2df-44b1-a95d-efce4256450e",
   "metadata": {},
   "outputs": [],
   "source": [
    "import pandas as pd"
   ]
  },
  {
   "cell_type": "code",
   "execution_count": 240,
   "id": "b57037a9-cea7-49d6-ad2a-a777e91036d8",
   "metadata": {},
   "outputs": [],
   "source": [
    "books = pd.read_csv('data/books.csv')\n",
    "ratings = pd.read_csv('data/ratings.csv')\n",
    "book_tags = pd.read_csv('data/book_tags.csv')\n",
    "toread = pd.read_csv('data/toread.csv')"
   ]
  },
  {
   "cell_type": "code",
   "execution_count": 241,
   "id": "806eff57-fe54-42ba-a00c-c0bfda8b8a5b",
   "metadata": {},
   "outputs": [
    {
     "data": {
      "text/html": [
       "<div>\n",
       "<style scoped>\n",
       "    .dataframe tbody tr th:only-of-type {\n",
       "        vertical-align: middle;\n",
       "    }\n",
       "\n",
       "    .dataframe tbody tr th {\n",
       "        vertical-align: top;\n",
       "    }\n",
       "\n",
       "    .dataframe thead th {\n",
       "        text-align: right;\n",
       "    }\n",
       "</style>\n",
       "<table border=\"1\" class=\"dataframe\">\n",
       "  <thead>\n",
       "    <tr style=\"text-align: right;\">\n",
       "      <th></th>\n",
       "      <th>book_id</th>\n",
       "      <th>goodreads_book_id</th>\n",
       "      <th>best_book_id</th>\n",
       "      <th>work_id</th>\n",
       "      <th>books_count</th>\n",
       "      <th>isbn</th>\n",
       "      <th>isbn13</th>\n",
       "      <th>authors</th>\n",
       "      <th>original_publication_year</th>\n",
       "      <th>original_title</th>\n",
       "      <th>...</th>\n",
       "      <th>work_ratings_count</th>\n",
       "      <th>work_text_reviews_count</th>\n",
       "      <th>ratings_1</th>\n",
       "      <th>ratings_2</th>\n",
       "      <th>ratings_3</th>\n",
       "      <th>ratings_4</th>\n",
       "      <th>ratings_5</th>\n",
       "      <th>image_url</th>\n",
       "      <th>small_image_url</th>\n",
       "      <th>NonEnglish</th>\n",
       "    </tr>\n",
       "  </thead>\n",
       "  <tbody>\n",
       "    <tr>\n",
       "      <th>0</th>\n",
       "      <td>150</td>\n",
       "      <td>4989</td>\n",
       "      <td>4989</td>\n",
       "      <td>1041558</td>\n",
       "      <td>80</td>\n",
       "      <td>312353766</td>\n",
       "      <td>9.780312e+12</td>\n",
       "      <td>Anita Diamant</td>\n",
       "      <td>1997.0</td>\n",
       "      <td>The Red Tent</td>\n",
       "      <td>...</td>\n",
       "      <td>449217</td>\n",
       "      <td>17234</td>\n",
       "      <td>9470</td>\n",
       "      <td>19616</td>\n",
       "      <td>67878</td>\n",
       "      <td>146178</td>\n",
       "      <td>206075</td>\n",
       "      <td>https://s.gr-assets.com/assets/nophoto/book/11...</td>\n",
       "      <td>https://s.gr-assets.com/assets/nophoto/book/50...</td>\n",
       "      <td>0</td>\n",
       "    </tr>\n",
       "    <tr>\n",
       "      <th>1</th>\n",
       "      <td>233</td>\n",
       "      <td>9712</td>\n",
       "      <td>9712</td>\n",
       "      <td>3285349</td>\n",
       "      <td>347</td>\n",
       "      <td>140003468X</td>\n",
       "      <td>9.781400e+12</td>\n",
       "      <td>Gabriel García Márquez, Edith Grossman</td>\n",
       "      <td>1985.0</td>\n",
       "      <td>El amor en los tiempos del cólera</td>\n",
       "      <td>...</td>\n",
       "      <td>323461</td>\n",
       "      <td>15246</td>\n",
       "      <td>11450</td>\n",
       "      <td>23825</td>\n",
       "      <td>65668</td>\n",
       "      <td>110544</td>\n",
       "      <td>111974</td>\n",
       "      <td>https://images.gr-assets.com/books/1327124987m...</td>\n",
       "      <td>https://images.gr-assets.com/books/1327124987s...</td>\n",
       "      <td>0</td>\n",
       "    </tr>\n",
       "    <tr>\n",
       "      <th>2</th>\n",
       "      <td>304</td>\n",
       "      <td>227711</td>\n",
       "      <td>227711</td>\n",
       "      <td>1191096</td>\n",
       "      <td>52</td>\n",
       "      <td>60987561</td>\n",
       "      <td>9.780061e+12</td>\n",
       "      <td>Wally Lamb</td>\n",
       "      <td>1998.0</td>\n",
       "      <td>I Know This Much Is True</td>\n",
       "      <td>...</td>\n",
       "      <td>257608</td>\n",
       "      <td>7775</td>\n",
       "      <td>4430</td>\n",
       "      <td>9972</td>\n",
       "      <td>39899</td>\n",
       "      <td>86909</td>\n",
       "      <td>116398</td>\n",
       "      <td>https://images.gr-assets.com/books/1373532198m...</td>\n",
       "      <td>https://images.gr-assets.com/books/1373532198s...</td>\n",
       "      <td>0</td>\n",
       "    </tr>\n",
       "    <tr>\n",
       "      <th>3</th>\n",
       "      <td>326</td>\n",
       "      <td>32234</td>\n",
       "      <td>32234</td>\n",
       "      <td>1223333</td>\n",
       "      <td>96</td>\n",
       "      <td>316182540</td>\n",
       "      <td>9.780316e+12</td>\n",
       "      <td>Janet Fitch</td>\n",
       "      <td>1999.0</td>\n",
       "      <td>White Oleander</td>\n",
       "      <td>...</td>\n",
       "      <td>254276</td>\n",
       "      <td>5960</td>\n",
       "      <td>3765</td>\n",
       "      <td>13598</td>\n",
       "      <td>60133</td>\n",
       "      <td>94893</td>\n",
       "      <td>81887</td>\n",
       "      <td>https://images.gr-assets.com/books/1501159524m...</td>\n",
       "      <td>https://images.gr-assets.com/books/1501159524s...</td>\n",
       "      <td>0</td>\n",
       "    </tr>\n",
       "    <tr>\n",
       "      <th>4</th>\n",
       "      <td>383</td>\n",
       "      <td>1241</td>\n",
       "      <td>1241</td>\n",
       "      <td>3140930</td>\n",
       "      <td>69</td>\n",
       "      <td>307276902</td>\n",
       "      <td>9.780307e+12</td>\n",
       "      <td>James Frey</td>\n",
       "      <td>2003.0</td>\n",
       "      <td>A Million Little Pieces</td>\n",
       "      <td>...</td>\n",
       "      <td>189931</td>\n",
       "      <td>10857</td>\n",
       "      <td>9619</td>\n",
       "      <td>18950</td>\n",
       "      <td>51504</td>\n",
       "      <td>63727</td>\n",
       "      <td>46131</td>\n",
       "      <td>https://images.gr-assets.com/books/1483206985m...</td>\n",
       "      <td>https://images.gr-assets.com/books/1483206985s...</td>\n",
       "      <td>0</td>\n",
       "    </tr>\n",
       "  </tbody>\n",
       "</table>\n",
       "<p>5 rows × 24 columns</p>\n",
       "</div>"
      ],
      "text/plain": [
       "   book_id  goodreads_book_id  best_book_id  work_id  books_count        isbn  \\\n",
       "0      150               4989          4989  1041558           80   312353766   \n",
       "1      233               9712          9712  3285349          347  140003468X   \n",
       "2      304             227711        227711  1191096           52    60987561   \n",
       "3      326              32234         32234  1223333           96   316182540   \n",
       "4      383               1241          1241  3140930           69   307276902   \n",
       "\n",
       "         isbn13                                 authors  \\\n",
       "0  9.780312e+12                           Anita Diamant   \n",
       "1  9.781400e+12  Gabriel García Márquez, Edith Grossman   \n",
       "2  9.780061e+12                              Wally Lamb   \n",
       "3  9.780316e+12                             Janet Fitch   \n",
       "4  9.780307e+12                              James Frey   \n",
       "\n",
       "   original_publication_year                     original_title  ...  \\\n",
       "0                     1997.0                       The Red Tent  ...   \n",
       "1                     1985.0  El amor en los tiempos del cólera  ...   \n",
       "2                     1998.0           I Know This Much Is True  ...   \n",
       "3                     1999.0                     White Oleander  ...   \n",
       "4                     2003.0            A Million Little Pieces  ...   \n",
       "\n",
       "  work_ratings_count work_text_reviews_count  ratings_1  ratings_2  ratings_3  \\\n",
       "0             449217                   17234       9470      19616      67878   \n",
       "1             323461                   15246      11450      23825      65668   \n",
       "2             257608                    7775       4430       9972      39899   \n",
       "3             254276                    5960       3765      13598      60133   \n",
       "4             189931                   10857       9619      18950      51504   \n",
       "\n",
       "   ratings_4  ratings_5                                          image_url  \\\n",
       "0     146178     206075  https://s.gr-assets.com/assets/nophoto/book/11...   \n",
       "1     110544     111974  https://images.gr-assets.com/books/1327124987m...   \n",
       "2      86909     116398  https://images.gr-assets.com/books/1373532198m...   \n",
       "3      94893      81887  https://images.gr-assets.com/books/1501159524m...   \n",
       "4      63727      46131  https://images.gr-assets.com/books/1483206985m...   \n",
       "\n",
       "                                     small_image_url  NonEnglish  \n",
       "0  https://s.gr-assets.com/assets/nophoto/book/50...           0  \n",
       "1  https://images.gr-assets.com/books/1327124987s...           0  \n",
       "2  https://images.gr-assets.com/books/1373532198s...           0  \n",
       "3  https://images.gr-assets.com/books/1501159524s...           0  \n",
       "4  https://images.gr-assets.com/books/1483206985s...           0  \n",
       "\n",
       "[5 rows x 24 columns]"
      ]
     },
     "execution_count": 241,
     "metadata": {},
     "output_type": "execute_result"
    }
   ],
   "source": [
    "books.head(5)"
   ]
  },
  {
   "cell_type": "markdown",
   "id": "683eecbe-4e1e-41cf-aace-2dc22c4c30f0",
   "metadata": {},
   "source": [
    "## How many books do not have an original title [books.csv] ? N"
   ]
  },
  {
   "cell_type": "code",
   "execution_count": 242,
   "id": "46a98bc3-4f9b-429d-b84a-cf19fb5fdbed",
   "metadata": {},
   "outputs": [
    {
     "data": {
      "text/plain": [
       "45"
      ]
     },
     "execution_count": 242,
     "metadata": {},
     "output_type": "execute_result"
    }
   ],
   "source": [
    "books.original_title.isna().sum()"
   ]
  },
  {
   "cell_type": "code",
   "execution_count": 243,
   "id": "1d6f50ec-a3d3-4e9b-b45a-3fcb287d8e93",
   "metadata": {},
   "outputs": [],
   "source": [
    "dropped_book_rows = books[books.original_title.isna()][['goodreads_book_id','best_book_id','book_id']]\n",
    "books=books[~books.original_title.isna()]"
   ]
  },
  {
   "cell_type": "code",
   "execution_count": 244,
   "id": "27f3baa7-2883-435a-8c12-c2328e69ed84",
   "metadata": {},
   "outputs": [],
   "source": [
    "# clean from ratings, book_tags, toread\n",
    "ratings=ratings[~ratings.book_id.isin(dropped_book_rows.book_id)]\n",
    "book_tags=book_tags[~book_tags.goodreads_book_id.isin(dropped_book_rows.goodreads_book_id)]\n",
    "toread=toread[~toread.book_id.isin(dropped_book_rows.book_id)]"
   ]
  },
  {
   "cell_type": "markdown",
   "id": "7b0ace77-6493-4b32-b829-734083060ffd",
   "metadata": {},
   "source": [
    "## How many unique books are present in the dataset ? Evaluate based on the 'book_id' [books.csv] N"
   ]
  },
  {
   "cell_type": "code",
   "execution_count": 245,
   "id": "1df7e19a-068e-4871-b82b-4fddd647102a",
   "metadata": {},
   "outputs": [
    {
     "data": {
      "text/plain": [
       "502"
      ]
     },
     "execution_count": 245,
     "metadata": {},
     "output_type": "execute_result"
    }
   ],
   "source": [
    "books.goodreads_book_id.unique().shape[0]"
   ]
  },
  {
   "cell_type": "markdown",
   "id": "23958cea-cdf5-4f7a-9d5c-d662bdfcf332",
   "metadata": {},
   "source": [
    "## How many unique users are present in the dataset [ratings.csv] ? N"
   ]
  },
  {
   "cell_type": "code",
   "execution_count": 246,
   "id": "85312970-994e-42bc-8fb8-af57f130f943",
   "metadata": {},
   "outputs": [
    {
     "data": {
      "text/html": [
       "<div>\n",
       "<style scoped>\n",
       "    .dataframe tbody tr th:only-of-type {\n",
       "        vertical-align: middle;\n",
       "    }\n",
       "\n",
       "    .dataframe tbody tr th {\n",
       "        vertical-align: top;\n",
       "    }\n",
       "\n",
       "    .dataframe thead th {\n",
       "        text-align: right;\n",
       "    }\n",
       "</style>\n",
       "<table border=\"1\" class=\"dataframe\">\n",
       "  <thead>\n",
       "    <tr style=\"text-align: right;\">\n",
       "      <th></th>\n",
       "      <th>user_id</th>\n",
       "      <th>book_id</th>\n",
       "      <th>rating</th>\n",
       "    </tr>\n",
       "  </thead>\n",
       "  <tbody>\n",
       "    <tr>\n",
       "      <th>1</th>\n",
       "      <td>9</td>\n",
       "      <td>2193</td>\n",
       "      <td>2</td>\n",
       "    </tr>\n",
       "    <tr>\n",
       "      <th>2</th>\n",
       "      <td>9</td>\n",
       "      <td>1301</td>\n",
       "      <td>2</td>\n",
       "    </tr>\n",
       "  </tbody>\n",
       "</table>\n",
       "</div>"
      ],
      "text/plain": [
       "   user_id  book_id  rating\n",
       "1        9     2193       2\n",
       "2        9     1301       2"
      ]
     },
     "execution_count": 246,
     "metadata": {},
     "output_type": "execute_result"
    }
   ],
   "source": [
    "ratings.head(2)"
   ]
  },
  {
   "cell_type": "code",
   "execution_count": 247,
   "id": "d9cdf737-2dd8-47a8-9768-9cdab61a2917",
   "metadata": {},
   "outputs": [
    {
     "data": {
      "text/plain": [
       "41511"
      ]
     },
     "execution_count": 247,
     "metadata": {},
     "output_type": "execute_result"
    }
   ],
   "source": [
    "ratings.user_id.unique().shape[0]"
   ]
  },
  {
   "cell_type": "markdown",
   "id": "8c07020a-26a2-4181-8137-69765e4af2f4",
   "metadata": {},
   "source": [
    "## Which book (title) has the maximum number of ratings based on ‘work_ratings_count’  [books.csv] ? S"
   ]
  },
  {
   "cell_type": "code",
   "execution_count": 248,
   "id": "e42e3100-16de-46a7-a372-58b302777394",
   "metadata": {},
   "outputs": [
    {
     "data": {
      "text/plain": [
       "'The Red Tent'"
      ]
     },
     "execution_count": 248,
     "metadata": {},
     "output_type": "execute_result"
    }
   ],
   "source": [
    "max_ratings_count = books.work_ratings_count.max()\n",
    "books[books.work_ratings_count == max_ratings_count].reset_index()['title'][0]"
   ]
  },
  {
   "cell_type": "markdown",
   "id": "3f8ef473-a0d2-4a5e-8cd4-75b28338ab9b",
   "metadata": {},
   "source": [
    "## Which tag_id is the most frequently used ie. mapped with the highest number of books [book_tags.csv] ? (In case of more than one tag, mention the tag id with the least numerical value) N"
   ]
  },
  {
   "cell_type": "code",
   "execution_count": 249,
   "id": "38a60548-3b12-4930-b576-6958f92124f3",
   "metadata": {},
   "outputs": [
    {
     "data": {
      "text/html": [
       "<div>\n",
       "<style scoped>\n",
       "    .dataframe tbody tr th:only-of-type {\n",
       "        vertical-align: middle;\n",
       "    }\n",
       "\n",
       "    .dataframe tbody tr th {\n",
       "        vertical-align: top;\n",
       "    }\n",
       "\n",
       "    .dataframe thead th {\n",
       "        text-align: right;\n",
       "    }\n",
       "</style>\n",
       "<table border=\"1\" class=\"dataframe\">\n",
       "  <thead>\n",
       "    <tr style=\"text-align: right;\">\n",
       "      <th></th>\n",
       "      <th>goodreads_book_id</th>\n",
       "      <th>tag_id</th>\n",
       "      <th>count</th>\n",
       "    </tr>\n",
       "  </thead>\n",
       "  <tbody>\n",
       "    <tr>\n",
       "      <th>100</th>\n",
       "      <td>264</td>\n",
       "      <td>7457</td>\n",
       "      <td>2632</td>\n",
       "    </tr>\n",
       "    <tr>\n",
       "      <th>101</th>\n",
       "      <td>264</td>\n",
       "      <td>11743</td>\n",
       "      <td>1053</td>\n",
       "    </tr>\n",
       "  </tbody>\n",
       "</table>\n",
       "</div>"
      ],
      "text/plain": [
       "     goodreads_book_id  tag_id  count\n",
       "100                264    7457   2632\n",
       "101                264   11743   1053"
      ]
     },
     "execution_count": 249,
     "metadata": {},
     "output_type": "execute_result"
    }
   ],
   "source": [
    "book_tags.head(2)"
   ]
  },
  {
   "cell_type": "code",
   "execution_count": 250,
   "id": "8783a3b9-b2a8-423d-9ef0-d4027f137228",
   "metadata": {},
   "outputs": [
    {
     "data": {
      "text/plain": [
       "30574"
      ]
     },
     "execution_count": 250,
     "metadata": {},
     "output_type": "execute_result"
    }
   ],
   "source": [
    "book_tags[['tag_id','count']].groupby('tag_id').sum().reset_index().sort_values(['count'], ascending=False)[:1]['tag_id'].values[0]"
   ]
  },
  {
   "cell_type": "markdown",
   "id": "78b27e7b-6fb4-4831-98e3-54166451022c",
   "metadata": {},
   "source": [
    "- Which book (title) has the most number of counts of tags given by the user [book_tags.csv,books.csv]  ? S\n",
    "- Which book (goodreads_book_id) is marked as to-read by most users [books.csv,toread.csv] ? N\n",
    "- Which is the least used tag, i.e. mapped with the lowest number of books [book_tags.csv]   ? (In case of more than one tag, mention the tag id with the least numerical value)  N\n",
    "- Which book (title) has the minimum ‘average_rating’  [books.csv] ? S\n",
    "- Which book (goodreads_book_id) has the least number of count of tags given by the user  [book_tags.csv,books.csv] ? N\n",
    "- How many tags are there in the dataset [book_tags.csv]  ? N\n",
    "- What is the average rating of all the books in the dataset based on ‘average_rating’  [books.csv]  ? N\n",
    "- Find the number of books published in the year ‘2000’ based on the ‘original_publication_year’ [books.csv] ? N\n",
    "- Predict sentiment using Textblob. How many positive titles (title) are there [books.csv] ? (cut-off >0) N\n",
    "(3 marks)"
   ]
  },
  {
   "cell_type": "markdown",
   "id": "52c7b255-9c59-45b7-b13c-2cefbdbe1ff0",
   "metadata": {},
   "source": [
    "## Which book (title) has the most number of counts of tags given by the user [book_tags.csv,books.csv]  ? S"
   ]
  },
  {
   "cell_type": "code",
   "execution_count": 251,
   "id": "d71dbdc7-fde2-44ef-95f8-1b91457ef841",
   "metadata": {},
   "outputs": [
    {
     "data": {
      "text/html": [
       "<div>\n",
       "<style scoped>\n",
       "    .dataframe tbody tr th:only-of-type {\n",
       "        vertical-align: middle;\n",
       "    }\n",
       "\n",
       "    .dataframe tbody tr th {\n",
       "        vertical-align: top;\n",
       "    }\n",
       "\n",
       "    .dataframe thead th {\n",
       "        text-align: right;\n",
       "    }\n",
       "</style>\n",
       "<table border=\"1\" class=\"dataframe\">\n",
       "  <thead>\n",
       "    <tr style=\"text-align: right;\">\n",
       "      <th></th>\n",
       "      <th>book_id</th>\n",
       "      <th>goodreads_book_id</th>\n",
       "      <th>best_book_id</th>\n",
       "      <th>work_id</th>\n",
       "      <th>books_count</th>\n",
       "      <th>isbn</th>\n",
       "      <th>isbn13</th>\n",
       "      <th>authors</th>\n",
       "      <th>original_publication_year</th>\n",
       "      <th>original_title</th>\n",
       "      <th>...</th>\n",
       "      <th>work_ratings_count</th>\n",
       "      <th>work_text_reviews_count</th>\n",
       "      <th>ratings_1</th>\n",
       "      <th>ratings_2</th>\n",
       "      <th>ratings_3</th>\n",
       "      <th>ratings_4</th>\n",
       "      <th>ratings_5</th>\n",
       "      <th>image_url</th>\n",
       "      <th>small_image_url</th>\n",
       "      <th>NonEnglish</th>\n",
       "    </tr>\n",
       "  </thead>\n",
       "  <tbody>\n",
       "    <tr>\n",
       "      <th>0</th>\n",
       "      <td>150</td>\n",
       "      <td>4989</td>\n",
       "      <td>4989</td>\n",
       "      <td>1041558</td>\n",
       "      <td>80</td>\n",
       "      <td>312353766</td>\n",
       "      <td>9.780312e+12</td>\n",
       "      <td>Anita Diamant</td>\n",
       "      <td>1997.0</td>\n",
       "      <td>The Red Tent</td>\n",
       "      <td>...</td>\n",
       "      <td>449217</td>\n",
       "      <td>17234</td>\n",
       "      <td>9470</td>\n",
       "      <td>19616</td>\n",
       "      <td>67878</td>\n",
       "      <td>146178</td>\n",
       "      <td>206075</td>\n",
       "      <td>https://s.gr-assets.com/assets/nophoto/book/11...</td>\n",
       "      <td>https://s.gr-assets.com/assets/nophoto/book/50...</td>\n",
       "      <td>0</td>\n",
       "    </tr>\n",
       "  </tbody>\n",
       "</table>\n",
       "<p>1 rows × 24 columns</p>\n",
       "</div>"
      ],
      "text/plain": [
       "   book_id  goodreads_book_id  best_book_id  work_id  books_count       isbn  \\\n",
       "0      150               4989          4989  1041558           80  312353766   \n",
       "\n",
       "         isbn13        authors  original_publication_year original_title  ...  \\\n",
       "0  9.780312e+12  Anita Diamant                     1997.0   The Red Tent  ...   \n",
       "\n",
       "  work_ratings_count work_text_reviews_count  ratings_1  ratings_2  ratings_3  \\\n",
       "0             449217                   17234       9470      19616      67878   \n",
       "\n",
       "   ratings_4  ratings_5                                          image_url  \\\n",
       "0     146178     206075  https://s.gr-assets.com/assets/nophoto/book/11...   \n",
       "\n",
       "                                     small_image_url  NonEnglish  \n",
       "0  https://s.gr-assets.com/assets/nophoto/book/50...           0  \n",
       "\n",
       "[1 rows x 24 columns]"
      ]
     },
     "execution_count": 251,
     "metadata": {},
     "output_type": "execute_result"
    }
   ],
   "source": [
    "books.head(1)"
   ]
  },
  {
   "cell_type": "code",
   "execution_count": 252,
   "id": "f8b9591d-21b1-424b-b0b0-e1b3eb1f3414",
   "metadata": {},
   "outputs": [
    {
     "data": {
      "text/html": [
       "<div>\n",
       "<style scoped>\n",
       "    .dataframe tbody tr th:only-of-type {\n",
       "        vertical-align: middle;\n",
       "    }\n",
       "\n",
       "    .dataframe tbody tr th {\n",
       "        vertical-align: top;\n",
       "    }\n",
       "\n",
       "    .dataframe thead th {\n",
       "        text-align: right;\n",
       "    }\n",
       "</style>\n",
       "<table border=\"1\" class=\"dataframe\">\n",
       "  <thead>\n",
       "    <tr style=\"text-align: right;\">\n",
       "      <th></th>\n",
       "      <th>goodreads_book_id</th>\n",
       "      <th>tag_id</th>\n",
       "      <th>count</th>\n",
       "    </tr>\n",
       "  </thead>\n",
       "  <tbody>\n",
       "    <tr>\n",
       "      <th>100</th>\n",
       "      <td>264</td>\n",
       "      <td>7457</td>\n",
       "      <td>2632</td>\n",
       "    </tr>\n",
       "  </tbody>\n",
       "</table>\n",
       "</div>"
      ],
      "text/plain": [
       "     goodreads_book_id  tag_id  count\n",
       "100                264    7457   2632"
      ]
     },
     "execution_count": 252,
     "metadata": {},
     "output_type": "execute_result"
    }
   ],
   "source": [
    "book_tags.head(1)"
   ]
  },
  {
   "cell_type": "code",
   "execution_count": 253,
   "id": "d343921a-eb27-495b-b4a2-e2ce948d3c67",
   "metadata": {},
   "outputs": [
    {
     "data": {
      "text/plain": [
       "{'goodreads_book_id'}"
      ]
     },
     "execution_count": 253,
     "metadata": {},
     "output_type": "execute_result"
    }
   ],
   "source": [
    "set(books.columns) & set(book_tags.columns)"
   ]
  },
  {
   "cell_type": "code",
   "execution_count": 254,
   "id": "c641064e-4e2b-40ff-9114-3c1cff9bbbe9",
   "metadata": {},
   "outputs": [
    {
     "data": {
      "text/html": [
       "<div>\n",
       "<style scoped>\n",
       "    .dataframe tbody tr th:only-of-type {\n",
       "        vertical-align: middle;\n",
       "    }\n",
       "\n",
       "    .dataframe tbody tr th {\n",
       "        vertical-align: top;\n",
       "    }\n",
       "\n",
       "    .dataframe thead th {\n",
       "        text-align: right;\n",
       "    }\n",
       "</style>\n",
       "<table border=\"1\" class=\"dataframe\">\n",
       "  <thead>\n",
       "    <tr style=\"text-align: right;\">\n",
       "      <th></th>\n",
       "      <th>goodreads_book_id</th>\n",
       "      <th>book_id</th>\n",
       "      <th>goodreads_book_id_b</th>\n",
       "      <th>best_book_id</th>\n",
       "      <th>work_id</th>\n",
       "      <th>books_count</th>\n",
       "      <th>isbn</th>\n",
       "      <th>isbn13</th>\n",
       "      <th>authors</th>\n",
       "      <th>original_publication_year</th>\n",
       "      <th>...</th>\n",
       "      <th>ratings_2</th>\n",
       "      <th>ratings_3</th>\n",
       "      <th>ratings_4</th>\n",
       "      <th>ratings_5</th>\n",
       "      <th>image_url</th>\n",
       "      <th>small_image_url</th>\n",
       "      <th>NonEnglish</th>\n",
       "      <th>goodreads_book_id_bt</th>\n",
       "      <th>tag_id</th>\n",
       "      <th>count</th>\n",
       "    </tr>\n",
       "  </thead>\n",
       "  <tbody>\n",
       "    <tr>\n",
       "      <th>0</th>\n",
       "      <td>4989</td>\n",
       "      <td>150</td>\n",
       "      <td>4989</td>\n",
       "      <td>4989</td>\n",
       "      <td>1041558</td>\n",
       "      <td>80</td>\n",
       "      <td>312353766</td>\n",
       "      <td>9.780312e+12</td>\n",
       "      <td>Anita Diamant</td>\n",
       "      <td>1997.0</td>\n",
       "      <td>...</td>\n",
       "      <td>19616</td>\n",
       "      <td>67878</td>\n",
       "      <td>146178</td>\n",
       "      <td>206075</td>\n",
       "      <td>https://s.gr-assets.com/assets/nophoto/book/11...</td>\n",
       "      <td>https://s.gr-assets.com/assets/nophoto/book/50...</td>\n",
       "      <td>0</td>\n",
       "      <td>7354</td>\n",
       "      <td>30766</td>\n",
       "      <td>19</td>\n",
       "    </tr>\n",
       "  </tbody>\n",
       "</table>\n",
       "<p>1 rows × 28 columns</p>\n",
       "</div>"
      ],
      "text/plain": [
       "   goodreads_book_id  book_id  goodreads_book_id_b  best_book_id  work_id  \\\n",
       "0               4989      150                 4989          4989  1041558   \n",
       "\n",
       "   books_count       isbn        isbn13        authors  \\\n",
       "0           80  312353766  9.780312e+12  Anita Diamant   \n",
       "\n",
       "   original_publication_year  ... ratings_2 ratings_3 ratings_4  ratings_5  \\\n",
       "0                     1997.0  ...     19616     67878    146178     206075   \n",
       "\n",
       "                                           image_url  \\\n",
       "0  https://s.gr-assets.com/assets/nophoto/book/11...   \n",
       "\n",
       "                                     small_image_url  NonEnglish  \\\n",
       "0  https://s.gr-assets.com/assets/nophoto/book/50...           0   \n",
       "\n",
       "   goodreads_book_id_bt  tag_id  count  \n",
       "0                  7354   30766     19  \n",
       "\n",
       "[1 rows x 28 columns]"
      ]
     },
     "execution_count": 254,
     "metadata": {},
     "output_type": "execute_result"
    }
   ],
   "source": [
    "books_and_tags = books.join(book_tags, on='goodreads_book_id', how='inner', lsuffix='_b', rsuffix='_bt', sort=False)\n",
    "books_and_tags.head(1)"
   ]
  },
  {
   "cell_type": "code",
   "execution_count": 255,
   "id": "4676fca2-c48f-4dca-a9c7-63d9af5cd439",
   "metadata": {},
   "outputs": [
    {
     "data": {
      "text/plain": [
       "Index(['goodreads_book_id', 'book_id', 'goodreads_book_id_b', 'best_book_id',\n",
       "       'work_id', 'books_count', 'isbn', 'isbn13', 'authors',\n",
       "       'original_publication_year', 'original_title', 'title', 'language_code',\n",
       "       'average_rating', 'ratings_count', 'work_ratings_count',\n",
       "       'work_text_reviews_count', 'ratings_1', 'ratings_2', 'ratings_3',\n",
       "       'ratings_4', 'ratings_5', 'image_url', 'small_image_url', 'NonEnglish',\n",
       "       'goodreads_book_id_bt', 'tag_id', 'count'],\n",
       "      dtype='object')"
      ]
     },
     "execution_count": 255,
     "metadata": {},
     "output_type": "execute_result"
    }
   ],
   "source": [
    "books_and_tags.columns"
   ]
  },
  {
   "cell_type": "code",
   "execution_count": 256,
   "id": "7991fbf0-f459-4cdf-aabb-c98b887f4285",
   "metadata": {},
   "outputs": [
    {
     "data": {
      "text/plain": [
       "366    The Golden Notebook\n",
       "Name: title, dtype: object"
      ]
     },
     "execution_count": 256,
     "metadata": {},
     "output_type": "execute_result"
    }
   ],
   "source": [
    "books_and_tags[books_and_tags.goodreads_book_id_b==books_and_tags[['goodreads_book_id_b','count']].groupby('goodreads_book_id_b').sum().reset_index().sort_values(['count'], ascending=False)[:1]['goodreads_book_id_b'].values[0]]['title']"
   ]
  },
  {
   "cell_type": "code",
   "execution_count": 257,
   "id": "b678277a-b4b6-42bc-838d-73835cadda5b",
   "metadata": {},
   "outputs": [
    {
     "data": {
      "text/plain": [
       "'The Golden Notebook'"
      ]
     },
     "execution_count": 257,
     "metadata": {},
     "output_type": "execute_result"
    }
   ],
   "source": [
    "max_tag = books_and_tags['count'].max()\n",
    "books_and_tags[books_and_tags['count'] == max_tag].reset_index()['title'][0]"
   ]
  },
  {
   "cell_type": "markdown",
   "id": "168c4062-fab7-4dc6-83bd-b68706961121",
   "metadata": {},
   "source": [
    "## Which book (goodreads_book_id) is marked as to-read by most users [books.csv,toread.csv] ? N"
   ]
  },
  {
   "cell_type": "code",
   "execution_count": 258,
   "id": "f05b113a-8b2d-45b8-9327-e2980437eb25",
   "metadata": {},
   "outputs": [
    {
     "data": {
      "text/plain": [
       "9712"
      ]
     },
     "execution_count": 258,
     "metadata": {},
     "output_type": "execute_result"
    }
   ],
   "source": [
    "most_toread_bookid = toread[['user_id','book_id']].groupby('book_id').size().sort_values(ascending=False).index[0]\n",
    "books[books.book_id == most_toread_bookid].reset_index()['goodreads_book_id'][0]"
   ]
  },
  {
   "cell_type": "markdown",
   "id": "d7929eaf-0ce2-4ec0-9f23-1e92eb0ba32c",
   "metadata": {},
   "source": [
    "## Which is the least used tag, i.e. mapped with the lowest number of books [book_tags.csv]   ? (In case of more than one tag, mention the tag id with the least numerical value)  N"
   ]
  },
  {
   "cell_type": "code",
   "execution_count": 259,
   "id": "718525c0-ef2e-4cc5-87e5-f153f7c933e6",
   "metadata": {},
   "outputs": [
    {
     "data": {
      "text/plain": [
       "68"
      ]
     },
     "execution_count": 259,
     "metadata": {},
     "output_type": "execute_result"
    }
   ],
   "source": [
    "book_tags[['tag_id','count']].groupby('tag_id').sum().reset_index().sort_values(['count','tag_id'], ascending=True)[:1]['tag_id'].values[0]"
   ]
  },
  {
   "cell_type": "code",
   "execution_count": 260,
   "id": "739dbd81-c9e2-401b-88cf-41516f76eb54",
   "metadata": {},
   "outputs": [
    {
     "data": {
      "text/plain": [
       "68"
      ]
     },
     "execution_count": 260,
     "metadata": {},
     "output_type": "execute_result"
    }
   ],
   "source": [
    "min_count = book_tags['count'].min()\n",
    "book_tags[book_tags['count']==min_count].tag_id.min()"
   ]
  },
  {
   "cell_type": "markdown",
   "id": "565d8ecd-9738-41be-b333-6adc04d8fec0",
   "metadata": {},
   "source": [
    "## Which book (title) has the minimum ‘average_rating’  [books.csv] ? S"
   ]
  },
  {
   "cell_type": "code",
   "execution_count": 261,
   "id": "d7894d1f-342f-4041-9459-5bdeef858a2d",
   "metadata": {},
   "outputs": [
    {
     "data": {
      "text/plain": [
       "\"The Emperor's Children\""
      ]
     },
     "execution_count": 261,
     "metadata": {},
     "output_type": "execute_result"
    }
   ],
   "source": [
    "books[books.average_rating == books.average_rating.min()].reset_index()['title'][0]"
   ]
  },
  {
   "cell_type": "markdown",
   "id": "662f7988-13ab-49e2-88c6-a0908bffb97c",
   "metadata": {},
   "source": [
    "## Which book (goodreads_book_id) has the least number of count of tags given by the user [book_tags.csv,books.csv] ? N"
   ]
  },
  {
   "cell_type": "code",
   "execution_count": 262,
   "id": "5825edeb-b12f-42e8-8e67-aaf4441e3ca9",
   "metadata": {},
   "outputs": [
    {
     "data": {
      "text/plain": [
       "goodreads_book_id             0\n",
       "book_id                       0\n",
       "goodreads_book_id_b           0\n",
       "best_book_id                  0\n",
       "work_id                       0\n",
       "books_count                   0\n",
       "isbn                          0\n",
       "isbn13                        0\n",
       "authors                       0\n",
       "original_publication_year     0\n",
       "original_title                0\n",
       "title                         0\n",
       "language_code                26\n",
       "average_rating                0\n",
       "ratings_count                 0\n",
       "work_ratings_count            0\n",
       "work_text_reviews_count       0\n",
       "ratings_1                     0\n",
       "ratings_2                     0\n",
       "ratings_3                     0\n",
       "ratings_4                     0\n",
       "ratings_5                     0\n",
       "image_url                     0\n",
       "small_image_url               0\n",
       "NonEnglish                    0\n",
       "goodreads_book_id_bt          0\n",
       "tag_id                        0\n",
       "count                         0\n",
       "dtype: int64"
      ]
     },
     "execution_count": 262,
     "metadata": {},
     "output_type": "execute_result"
    }
   ],
   "source": [
    "books_and_tags.isna().sum()"
   ]
  },
  {
   "cell_type": "code",
   "execution_count": 263,
   "id": "d7bfca75-83e2-4b77-8ee8-1692e66b45f4",
   "metadata": {},
   "outputs": [
    {
     "data": {
      "text/html": [
       "<div>\n",
       "<style scoped>\n",
       "    .dataframe tbody tr th:only-of-type {\n",
       "        vertical-align: middle;\n",
       "    }\n",
       "\n",
       "    .dataframe tbody tr th {\n",
       "        vertical-align: top;\n",
       "    }\n",
       "\n",
       "    .dataframe thead th {\n",
       "        text-align: right;\n",
       "    }\n",
       "</style>\n",
       "<table border=\"1\" class=\"dataframe\">\n",
       "  <thead>\n",
       "    <tr style=\"text-align: right;\">\n",
       "      <th></th>\n",
       "      <th>goodreads_book_id_b</th>\n",
       "      <th>count</th>\n",
       "    </tr>\n",
       "  </thead>\n",
       "  <tbody>\n",
       "    <tr>\n",
       "      <th>5</th>\n",
       "      <td>1990</td>\n",
       "      <td>2</td>\n",
       "    </tr>\n",
       "    <tr>\n",
       "      <th>25</th>\n",
       "      <td>5084</td>\n",
       "      <td>2</td>\n",
       "    </tr>\n",
       "    <tr>\n",
       "      <th>48</th>\n",
       "      <td>7579</td>\n",
       "      <td>2</td>\n",
       "    </tr>\n",
       "    <tr>\n",
       "      <th>51</th>\n",
       "      <td>8155</td>\n",
       "      <td>2</td>\n",
       "    </tr>\n",
       "    <tr>\n",
       "      <th>91</th>\n",
       "      <td>15096</td>\n",
       "      <td>2</td>\n",
       "    </tr>\n",
       "    <tr>\n",
       "      <th>...</th>\n",
       "      <td>...</td>\n",
       "      <td>...</td>\n",
       "    </tr>\n",
       "    <tr>\n",
       "      <th>2</th>\n",
       "      <td>706</td>\n",
       "      <td>215</td>\n",
       "    </tr>\n",
       "    <tr>\n",
       "      <th>37</th>\n",
       "      <td>5204</td>\n",
       "      <td>220</td>\n",
       "    </tr>\n",
       "    <tr>\n",
       "      <th>57</th>\n",
       "      <td>9503</td>\n",
       "      <td>336</td>\n",
       "    </tr>\n",
       "    <tr>\n",
       "      <th>52</th>\n",
       "      <td>8600</td>\n",
       "      <td>3299</td>\n",
       "    </tr>\n",
       "    <tr>\n",
       "      <th>123</th>\n",
       "      <td>24100</td>\n",
       "      <td>3565</td>\n",
       "    </tr>\n",
       "  </tbody>\n",
       "</table>\n",
       "<p>180 rows × 2 columns</p>\n",
       "</div>"
      ],
      "text/plain": [
       "     goodreads_book_id_b  count\n",
       "5                   1990      2\n",
       "25                  5084      2\n",
       "48                  7579      2\n",
       "51                  8155      2\n",
       "91                 15096      2\n",
       "..                   ...    ...\n",
       "2                    706    215\n",
       "37                  5204    220\n",
       "57                  9503    336\n",
       "52                  8600   3299\n",
       "123                24100   3565\n",
       "\n",
       "[180 rows x 2 columns]"
      ]
     },
     "execution_count": 263,
     "metadata": {},
     "output_type": "execute_result"
    }
   ],
   "source": [
    "books_and_tags[['goodreads_book_id_b','count']].groupby('goodreads_book_id_b').sum().reset_index().sort_values(['count','goodreads_book_id_b'], ascending=True)"
   ]
  },
  {
   "cell_type": "code",
   "execution_count": 264,
   "id": "6fb95c36-7b4d-495b-9620-30888df383c1",
   "metadata": {},
   "outputs": [],
   "source": [
    "## sum and sort\n",
    "# book_tags['a_bsum'] = df.groupby('A')['B'].transform(sum)\n",
    "# df.sort(['a_bsum','C'], ascending=[True, False]).drop('a_bsum', axis=1)"
   ]
  },
  {
   "cell_type": "markdown",
   "id": "65efd003-c1b9-4bed-84e1-bc9fbd0c9fe4",
   "metadata": {},
   "source": [
    "## How many tags are there in the dataset [book_tags.csv] ? N"
   ]
  },
  {
   "cell_type": "code",
   "execution_count": 265,
   "id": "4339d720-3730-487e-a44d-9619f29c0777",
   "metadata": {},
   "outputs": [
    {
     "data": {
      "text/plain": [
       "5791"
      ]
     },
     "execution_count": 265,
     "metadata": {},
     "output_type": "execute_result"
    }
   ],
   "source": [
    "book_tags.tag_id.unique().shape[0]"
   ]
  },
  {
   "cell_type": "code",
   "execution_count": 266,
   "id": "5bb99630-f609-4671-85be-12830da81ed7",
   "metadata": {},
   "outputs": [
    {
     "data": {
      "text/plain": [
       "goodreads_book_id    0\n",
       "tag_id               0\n",
       "count                0\n",
       "dtype: int64"
      ]
     },
     "execution_count": 266,
     "metadata": {},
     "output_type": "execute_result"
    }
   ],
   "source": [
    "book_tags.isna().sum()"
   ]
  },
  {
   "cell_type": "markdown",
   "id": "c0e05648-faac-4ea5-aa62-0ac0403fb429",
   "metadata": {},
   "source": [
    "## What is the average rating of all the books in the dataset based on ‘average_rating’  [books.csv]  ? N"
   ]
  },
  {
   "cell_type": "code",
   "execution_count": 267,
   "id": "03fb0d4c-9015-4b25-bbe6-108f48576994",
   "metadata": {},
   "outputs": [
    {
     "data": {
      "text/plain": [
       "3.8631075697211155"
      ]
     },
     "execution_count": 267,
     "metadata": {},
     "output_type": "execute_result"
    }
   ],
   "source": [
    "books.fillna(0).average_rating.mean()"
   ]
  },
  {
   "cell_type": "markdown",
   "id": "907cbe71-c43b-4c9c-bc5c-21df6c55675a",
   "metadata": {},
   "source": [
    "## Find the number of books published in the year ‘2000’ based on the ‘original_publication_year’ [books.csv] ? N"
   ]
  },
  {
   "cell_type": "code",
   "execution_count": 268,
   "id": "d3e5517b-0297-4980-bfb4-3e367ad63e60",
   "metadata": {},
   "outputs": [
    {
     "data": {
      "text/plain": [
       "11"
      ]
     },
     "execution_count": 268,
     "metadata": {},
     "output_type": "execute_result"
    }
   ],
   "source": [
    "books[books.original_publication_year == 2000].shape[0]"
   ]
  },
  {
   "cell_type": "markdown",
   "id": "53560417-9d98-4705-a5f2-3b23a7cbaada",
   "metadata": {},
   "source": [
    "## Predict sentiment using Textblob. How many positive titles (title) are there [books.csv] ? (cut-off >0) N"
   ]
  },
  {
   "cell_type": "code",
   "execution_count": 269,
   "id": "4001d607-9038-489b-8618-f9bd44b24b9c",
   "metadata": {},
   "outputs": [
    {
     "data": {
      "text/plain": [
       "0                                           The Red Tent\n",
       "1                            Love in the Time of Cholera\n",
       "2                               I Know This Much Is True\n",
       "3                                         White Oleander\n",
       "4                                A Million Little Pieces\n",
       "                             ...                        \n",
       "541    The Discoverers: A History of Man's Search to ...\n",
       "542                           A Coney Island of the Mind\n",
       "543                                       Thirteen Moons\n",
       "544                                          Big Brother\n",
       "545               The Girl with No Shadow (Chocolat, #2)\n",
       "Name: title, Length: 502, dtype: object"
      ]
     },
     "execution_count": 269,
     "metadata": {},
     "output_type": "execute_result"
    }
   ],
   "source": [
    "books.title"
   ]
  },
  {
   "cell_type": "code",
   "execution_count": 270,
   "id": "97c4be62-fed1-405d-ace5-aef0bdc6f6e8",
   "metadata": {},
   "outputs": [
    {
     "name": "stdout",
     "output_type": "stream",
     "text": [
      "Requirement already satisfied: textblob in c:\\users\\91637\\anaconda3\\lib\\site-packages (0.17.1)Note: you may need to restart the kernel to use updated packages.\n",
      "\n",
      "Requirement already satisfied: nltk>=3.1 in c:\\users\\91637\\anaconda3\\lib\\site-packages (from textblob) (3.7)\n",
      "Requirement already satisfied: click in c:\\users\\91637\\anaconda3\\lib\\site-packages (from nltk>=3.1->textblob) (8.0.4)\n",
      "Requirement already satisfied: regex>=2021.8.3 in c:\\users\\91637\\anaconda3\\lib\\site-packages (from nltk>=3.1->textblob) (2022.3.15)\n",
      "Requirement already satisfied: joblib in c:\\users\\91637\\anaconda3\\lib\\site-packages (from nltk>=3.1->textblob) (1.1.0)\n",
      "Requirement already satisfied: tqdm in c:\\users\\91637\\anaconda3\\lib\\site-packages (from nltk>=3.1->textblob) (4.64.0)\n",
      "Requirement already satisfied: colorama in c:\\users\\91637\\anaconda3\\lib\\site-packages (from click->nltk>=3.1->textblob) (0.4.4)\n"
     ]
    }
   ],
   "source": [
    "pip install textblob"
   ]
  },
  {
   "cell_type": "code",
   "execution_count": 271,
   "id": "95e78e32-b34c-47c9-98df-afa891cff2fe",
   "metadata": {},
   "outputs": [],
   "source": [
    "from textblob import TextBlob\n",
    "\n",
    "books['polarity'] = books.title.map(lambda x: TextBlob(x).sentiment.polarity)"
   ]
  },
  {
   "cell_type": "code",
   "execution_count": 272,
   "id": "c5e7d5f0-1190-4b08-a241-97f0e40ff36a",
   "metadata": {},
   "outputs": [
    {
     "data": {
      "text/plain": [
       "62"
      ]
     },
     "execution_count": 272,
     "metadata": {},
     "output_type": "execute_result"
    }
   ],
   "source": [
    "books[books.polarity > 0].shape[0]"
   ]
  },
  {
   "cell_type": "markdown",
   "id": "9752bdf5-b654-4fe7-b60b-3c084e755b4e",
   "metadata": {},
   "source": [
    "### Checking negative polarity titles"
   ]
  },
  {
   "cell_type": "code",
   "execution_count": 273,
   "id": "fe6c2720-7a2f-4cf8-b223-b6cc9cd449e7",
   "metadata": {},
   "outputs": [
    {
     "data": {
      "text/html": [
       "<div>\n",
       "<style scoped>\n",
       "    .dataframe tbody tr th:only-of-type {\n",
       "        vertical-align: middle;\n",
       "    }\n",
       "\n",
       "    .dataframe tbody tr th {\n",
       "        vertical-align: top;\n",
       "    }\n",
       "\n",
       "    .dataframe thead th {\n",
       "        text-align: right;\n",
       "    }\n",
       "</style>\n",
       "<table border=\"1\" class=\"dataframe\">\n",
       "  <thead>\n",
       "    <tr style=\"text-align: right;\">\n",
       "      <th></th>\n",
       "      <th>title</th>\n",
       "      <th>polarity</th>\n",
       "    </tr>\n",
       "  </thead>\n",
       "  <tbody>\n",
       "    <tr>\n",
       "      <th>0</th>\n",
       "      <td>The Red Tent</td>\n",
       "      <td>0.0000</td>\n",
       "    </tr>\n",
       "    <tr>\n",
       "      <th>3</th>\n",
       "      <td>White Oleander</td>\n",
       "      <td>0.0000</td>\n",
       "    </tr>\n",
       "    <tr>\n",
       "      <th>4</th>\n",
       "      <td>A Million Little Pieces</td>\n",
       "      <td>-0.1875</td>\n",
       "    </tr>\n",
       "    <tr>\n",
       "      <th>5</th>\n",
       "      <td>Little Bee</td>\n",
       "      <td>-0.1875</td>\n",
       "    </tr>\n",
       "    <tr>\n",
       "      <th>8</th>\n",
       "      <td>Insomnia</td>\n",
       "      <td>0.0000</td>\n",
       "    </tr>\n",
       "    <tr>\n",
       "      <th>9</th>\n",
       "      <td>The Shipping News</td>\n",
       "      <td>0.0000</td>\n",
       "    </tr>\n",
       "    <tr>\n",
       "      <th>10</th>\n",
       "      <td>America (The Book): A Citizen's Guide to Democ...</td>\n",
       "      <td>0.0000</td>\n",
       "    </tr>\n",
       "    <tr>\n",
       "      <th>11</th>\n",
       "      <td>We Were the Mulvaneys</td>\n",
       "      <td>0.0000</td>\n",
       "    </tr>\n",
       "    <tr>\n",
       "      <th>12</th>\n",
       "      <td>Stones from the River</td>\n",
       "      <td>0.0000</td>\n",
       "    </tr>\n",
       "    <tr>\n",
       "      <th>13</th>\n",
       "      <td>The Birth of Venus</td>\n",
       "      <td>0.0000</td>\n",
       "    </tr>\n",
       "  </tbody>\n",
       "</table>\n",
       "</div>"
      ],
      "text/plain": [
       "                                                title  polarity\n",
       "0                                        The Red Tent    0.0000\n",
       "3                                      White Oleander    0.0000\n",
       "4                             A Million Little Pieces   -0.1875\n",
       "5                                          Little Bee   -0.1875\n",
       "8                                            Insomnia    0.0000\n",
       "9                                   The Shipping News    0.0000\n",
       "10  America (The Book): A Citizen's Guide to Democ...    0.0000\n",
       "11                              We Were the Mulvaneys    0.0000\n",
       "12                              Stones from the River    0.0000\n",
       "13                                 The Birth of Venus    0.0000"
      ]
     },
     "execution_count": 273,
     "metadata": {},
     "output_type": "execute_result"
    }
   ],
   "source": [
    "books[books.polarity<=0][['title','polarity']].head(10)"
   ]
  },
  {
   "cell_type": "markdown",
   "id": "3d29a4fd-6a5d-4317-a1e4-cacf0d820ff0",
   "metadata": {},
   "source": [
    "## Graph Questions"
   ]
  },
  {
   "cell_type": "markdown",
   "id": "51734eeb-5bee-4899-985d-0c567f9d8c4d",
   "metadata": {},
   "source": [
    "- Plot a bar chart in Flourish with top 20 unique tags  in descending order of ‘user records’ (the number of users tagged the given tag_id with the goodreads_book_id) [book_tags.csv] and share the published link.\n",
    "(2 marks)\n"
   ]
  },
  {
   "cell_type": "code",
   "execution_count": 274,
   "id": "e69a164e-b26e-468e-9182-24b8ebedd7b7",
   "metadata": {},
   "outputs": [],
   "source": [
    "top20_tags = book_tags.sort_values(by='count',ascending=False)[:20]"
   ]
  },
  {
   "cell_type": "code",
   "execution_count": 275,
   "id": "6c7582a2-3065-41c3-acb6-7e3bfef59eda",
   "metadata": {},
   "outputs": [],
   "source": [
    "top20_tags['goodread_book_id:tag_id']=top20_tags['goodreads_book_id'].map(str, na_action=None) + ' : '+top20_tags['tag_id'].map(str, na_action=None)"
   ]
  },
  {
   "cell_type": "code",
   "execution_count": 276,
   "id": "5d5c22ac-3e2a-4c65-a726-07b6afc6c7cd",
   "metadata": {},
   "outputs": [
    {
     "data": {
      "text/html": [
       "<div>\n",
       "<style scoped>\n",
       "    .dataframe tbody tr th:only-of-type {\n",
       "        vertical-align: middle;\n",
       "    }\n",
       "\n",
       "    .dataframe tbody tr th {\n",
       "        vertical-align: top;\n",
       "    }\n",
       "\n",
       "    .dataframe thead th {\n",
       "        text-align: right;\n",
       "    }\n",
       "</style>\n",
       "<table border=\"1\" class=\"dataframe\">\n",
       "  <thead>\n",
       "    <tr style=\"text-align: right;\">\n",
       "      <th></th>\n",
       "      <th>goodread_book_id:tag_id</th>\n",
       "      <th>count</th>\n",
       "    </tr>\n",
       "  </thead>\n",
       "  <tbody>\n",
       "    <tr>\n",
       "      <th>49400</th>\n",
       "      <td>17333230 : 30574</td>\n",
       "      <td>95761</td>\n",
       "    </tr>\n",
       "    <tr>\n",
       "      <th>10700</th>\n",
       "      <td>17184 : 30574</td>\n",
       "      <td>85003</td>\n",
       "    </tr>\n",
       "    <tr>\n",
       "      <th>7400</th>\n",
       "      <td>11366 : 30574</td>\n",
       "      <td>57674</td>\n",
       "    </tr>\n",
       "    <tr>\n",
       "      <th>8700</th>\n",
       "      <td>13912 : 30574</td>\n",
       "      <td>55760</td>\n",
       "    </tr>\n",
       "    <tr>\n",
       "      <th>51300</th>\n",
       "      <td>18505784 : 30574</td>\n",
       "      <td>51590</td>\n",
       "    </tr>\n",
       "    <tr>\n",
       "      <th>48600</th>\n",
       "      <td>16138688 : 30574</td>\n",
       "      <td>51112</td>\n",
       "    </tr>\n",
       "    <tr>\n",
       "      <th>5500</th>\n",
       "      <td>8600 : 30574</td>\n",
       "      <td>47823</td>\n",
       "    </tr>\n",
       "    <tr>\n",
       "      <th>27600</th>\n",
       "      <td>227711 : 30574</td>\n",
       "      <td>45736</td>\n",
       "    </tr>\n",
       "    <tr>\n",
       "      <th>50700</th>\n",
       "      <td>18170143 : 30574</td>\n",
       "      <td>44538</td>\n",
       "    </tr>\n",
       "    <tr>\n",
       "      <th>37500</th>\n",
       "      <td>3147367 : 30574</td>\n",
       "      <td>42797</td>\n",
       "    </tr>\n",
       "    <tr>\n",
       "      <th>33000</th>\n",
       "      <td>597790 : 30574</td>\n",
       "      <td>39427</td>\n",
       "    </tr>\n",
       "    <tr>\n",
       "      <th>31900</th>\n",
       "      <td>426775 : 30574</td>\n",
       "      <td>37584</td>\n",
       "    </tr>\n",
       "    <tr>\n",
       "      <th>53700</th>\n",
       "      <td>25279165 : 30574</td>\n",
       "      <td>37124</td>\n",
       "    </tr>\n",
       "    <tr>\n",
       "      <th>33900</th>\n",
       "      <td>835623 : 30574</td>\n",
       "      <td>36683</td>\n",
       "    </tr>\n",
       "    <tr>\n",
       "      <th>300</th>\n",
       "      <td>706 : 30574</td>\n",
       "      <td>36492</td>\n",
       "    </tr>\n",
       "    <tr>\n",
       "      <th>46400</th>\n",
       "      <td>13540215 : 30574</td>\n",
       "      <td>35903</td>\n",
       "    </tr>\n",
       "    <tr>\n",
       "      <th>53500</th>\n",
       "      <td>24228353 : 30574</td>\n",
       "      <td>34863</td>\n",
       "    </tr>\n",
       "    <tr>\n",
       "      <th>16800</th>\n",
       "      <td>38296 : 30574</td>\n",
       "      <td>34663</td>\n",
       "    </tr>\n",
       "    <tr>\n",
       "      <th>44100</th>\n",
       "      <td>10790290 : 30574</td>\n",
       "      <td>34059</td>\n",
       "    </tr>\n",
       "    <tr>\n",
       "      <th>19100</th>\n",
       "      <td>54499 : 30574</td>\n",
       "      <td>33325</td>\n",
       "    </tr>\n",
       "  </tbody>\n",
       "</table>\n",
       "</div>"
      ],
      "text/plain": [
       "      goodread_book_id:tag_id  count\n",
       "49400        17333230 : 30574  95761\n",
       "10700           17184 : 30574  85003\n",
       "7400            11366 : 30574  57674\n",
       "8700            13912 : 30574  55760\n",
       "51300        18505784 : 30574  51590\n",
       "48600        16138688 : 30574  51112\n",
       "5500             8600 : 30574  47823\n",
       "27600          227711 : 30574  45736\n",
       "50700        18170143 : 30574  44538\n",
       "37500         3147367 : 30574  42797\n",
       "33000          597790 : 30574  39427\n",
       "31900          426775 : 30574  37584\n",
       "53700        25279165 : 30574  37124\n",
       "33900          835623 : 30574  36683\n",
       "300               706 : 30574  36492\n",
       "46400        13540215 : 30574  35903\n",
       "53500        24228353 : 30574  34863\n",
       "16800           38296 : 30574  34663\n",
       "44100        10790290 : 30574  34059\n",
       "19100           54499 : 30574  33325"
      ]
     },
     "execution_count": 276,
     "metadata": {},
     "output_type": "execute_result"
    }
   ],
   "source": [
    "top20_tags[['goodread_book_id:tag_id','count']]"
   ]
  },
  {
   "cell_type": "code",
   "execution_count": 277,
   "id": "966874dc-74d3-42a5-ad98-da586e605f3b",
   "metadata": {},
   "outputs": [
    {
     "data": {
      "image/png": "[encoded data removed]",
      "text/plain": [
       "<Figure size 1440x360 with 1 Axes>"
      ]
     },
     "metadata": {
      "needs_background": "light"
     },
     "output_type": "display_data"
    }
   ],
   "source": [
    "import matplotlib.pyplot as plt\n",
    "\n",
    "plt.figure(figsize=(20,5))\n",
    "plt.bar(top20_tags['goodread_book_id:tag_id'],top20_tags['count'])\n",
    "plt.xticks(rotation=75)\n",
    "plt.show()"
   ]
  },
  {
   "cell_type": "code",
   "execution_count": 278,
   "id": "2ba8ee5b-01aa-4675-9d4c-8edbdfcff4b3",
   "metadata": {},
   "outputs": [],
   "source": [
    "top20_tags[['goodread_book_id:tag_id','count']].to_csv('data/top_20_tags.csv')"
   ]
  },
  {
   "cell_type": "markdown",
   "id": "33458b2f-b5c5-4988-a2df-a87aef31a9f4",
   "metadata": {},
   "source": [
    "View the barchart at flourish.studio : https://public.flourish.studio/visualisation/10684191/"
   ]
  },
  {
   "cell_type": "raw",
   "id": "460a5d9e-ee71-4b4c-861a-79a8a8a14f57",
   "metadata": {},
   "source": [
    "<div class=\"flourish-embed flourish-chart\" data-src=\"visualisation/10684225\"><script src=\"https://public.flourish.studio/resources/embed.js\"></script></div>"
   ]
  },
  {
   "cell_type": "markdown",
   "id": "e8870933-96f8-4b7c-a57b-bd4e784beb3a",
   "metadata": {},
   "source": [
    "\n",
    "- Bucket the average_rating of books into 6 buckets [0,1,2,3,4,5] with 0.5 decimal rounding (eg: average_rating 3.5 to 4.4 will fall in bucket 4). Plot bar graph in Flourish to show total number of books in each rating bucket. [books.csv] and share the published link.\n",
    "(2 marks)"
   ]
  },
  {
   "cell_type": "code",
   "execution_count": 279,
   "id": "408496fe-9b4f-40fd-ab71-8ae67785cc6e",
   "metadata": {},
   "outputs": [
    {
     "data": {
      "text/plain": [
       "<AxesSubplot:>"
      ]
     },
     "execution_count": 279,
     "metadata": {},
     "output_type": "execute_result"
    },
    {
     "data": {
      "image/png": "[encoded data removed]",
      "text/plain": [
       "<Figure size 432x288 with 1 Axes>"
      ]
     },
     "metadata": {
      "needs_background": "light"
     },
     "output_type": "display_data"
    }
   ],
   "source": [
    "books.average_rating.hist()"
   ]
  },
  {
   "cell_type": "code",
   "execution_count": 280,
   "id": "d6259dbb-d032-4382-b326-6e2fa2c058d6",
   "metadata": {},
   "outputs": [],
   "source": [
    "books['rating_bin']=pd.cut(books.average_rating,[0,1.5,2.5,3.5,4.5,5.0],right=False).astype(str)"
   ]
  },
  {
   "cell_type": "code",
   "execution_count": 281,
   "id": "eb71e0e0-a06b-4f52-9519-a10e50b67353",
   "metadata": {},
   "outputs": [
    {
     "data": {
      "text/plain": [
       "array(['[3.5, 4.5)', '[2.5, 3.5)', '[4.5, 5.0)'], dtype=object)"
      ]
     },
     "execution_count": 281,
     "metadata": {},
     "output_type": "execute_result"
    }
   ],
   "source": [
    "books.rating_bin.unique()"
   ]
  },
  {
   "cell_type": "code",
   "execution_count": 282,
   "id": "2dee788a-9777-42ba-82d0-9c08002050da",
   "metadata": {},
   "outputs": [
    {
     "data": {
      "text/plain": [
       "<AxesSubplot:xlabel='rating_bin'>"
      ]
     },
     "execution_count": 282,
     "metadata": {},
     "output_type": "execute_result"
    },
    {
     "data": {
      "image/png": "[encoded data removed]",
      "text/plain": [
       "<Figure size 432x288 with 1 Axes>"
      ]
     },
     "metadata": {
      "needs_background": "light"
     },
     "output_type": "display_data"
    }
   ],
   "source": [
    "books[['rating_bin','average_rating']].groupby('rating_bin').count().plot(kind='bar')"
   ]
  },
  {
   "cell_type": "code",
   "execution_count": 283,
   "id": "9695a0e0-a3d0-48fe-83fe-3fc97241e4ac",
   "metadata": {},
   "outputs": [],
   "source": [
    "res=books[['rating_bin','average_rating']].groupby('rating_bin').count().reset_index()\n",
    "res.columns=['rating_bin','count']"
   ]
  },
  {
   "cell_type": "code",
   "execution_count": 284,
   "id": "8785a2b1-505d-4cab-bb7b-356300a2dc14",
   "metadata": {},
   "outputs": [],
   "source": [
    "res.to_csv('data/rating_bin_count.csv')"
   ]
  },
  {
   "cell_type": "markdown",
   "id": "165007e5-ea2f-4518-a2d3-4756b43e60f1",
   "metadata": {},
   "source": [
    "Check the barchart @  https://public.flourish.studio/visualisation/1068422"
   ]
  },
  {
   "cell_type": "raw",
   "id": "c22e1a99-85dd-4900-afc0-09cec7e3dfb1",
   "metadata": {},
   "source": [
    "<div class=\"flourish-embed flourish-chart\" data-src=\"visualisation/10684225\"><script src=\"https://public.flourish.studio/resources/embed.js\"></script></div>"
   ]
  }
 ],
 "metadata": {
  "kernelspec": {
   "display_name": "Python 3 (ipykernel)",
   "language": "python",
   "name": "python3"
  },
  "language_info": {
   "codemirror_mode": {
    "name": "ipython",
    "version": 3
   },
   "file_extension": ".py",
   "mimetype": "text/x-python",
   "name": "python",
   "nbconvert_exporter": "python",
   "pygments_lexer": "ipython3",
   "version": "3.9.12"
  }
 },
 "nbformat": 4,
 "nbformat_minor": 5
}
