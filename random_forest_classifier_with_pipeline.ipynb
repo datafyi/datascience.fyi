{
  "nbformat": 4,
  "nbformat_minor": 0,
  "metadata": {
    "colab": {
      "name": "random_forest_classifier_with_pipeline.ipynb",
      "provenance": [],
      "authorship_tag": "ABX9TyOhhd0/9KsCiLhfrwf8fWS9",
      "include_colab_link": true
    },
    "kernelspec": {
      "name": "python3",
      "display_name": "Python 3"
    },
    "language_info": {
      "name": "python"
    }
  },
  "cells": [
    {
      "cell_type": "markdown",
      "metadata": {
        "id": "view-in-github",
        "colab_type": "text"
      },
      "source": [
        "<a href=\"https://colab.research.google.com/github/datafyi/datascience.fyi/blob/main/random_forest_classifier_with_pipeline.ipynb\" target=\"_parent\"><img src=\"https://colab.research.google.com/assets/colab-badge.svg\" alt=\"Open In Colab\"/></a>"
      ]
    },
    {
      "cell_type": "markdown",
      "source": [
        "https://scikit-learn.org/stable/modules/generated/sklearn.pipeline.Pipeline.html"
      ],
      "metadata": {
        "id": "2iAcXY5JmGRS"
      }
    },
    {
      "cell_type": "markdown",
      "source": [
        "# Cancer Dataset"
      ],
      "metadata": {
        "id": "mgsoHCA7lW1d"
      }
    },
    {
      "cell_type": "code",
      "source": [
        "from sklearn import set_config\n",
        "\n",
        "set_config(display=\"diagram\")"
      ],
      "metadata": {
        "id": "6W32lLOvpiPO"
      },
      "execution_count": 93,
      "outputs": []
    },
    {
      "cell_type": "code",
      "source": [
        "import pandas as pd\n",
        "\n",
        "cancer_data = pd.read_csv(\"cancer_dataset.csv\")"
      ],
      "metadata": {
        "id": "A1UdEVLkXHb_"
      },
      "execution_count": 94,
      "outputs": []
    },
    {
      "cell_type": "code",
      "source": [
        "cancer_data.diagnosis = cancer_data.diagnosis.map({'M':1,'B':0})"
      ],
      "metadata": {
        "id": "SXnEyLvVZlaq"
      },
      "execution_count": 95,
      "outputs": []
    },
    {
      "cell_type": "code",
      "source": [
        "cancer_data.head()"
      ],
      "metadata": {
        "colab": {
          "base_uri": "https://localhost:8080/",
          "height": 317
        },
        "id": "XDj2TmlQd21c",
        "outputId": "843c49cc-fed8-430f-d654-1283a0285de8"
      },
      "execution_count": 96,
      "outputs": [
        {
          "output_type": "execute_result",
          "data": {
            "text/plain": [
              "         id  diagnosis  radius_mean  texture_mean  perimeter_mean  area_mean  \\\n",
              "0    842302          1        17.99         10.38          122.80     1001.0   \n",
              "1    842517          1        20.57         17.77          132.90     1326.0   \n",
              "2  84300903          1        19.69         21.25          130.00     1203.0   \n",
              "3  84348301          1        11.42         20.38           77.58      386.1   \n",
              "4  84358402          1        20.29         14.34          135.10     1297.0   \n",
              "\n",
              "   smoothness_mean  compactness_mean  concavity_mean  concave points_mean  \\\n",
              "0          0.11840           0.27760          0.3001              0.14710   \n",
              "1          0.08474           0.07864          0.0869              0.07017   \n",
              "2          0.10960           0.15990          0.1974              0.12790   \n",
              "3          0.14250           0.28390          0.2414              0.10520   \n",
              "4          0.10030           0.13280          0.1980              0.10430   \n",
              "\n",
              "   ...  texture_worst  perimeter_worst  area_worst  smoothness_worst  \\\n",
              "0  ...          17.33           184.60      2019.0            0.1622   \n",
              "1  ...          23.41           158.80      1956.0            0.1238   \n",
              "2  ...          25.53           152.50      1709.0            0.1444   \n",
              "3  ...          26.50            98.87       567.7            0.2098   \n",
              "4  ...          16.67           152.20      1575.0            0.1374   \n",
              "\n",
              "   compactness_worst  concavity_worst  concave points_worst  symmetry_worst  \\\n",
              "0             0.6656           0.7119                0.2654          0.4601   \n",
              "1             0.1866           0.2416                0.1860          0.2750   \n",
              "2             0.4245           0.4504                0.2430          0.3613   \n",
              "3             0.8663           0.6869                0.2575          0.6638   \n",
              "4             0.2050           0.4000                0.1625          0.2364   \n",
              "\n",
              "   fractal_dimension_worst  Unnamed: 32  \n",
              "0                  0.11890          NaN  \n",
              "1                  0.08902          NaN  \n",
              "2                  0.08758          NaN  \n",
              "3                  0.17300          NaN  \n",
              "4                  0.07678          NaN  \n",
              "\n",
              "[5 rows x 33 columns]"
            ],
            "text/html": [
              "\n",
              "  <div id=\"df-b885b138-aac4-4722-8275-9ce0f2ce4711\">\n",
              "    <div class=\"colab-df-container\">\n",
              "      <div>\n",
              "<style scoped>\n",
              "    .dataframe tbody tr th:only-of-type {\n",
              "        vertical-align: middle;\n",
              "    }\n",
              "\n",
              "    .dataframe tbody tr th {\n",
              "        vertical-align: top;\n",
              "    }\n",
              "\n",
              "    .dataframe thead th {\n",
              "        text-align: right;\n",
              "    }\n",
              "</style>\n",
              "<table border=\"1\" class=\"dataframe\">\n",
              "  <thead>\n",
              "    <tr style=\"text-align: right;\">\n",
              "      <th></th>\n",
              "      <th>id</th>\n",
              "      <th>diagnosis</th>\n",
              "      <th>radius_mean</th>\n",
              "      <th>texture_mean</th>\n",
              "      <th>perimeter_mean</th>\n",
              "      <th>area_mean</th>\n",
              "      <th>smoothness_mean</th>\n",
              "      <th>compactness_mean</th>\n",
              "      <th>concavity_mean</th>\n",
              "      <th>concave points_mean</th>\n",
              "      <th>...</th>\n",
              "      <th>texture_worst</th>\n",
              "      <th>perimeter_worst</th>\n",
              "      <th>area_worst</th>\n",
              "      <th>smoothness_worst</th>\n",
              "      <th>compactness_worst</th>\n",
              "      <th>concavity_worst</th>\n",
              "      <th>concave points_worst</th>\n",
              "      <th>symmetry_worst</th>\n",
              "      <th>fractal_dimension_worst</th>\n",
              "      <th>Unnamed: 32</th>\n",
              "    </tr>\n",
              "  </thead>\n",
              "  <tbody>\n",
              "    <tr>\n",
              "      <th>0</th>\n",
              "      <td>842302</td>\n",
              "      <td>1</td>\n",
              "      <td>17.99</td>\n",
              "      <td>10.38</td>\n",
              "      <td>122.80</td>\n",
              "      <td>1001.0</td>\n",
              "      <td>0.11840</td>\n",
              "      <td>0.27760</td>\n",
              "      <td>0.3001</td>\n",
              "      <td>0.14710</td>\n",
              "      <td>...</td>\n",
              "      <td>17.33</td>\n",
              "      <td>184.60</td>\n",
              "      <td>2019.0</td>\n",
              "      <td>0.1622</td>\n",
              "      <td>0.6656</td>\n",
              "      <td>0.7119</td>\n",
              "      <td>0.2654</td>\n",
              "      <td>0.4601</td>\n",
              "      <td>0.11890</td>\n",
              "      <td>NaN</td>\n",
              "    </tr>\n",
              "    <tr>\n",
              "      <th>1</th>\n",
              "      <td>842517</td>\n",
              "      <td>1</td>\n",
              "      <td>20.57</td>\n",
              "      <td>17.77</td>\n",
              "      <td>132.90</td>\n",
              "      <td>1326.0</td>\n",
              "      <td>0.08474</td>\n",
              "      <td>0.07864</td>\n",
              "      <td>0.0869</td>\n",
              "      <td>0.07017</td>\n",
              "      <td>...</td>\n",
              "      <td>23.41</td>\n",
              "      <td>158.80</td>\n",
              "      <td>1956.0</td>\n",
              "      <td>0.1238</td>\n",
              "      <td>0.1866</td>\n",
              "      <td>0.2416</td>\n",
              "      <td>0.1860</td>\n",
              "      <td>0.2750</td>\n",
              "      <td>0.08902</td>\n",
              "      <td>NaN</td>\n",
              "    </tr>\n",
              "    <tr>\n",
              "      <th>2</th>\n",
              "      <td>84300903</td>\n",
              "      <td>1</td>\n",
              "      <td>19.69</td>\n",
              "      <td>21.25</td>\n",
              "      <td>130.00</td>\n",
              "      <td>1203.0</td>\n",
              "      <td>0.10960</td>\n",
              "      <td>0.15990</td>\n",
              "      <td>0.1974</td>\n",
              "      <td>0.12790</td>\n",
              "      <td>...</td>\n",
              "      <td>25.53</td>\n",
              "      <td>152.50</td>\n",
              "      <td>1709.0</td>\n",
              "      <td>0.1444</td>\n",
              "      <td>0.4245</td>\n",
              "      <td>0.4504</td>\n",
              "      <td>0.2430</td>\n",
              "      <td>0.3613</td>\n",
              "      <td>0.08758</td>\n",
              "      <td>NaN</td>\n",
              "    </tr>\n",
              "    <tr>\n",
              "      <th>3</th>\n",
              "      <td>84348301</td>\n",
              "      <td>1</td>\n",
              "      <td>11.42</td>\n",
              "      <td>20.38</td>\n",
              "      <td>77.58</td>\n",
              "      <td>386.1</td>\n",
              "      <td>0.14250</td>\n",
              "      <td>0.28390</td>\n",
              "      <td>0.2414</td>\n",
              "      <td>0.10520</td>\n",
              "      <td>...</td>\n",
              "      <td>26.50</td>\n",
              "      <td>98.87</td>\n",
              "      <td>567.7</td>\n",
              "      <td>0.2098</td>\n",
              "      <td>0.8663</td>\n",
              "      <td>0.6869</td>\n",
              "      <td>0.2575</td>\n",
              "      <td>0.6638</td>\n",
              "      <td>0.17300</td>\n",
              "      <td>NaN</td>\n",
              "    </tr>\n",
              "    <tr>\n",
              "      <th>4</th>\n",
              "      <td>84358402</td>\n",
              "      <td>1</td>\n",
              "      <td>20.29</td>\n",
              "      <td>14.34</td>\n",
              "      <td>135.10</td>\n",
              "      <td>1297.0</td>\n",
              "      <td>0.10030</td>\n",
              "      <td>0.13280</td>\n",
              "      <td>0.1980</td>\n",
              "      <td>0.10430</td>\n",
              "      <td>...</td>\n",
              "      <td>16.67</td>\n",
              "      <td>152.20</td>\n",
              "      <td>1575.0</td>\n",
              "      <td>0.1374</td>\n",
              "      <td>0.2050</td>\n",
              "      <td>0.4000</td>\n",
              "      <td>0.1625</td>\n",
              "      <td>0.2364</td>\n",
              "      <td>0.07678</td>\n",
              "      <td>NaN</td>\n",
              "    </tr>\n",
              "  </tbody>\n",
              "</table>\n",
              "<p>5 rows × 33 columns</p>\n",
              "</div>\n",
              "      <button class=\"colab-df-convert\" onclick=\"convertToInteractive('df-b885b138-aac4-4722-8275-9ce0f2ce4711')\"\n",
              "              title=\"Convert this dataframe to an interactive table.\"\n",
              "              style=\"display:none;\">\n",
              "        \n",
              "  <svg xmlns=\"http://www.w3.org/2000/svg\" height=\"24px\"viewBox=\"0 0 24 24\"\n",
              "       width=\"24px\">\n",
              "    <path d=\"M0 0h24v24H0V0z\" fill=\"none\"/>\n",
              "    <path d=\"M18.56 5.44l.94 2.06.94-2.06 2.06-.94-2.06-.94-.94-2.06-.94 2.06-2.06.94zm-11 1L8.5 8.5l.94-2.06 2.06-.94-2.06-.94L8.5 2.5l-.94 2.06-2.06.94zm10 10l.94 2.06.94-2.06 2.06-.94-2.06-.94-.94-2.06-.94 2.06-2.06.94z\"/><path d=\"M17.41 7.96l-1.37-1.37c-.4-.4-.92-.59-1.43-.59-.52 0-1.04.2-1.43.59L10.3 9.45l-7.72 7.72c-.78.78-.78 2.05 0 2.83L4 21.41c.39.39.9.59 1.41.59.51 0 1.02-.2 1.41-.59l7.78-7.78 2.81-2.81c.8-.78.8-2.07 0-2.86zM5.41 20L4 18.59l7.72-7.72 1.47 1.35L5.41 20z\"/>\n",
              "  </svg>\n",
              "      </button>\n",
              "      \n",
              "  <style>\n",
              "    .colab-df-container {\n",
              "      display:flex;\n",
              "      flex-wrap:wrap;\n",
              "      gap: 12px;\n",
              "    }\n",
              "\n",
              "    .colab-df-convert {\n",
              "      background-color: #E8F0FE;\n",
              "      border: none;\n",
              "      border-radius: 50%;\n",
              "      cursor: pointer;\n",
              "      display: none;\n",
              "      fill: #1967D2;\n",
              "      height: 32px;\n",
              "      padding: 0 0 0 0;\n",
              "      width: 32px;\n",
              "    }\n",
              "\n",
              "    .colab-df-convert:hover {\n",
              "      background-color: #E2EBFA;\n",
              "      box-shadow: 0px 1px 2px rgba(60, 64, 67, 0.3), 0px 1px 3px 1px rgba(60, 64, 67, 0.15);\n",
              "      fill: #174EA6;\n",
              "    }\n",
              "\n",
              "    [theme=dark] .colab-df-convert {\n",
              "      background-color: #3B4455;\n",
              "      fill: #D2E3FC;\n",
              "    }\n",
              "\n",
              "    [theme=dark] .colab-df-convert:hover {\n",
              "      background-color: #434B5C;\n",
              "      box-shadow: 0px 1px 3px 1px rgba(0, 0, 0, 0.15);\n",
              "      filter: drop-shadow(0px 1px 2px rgba(0, 0, 0, 0.3));\n",
              "      fill: #FFFFFF;\n",
              "    }\n",
              "  </style>\n",
              "\n",
              "      <script>\n",
              "        const buttonEl =\n",
              "          document.querySelector('#df-b885b138-aac4-4722-8275-9ce0f2ce4711 button.colab-df-convert');\n",
              "        buttonEl.style.display =\n",
              "          google.colab.kernel.accessAllowed ? 'block' : 'none';\n",
              "\n",
              "        async function convertToInteractive(key) {\n",
              "          const element = document.querySelector('#df-b885b138-aac4-4722-8275-9ce0f2ce4711');\n",
              "          const dataTable =\n",
              "            await google.colab.kernel.invokeFunction('convertToInteractive',\n",
              "                                                     [key], {});\n",
              "          if (!dataTable) return;\n",
              "\n",
              "          const docLinkHtml = 'Like what you see? Visit the ' +\n",
              "            '<a target=\"_blank\" href=https://colab.research.google.com/notebooks/data_table.ipynb>data table notebook</a>'\n",
              "            + ' to learn more about interactive tables.';\n",
              "          element.innerHTML = '';\n",
              "          dataTable['output_type'] = 'display_data';\n",
              "          await google.colab.output.renderOutput(dataTable, element);\n",
              "          const docLink = document.createElement('div');\n",
              "          docLink.innerHTML = docLinkHtml;\n",
              "          element.appendChild(docLink);\n",
              "        }\n",
              "      </script>\n",
              "    </div>\n",
              "  </div>\n",
              "  "
            ]
          },
          "metadata": {},
          "execution_count": 96
        }
      ]
    },
    {
      "cell_type": "code",
      "execution_count": 97,
      "metadata": {
        "id": "9J1kAQPLU1E4"
      },
      "outputs": [],
      "source": [
        "from sklearn.ensemble import RandomForestClassifier\n",
        "from sklearn.datasets import make_classification"
      ]
    },
    {
      "cell_type": "code",
      "source": [
        "X = cancer_data.drop(columns=['diagnosis'])\n",
        "y = cancer_data.diagnosis"
      ],
      "metadata": {
        "id": "5S3bYvBKVO2Z"
      },
      "execution_count": 98,
      "outputs": []
    },
    {
      "cell_type": "code",
      "source": [
        "from sklearn.model_selection import train_test_split\n",
        "\n",
        "X_train, X_test, y_train, y_test = train_test_split(X, y, test_size=0.3, random_state=1)"
      ],
      "metadata": {
        "id": "feQfrcbDbfN6"
      },
      "execution_count": 99,
      "outputs": []
    },
    {
      "cell_type": "code",
      "source": [
        "numeric_features = X.columns\n",
        "# categorical_features = []"
      ],
      "metadata": {
        "id": "2FbxbygXcWJj"
      },
      "execution_count": 100,
      "outputs": []
    },
    {
      "cell_type": "code",
      "source": [
        "from sklearn.compose import ColumnTransformer \n",
        "from sklearn.impute import SimpleImputer\n",
        "from sklearn.preprocessing import RobustScaler, OneHotEncoder"
      ],
      "metadata": {
        "id": "LaDMucvreXS9"
      },
      "execution_count": 101,
      "outputs": []
    },
    {
      "cell_type": "markdown",
      "source": [
        "## Drop unnecessary columns"
      ],
      "metadata": {
        "id": "MS7um_1okyNm"
      }
    },
    {
      "cell_type": "code",
      "source": [
        "drop_feat=['id']\n",
        "drop_transformer = ColumnTransformer(transformers=[('drop_columns', 'drop', drop_feat)], remainder='passthrough')"
      ],
      "metadata": {
        "id": "xXc7dYF7eYer"
      },
      "execution_count": 102,
      "outputs": []
    },
    {
      "cell_type": "code",
      "source": [
        "from sklearn.pipeline import Pipeline"
      ],
      "metadata": {
        "id": "CLHHtwk9erCT"
      },
      "execution_count": 103,
      "outputs": []
    },
    {
      "cell_type": "code",
      "source": [
        "pipeline = Pipeline([('drop_column', drop_transformer)])"
      ],
      "metadata": {
        "id": "fTtRRHWCesSw"
      },
      "execution_count": 104,
      "outputs": []
    },
    {
      "cell_type": "code",
      "source": [
        "pipeline.fit(X_train)"
      ],
      "metadata": {
        "colab": {
          "base_uri": "https://localhost:8080/",
          "height": 157
        },
        "id": "obvfihv6exe9",
        "outputId": "7fceaf8a-8f09-46d8-f3bb-b7afa8ed7d5f"
      },
      "execution_count": 105,
      "outputs": [
        {
          "output_type": "execute_result",
          "data": {
            "text/plain": [
              "Pipeline(steps=[('drop_column',\n",
              "                 ColumnTransformer(remainder='passthrough',\n",
              "                                   transformers=[('drop_columns', 'drop',\n",
              "                                                  ['id'])]))])"
            ],
            "text/html": [
              "<style>#sk-4f9e116f-af0b-45e5-9545-2bc9a0f7b6a8 {color: black;background-color: white;}#sk-4f9e116f-af0b-45e5-9545-2bc9a0f7b6a8 pre{padding: 0;}#sk-4f9e116f-af0b-45e5-9545-2bc9a0f7b6a8 div.sk-toggleable {background-color: white;}#sk-4f9e116f-af0b-45e5-9545-2bc9a0f7b6a8 label.sk-toggleable__label {cursor: pointer;display: block;width: 100%;margin-bottom: 0;padding: 0.3em;box-sizing: border-box;text-align: center;}#sk-4f9e116f-af0b-45e5-9545-2bc9a0f7b6a8 label.sk-toggleable__label-arrow:before {content: \"▸\";float: left;margin-right: 0.25em;color: #696969;}#sk-4f9e116f-af0b-45e5-9545-2bc9a0f7b6a8 label.sk-toggleable__label-arrow:hover:before {color: black;}#sk-4f9e116f-af0b-45e5-9545-2bc9a0f7b6a8 div.sk-estimator:hover label.sk-toggleable__label-arrow:before {color: black;}#sk-4f9e116f-af0b-45e5-9545-2bc9a0f7b6a8 div.sk-toggleable__content {max-height: 0;max-width: 0;overflow: hidden;text-align: left;background-color: #f0f8ff;}#sk-4f9e116f-af0b-45e5-9545-2bc9a0f7b6a8 div.sk-toggleable__content pre {margin: 0.2em;color: black;border-radius: 0.25em;background-color: #f0f8ff;}#sk-4f9e116f-af0b-45e5-9545-2bc9a0f7b6a8 input.sk-toggleable__control:checked~div.sk-toggleable__content {max-height: 200px;max-width: 100%;overflow: auto;}#sk-4f9e116f-af0b-45e5-9545-2bc9a0f7b6a8 input.sk-toggleable__control:checked~label.sk-toggleable__label-arrow:before {content: \"▾\";}#sk-4f9e116f-af0b-45e5-9545-2bc9a0f7b6a8 div.sk-estimator input.sk-toggleable__control:checked~label.sk-toggleable__label {background-color: #d4ebff;}#sk-4f9e116f-af0b-45e5-9545-2bc9a0f7b6a8 div.sk-label input.sk-toggleable__control:checked~label.sk-toggleable__label {background-color: #d4ebff;}#sk-4f9e116f-af0b-45e5-9545-2bc9a0f7b6a8 input.sk-hidden--visually {border: 0;clip: rect(1px 1px 1px 1px);clip: rect(1px, 1px, 1px, 1px);height: 1px;margin: -1px;overflow: hidden;padding: 0;position: absolute;width: 1px;}#sk-4f9e116f-af0b-45e5-9545-2bc9a0f7b6a8 div.sk-estimator {font-family: monospace;background-color: #f0f8ff;border: 1px dotted black;border-radius: 0.25em;box-sizing: border-box;margin-bottom: 0.5em;}#sk-4f9e116f-af0b-45e5-9545-2bc9a0f7b6a8 div.sk-estimator:hover {background-color: #d4ebff;}#sk-4f9e116f-af0b-45e5-9545-2bc9a0f7b6a8 div.sk-parallel-item::after {content: \"\";width: 100%;border-bottom: 1px solid gray;flex-grow: 1;}#sk-4f9e116f-af0b-45e5-9545-2bc9a0f7b6a8 div.sk-label:hover label.sk-toggleable__label {background-color: #d4ebff;}#sk-4f9e116f-af0b-45e5-9545-2bc9a0f7b6a8 div.sk-serial::before {content: \"\";position: absolute;border-left: 1px solid gray;box-sizing: border-box;top: 2em;bottom: 0;left: 50%;}#sk-4f9e116f-af0b-45e5-9545-2bc9a0f7b6a8 div.sk-serial {display: flex;flex-direction: column;align-items: center;background-color: white;padding-right: 0.2em;padding-left: 0.2em;}#sk-4f9e116f-af0b-45e5-9545-2bc9a0f7b6a8 div.sk-item {z-index: 1;}#sk-4f9e116f-af0b-45e5-9545-2bc9a0f7b6a8 div.sk-parallel {display: flex;align-items: stretch;justify-content: center;background-color: white;}#sk-4f9e116f-af0b-45e5-9545-2bc9a0f7b6a8 div.sk-parallel::before {content: \"\";position: absolute;border-left: 1px solid gray;box-sizing: border-box;top: 2em;bottom: 0;left: 50%;}#sk-4f9e116f-af0b-45e5-9545-2bc9a0f7b6a8 div.sk-parallel-item {display: flex;flex-direction: column;position: relative;background-color: white;}#sk-4f9e116f-af0b-45e5-9545-2bc9a0f7b6a8 div.sk-parallel-item:first-child::after {align-self: flex-end;width: 50%;}#sk-4f9e116f-af0b-45e5-9545-2bc9a0f7b6a8 div.sk-parallel-item:last-child::after {align-self: flex-start;width: 50%;}#sk-4f9e116f-af0b-45e5-9545-2bc9a0f7b6a8 div.sk-parallel-item:only-child::after {width: 0;}#sk-4f9e116f-af0b-45e5-9545-2bc9a0f7b6a8 div.sk-dashed-wrapped {border: 1px dashed gray;margin: 0 0.4em 0.5em 0.4em;box-sizing: border-box;padding-bottom: 0.4em;background-color: white;position: relative;}#sk-4f9e116f-af0b-45e5-9545-2bc9a0f7b6a8 div.sk-label label {font-family: monospace;font-weight: bold;background-color: white;display: inline-block;line-height: 1.2em;}#sk-4f9e116f-af0b-45e5-9545-2bc9a0f7b6a8 div.sk-label-container {position: relative;z-index: 2;text-align: center;}#sk-4f9e116f-af0b-45e5-9545-2bc9a0f7b6a8 div.sk-container {/* jupyter's `normalize.less` sets `[hidden] { display: none; }` but bootstrap.min.css set `[hidden] { display: none !important; }` so we also need the `!important` here to be able to override the default hidden behavior on the sphinx rendered scikit-learn.org. See: https://github.com/scikit-learn/scikit-learn/issues/21755 */display: inline-block !important;position: relative;}#sk-4f9e116f-af0b-45e5-9545-2bc9a0f7b6a8 div.sk-text-repr-fallback {display: none;}</style><div id=\"sk-4f9e116f-af0b-45e5-9545-2bc9a0f7b6a8\" class=\"sk-top-container\"><div class=\"sk-text-repr-fallback\"><pre>Pipeline(steps=[(&#x27;drop_column&#x27;,\n",
              "                 ColumnTransformer(remainder=&#x27;passthrough&#x27;,\n",
              "                                   transformers=[(&#x27;drop_columns&#x27;, &#x27;drop&#x27;,\n",
              "                                                  [&#x27;id&#x27;])]))])</pre><b>Please rerun this cell to show the HTML repr or trust the notebook.</b></div><div class=\"sk-container\" hidden><div class=\"sk-item sk-dashed-wrapped\"><div class=\"sk-label-container\"><div class=\"sk-label sk-toggleable\"><input class=\"sk-toggleable__control sk-hidden--visually\" id=\"3f48f38f-a0f4-4ff6-a004-8df534fd6147\" type=\"checkbox\" ><label for=\"3f48f38f-a0f4-4ff6-a004-8df534fd6147\" class=\"sk-toggleable__label sk-toggleable__label-arrow\">Pipeline</label><div class=\"sk-toggleable__content\"><pre>Pipeline(steps=[(&#x27;drop_column&#x27;,\n",
              "                 ColumnTransformer(remainder=&#x27;passthrough&#x27;,\n",
              "                                   transformers=[(&#x27;drop_columns&#x27;, &#x27;drop&#x27;,\n",
              "                                                  [&#x27;id&#x27;])]))])</pre></div></div></div><div class=\"sk-serial\"><div class=\"sk-item sk-dashed-wrapped\"><div class=\"sk-label-container\"><div class=\"sk-label sk-toggleable\"><input class=\"sk-toggleable__control sk-hidden--visually\" id=\"6134399b-229c-4137-817d-bda939aeaaf7\" type=\"checkbox\" ><label for=\"6134399b-229c-4137-817d-bda939aeaaf7\" class=\"sk-toggleable__label sk-toggleable__label-arrow\">drop_column: ColumnTransformer</label><div class=\"sk-toggleable__content\"><pre>ColumnTransformer(remainder=&#x27;passthrough&#x27;,\n",
              "                  transformers=[(&#x27;drop_columns&#x27;, &#x27;drop&#x27;, [&#x27;id&#x27;])])</pre></div></div></div><div class=\"sk-parallel\"><div class=\"sk-parallel-item\"><div class=\"sk-item\"><div class=\"sk-label-container\"><div class=\"sk-label sk-toggleable\"><input class=\"sk-toggleable__control sk-hidden--visually\" id=\"c35a021c-00b9-45db-978b-b41a37b56b4f\" type=\"checkbox\" ><label for=\"c35a021c-00b9-45db-978b-b41a37b56b4f\" class=\"sk-toggleable__label sk-toggleable__label-arrow\">drop_columns</label><div class=\"sk-toggleable__content\"><pre>[&#x27;id&#x27;]</pre></div></div></div><div class=\"sk-serial\"><div class=\"sk-item\"><div class=\"sk-estimator sk-toggleable\"><input class=\"sk-toggleable__control sk-hidden--visually\" id=\"83ed78e2-e782-43fd-8aa5-7c0a7f47872c\" type=\"checkbox\" ><label for=\"83ed78e2-e782-43fd-8aa5-7c0a7f47872c\" class=\"sk-toggleable__label sk-toggleable__label-arrow\">drop</label><div class=\"sk-toggleable__content\"><pre>drop</pre></div></div></div></div></div></div><div class=\"sk-parallel-item\"><div class=\"sk-item\"><div class=\"sk-label-container\"><div class=\"sk-label sk-toggleable\"><input class=\"sk-toggleable__control sk-hidden--visually\" id=\"66f9413b-a077-41f7-a62b-f5c5f61979d7\" type=\"checkbox\" ><label for=\"66f9413b-a077-41f7-a62b-f5c5f61979d7\" class=\"sk-toggleable__label sk-toggleable__label-arrow\">remainder</label><div class=\"sk-toggleable__content\"><pre>[&#x27;radius_mean&#x27;, &#x27;texture_mean&#x27;, &#x27;perimeter_mean&#x27;, &#x27;area_mean&#x27;, &#x27;smoothness_mean&#x27;, &#x27;compactness_mean&#x27;, &#x27;concavity_mean&#x27;, &#x27;concave points_mean&#x27;, &#x27;symmetry_mean&#x27;, &#x27;fractal_dimension_mean&#x27;, &#x27;radius_se&#x27;, &#x27;texture_se&#x27;, &#x27;perimeter_se&#x27;, &#x27;area_se&#x27;, &#x27;smoothness_se&#x27;, &#x27;compactness_se&#x27;, &#x27;concavity_se&#x27;, &#x27;concave points_se&#x27;, &#x27;symmetry_se&#x27;, &#x27;fractal_dimension_se&#x27;, &#x27;radius_worst&#x27;, &#x27;texture_worst&#x27;, &#x27;perimeter_worst&#x27;, &#x27;area_worst&#x27;, &#x27;smoothness_worst&#x27;, &#x27;compactness_worst&#x27;, &#x27;concavity_worst&#x27;, &#x27;concave points_worst&#x27;, &#x27;symmetry_worst&#x27;, &#x27;fractal_dimension_worst&#x27;, &#x27;Unnamed: 32&#x27;]</pre></div></div></div><div class=\"sk-serial\"><div class=\"sk-item\"><div class=\"sk-estimator sk-toggleable\"><input class=\"sk-toggleable__control sk-hidden--visually\" id=\"27d5df0f-4b98-425d-99c3-0ef528d6ced2\" type=\"checkbox\" ><label for=\"27d5df0f-4b98-425d-99c3-0ef528d6ced2\" class=\"sk-toggleable__label sk-toggleable__label-arrow\">passthrough</label><div class=\"sk-toggleable__content\"><pre>passthrough</pre></div></div></div></div></div></div></div></div></div></div></div></div>"
            ]
          },
          "metadata": {},
          "execution_count": 105
        }
      ]
    },
    {
      "cell_type": "code",
      "source": [
        "transformed_train=pipeline.transform(X_train)\n",
        "transformed_train"
      ],
      "metadata": {
        "colab": {
          "base_uri": "https://localhost:8080/"
        },
        "id": "W11n5ZtJe9Ro",
        "outputId": "6f6ff91b-516b-48ad-e129-4ddf3b3deeea"
      },
      "execution_count": 106,
      "outputs": [
        {
          "output_type": "execute_result",
          "data": {
            "text/plain": [
              "array([[1.152e+01, 1.493e+01, 7.387e+01, ..., 2.664e-01, 7.809e-02,\n",
              "              nan],\n",
              "       [1.305e+01, 1.931e+01, 8.261e+01, ..., 2.439e-01, 6.289e-02,\n",
              "              nan],\n",
              "       [1.420e+01, 2.053e+01, 9.241e+01, ..., 2.534e-01, 7.858e-02,\n",
              "              nan],\n",
              "       ...,\n",
              "       [1.720e+01, 2.452e+01, 1.142e+02, ..., 3.313e-01, 1.339e-01,\n",
              "              nan],\n",
              "       [1.403e+01, 2.125e+01, 8.979e+01, ..., 2.226e-01, 7.617e-02,\n",
              "              nan],\n",
              "       [1.303e+01, 1.842e+01, 8.261e+01, ..., 1.987e-01, 6.169e-02,\n",
              "              nan]])"
            ]
          },
          "metadata": {},
          "execution_count": 106
        }
      ]
    },
    {
      "cell_type": "markdown",
      "source": [
        "## Numeric Transformer"
      ],
      "metadata": {
        "id": "5TgLsNgQk_b9"
      }
    },
    {
      "cell_type": "code",
      "source": [
        "numeric_transformer = Pipeline(steps=[\n",
        "                                     ('meanimputer', SimpleImputer(strategy='mean')),\n",
        "                                     ('robostscaler', RobustScaler())\n",
        "                                     ])"
      ],
      "metadata": {
        "id": "pKgp-z8CfHgD"
      },
      "execution_count": 107,
      "outputs": []
    },
    {
      "cell_type": "markdown",
      "source": [
        "## Categorical Transformer"
      ],
      "metadata": {
        "id": "2xUwM2R9lD9m"
      }
    },
    {
      "cell_type": "code",
      "source": [
        "# categorical_transformer = Pipeline(steps=[\n",
        "#                                          ('onehotenc', OneHotEncoder(handle_unknown='ignore'))\n",
        "#                                          ])"
      ],
      "metadata": {
        "id": "g6kMxa59fQST"
      },
      "execution_count": 108,
      "outputs": []
    },
    {
      "cell_type": "markdown",
      "source": [
        "## Lets build the pipeline"
      ],
      "metadata": {
        "id": "s2-_YAxKlK4q"
      }
    },
    {
      "cell_type": "code",
      "source": [
        "col_transformer = ColumnTransformer(transformers=[('drop_columns', 'drop', drop_feat),\n",
        "                                                   ('numeric_processing',numeric_transformer, numeric_features)\n",
        "                                                   # ,('categorical_processing', categorical_transformer, categorical_features)\n",
        "                                                  ], remainder='drop')"
      ],
      "metadata": {
        "id": "NTognE9cfWQ-"
      },
      "execution_count": 109,
      "outputs": []
    },
    {
      "cell_type": "code",
      "source": [
        "pipeline = Pipeline([('transform_column', col_transformer)])"
      ],
      "metadata": {
        "id": "GljBTt4hfdjE"
      },
      "execution_count": 110,
      "outputs": []
    },
    {
      "cell_type": "code",
      "source": [
        "pipeline.fit(X_train)"
      ],
      "metadata": {
        "colab": {
          "base_uri": "https://localhost:8080/",
          "height": 192
        },
        "id": "kKxv9fzcfgEF",
        "outputId": "9983ae29-2abd-4dfc-9b25-e26489f526aa"
      },
      "execution_count": 111,
      "outputs": [
        {
          "output_type": "execute_result",
          "data": {
            "text/plain": [
              "Pipeline(steps=[('transform_column',\n",
              "                 ColumnTransformer(transformers=[('drop_columns', 'drop',\n",
              "                                                  ['id']),\n",
              "                                                 ('numeric_processing',\n",
              "                                                  Pipeline(steps=[('meanimputer',\n",
              "                                                                   SimpleImputer()),\n",
              "                                                                  ('robostscaler',\n",
              "                                                                   RobustScaler())]),\n",
              "                                                  Index(['id', 'radius_mean', 'texture_mean', 'perimeter_mean', 'area_mean',\n",
              "       'smoothness_mean', 'compactness_mean', 'concavity_mean',\n",
              "       'concave points_mean', 's...\n",
              "       'radius_se', 'texture_se', 'perimeter_se', 'area_se', 'smoothness_se',\n",
              "       'compactness_se', 'concavity_se', 'concave points_se', 'symmetry_se',\n",
              "       'fractal_dimension_se', 'radius_worst', 'texture_worst',\n",
              "       'perimeter_worst', 'area_worst', 'smoothness_worst',\n",
              "       'compactness_worst', 'concavity_worst', 'concave points_worst',\n",
              "       'symmetry_worst', 'fractal_dimension_worst', 'Unnamed: 32'],\n",
              "      dtype='object'))]))])"
            ],
            "text/html": [
              "<style>#sk-95ec7cf9-4e6c-4787-a052-8242870c938a {color: black;background-color: white;}#sk-95ec7cf9-4e6c-4787-a052-8242870c938a pre{padding: 0;}#sk-95ec7cf9-4e6c-4787-a052-8242870c938a div.sk-toggleable {background-color: white;}#sk-95ec7cf9-4e6c-4787-a052-8242870c938a label.sk-toggleable__label {cursor: pointer;display: block;width: 100%;margin-bottom: 0;padding: 0.3em;box-sizing: border-box;text-align: center;}#sk-95ec7cf9-4e6c-4787-a052-8242870c938a label.sk-toggleable__label-arrow:before {content: \"▸\";float: left;margin-right: 0.25em;color: #696969;}#sk-95ec7cf9-4e6c-4787-a052-8242870c938a label.sk-toggleable__label-arrow:hover:before {color: black;}#sk-95ec7cf9-4e6c-4787-a052-8242870c938a div.sk-estimator:hover label.sk-toggleable__label-arrow:before {color: black;}#sk-95ec7cf9-4e6c-4787-a052-8242870c938a div.sk-toggleable__content {max-height: 0;max-width: 0;overflow: hidden;text-align: left;background-color: #f0f8ff;}#sk-95ec7cf9-4e6c-4787-a052-8242870c938a div.sk-toggleable__content pre {margin: 0.2em;color: black;border-radius: 0.25em;background-color: #f0f8ff;}#sk-95ec7cf9-4e6c-4787-a052-8242870c938a input.sk-toggleable__control:checked~div.sk-toggleable__content {max-height: 200px;max-width: 100%;overflow: auto;}#sk-95ec7cf9-4e6c-4787-a052-8242870c938a input.sk-toggleable__control:checked~label.sk-toggleable__label-arrow:before {content: \"▾\";}#sk-95ec7cf9-4e6c-4787-a052-8242870c938a div.sk-estimator input.sk-toggleable__control:checked~label.sk-toggleable__label {background-color: #d4ebff;}#sk-95ec7cf9-4e6c-4787-a052-8242870c938a div.sk-label input.sk-toggleable__control:checked~label.sk-toggleable__label {background-color: #d4ebff;}#sk-95ec7cf9-4e6c-4787-a052-8242870c938a input.sk-hidden--visually {border: 0;clip: rect(1px 1px 1px 1px);clip: rect(1px, 1px, 1px, 1px);height: 1px;margin: -1px;overflow: hidden;padding: 0;position: absolute;width: 1px;}#sk-95ec7cf9-4e6c-4787-a052-8242870c938a div.sk-estimator {font-family: monospace;background-color: #f0f8ff;border: 1px dotted black;border-radius: 0.25em;box-sizing: border-box;margin-bottom: 0.5em;}#sk-95ec7cf9-4e6c-4787-a052-8242870c938a div.sk-estimator:hover {background-color: #d4ebff;}#sk-95ec7cf9-4e6c-4787-a052-8242870c938a div.sk-parallel-item::after {content: \"\";width: 100%;border-bottom: 1px solid gray;flex-grow: 1;}#sk-95ec7cf9-4e6c-4787-a052-8242870c938a div.sk-label:hover label.sk-toggleable__label {background-color: #d4ebff;}#sk-95ec7cf9-4e6c-4787-a052-8242870c938a div.sk-serial::before {content: \"\";position: absolute;border-left: 1px solid gray;box-sizing: border-box;top: 2em;bottom: 0;left: 50%;}#sk-95ec7cf9-4e6c-4787-a052-8242870c938a div.sk-serial {display: flex;flex-direction: column;align-items: center;background-color: white;padding-right: 0.2em;padding-left: 0.2em;}#sk-95ec7cf9-4e6c-4787-a052-8242870c938a div.sk-item {z-index: 1;}#sk-95ec7cf9-4e6c-4787-a052-8242870c938a div.sk-parallel {display: flex;align-items: stretch;justify-content: center;background-color: white;}#sk-95ec7cf9-4e6c-4787-a052-8242870c938a div.sk-parallel::before {content: \"\";position: absolute;border-left: 1px solid gray;box-sizing: border-box;top: 2em;bottom: 0;left: 50%;}#sk-95ec7cf9-4e6c-4787-a052-8242870c938a div.sk-parallel-item {display: flex;flex-direction: column;position: relative;background-color: white;}#sk-95ec7cf9-4e6c-4787-a052-8242870c938a div.sk-parallel-item:first-child::after {align-self: flex-end;width: 50%;}#sk-95ec7cf9-4e6c-4787-a052-8242870c938a div.sk-parallel-item:last-child::after {align-self: flex-start;width: 50%;}#sk-95ec7cf9-4e6c-4787-a052-8242870c938a div.sk-parallel-item:only-child::after {width: 0;}#sk-95ec7cf9-4e6c-4787-a052-8242870c938a div.sk-dashed-wrapped {border: 1px dashed gray;margin: 0 0.4em 0.5em 0.4em;box-sizing: border-box;padding-bottom: 0.4em;background-color: white;position: relative;}#sk-95ec7cf9-4e6c-4787-a052-8242870c938a div.sk-label label {font-family: monospace;font-weight: bold;background-color: white;display: inline-block;line-height: 1.2em;}#sk-95ec7cf9-4e6c-4787-a052-8242870c938a div.sk-label-container {position: relative;z-index: 2;text-align: center;}#sk-95ec7cf9-4e6c-4787-a052-8242870c938a div.sk-container {/* jupyter's `normalize.less` sets `[hidden] { display: none; }` but bootstrap.min.css set `[hidden] { display: none !important; }` so we also need the `!important` here to be able to override the default hidden behavior on the sphinx rendered scikit-learn.org. See: https://github.com/scikit-learn/scikit-learn/issues/21755 */display: inline-block !important;position: relative;}#sk-95ec7cf9-4e6c-4787-a052-8242870c938a div.sk-text-repr-fallback {display: none;}</style><div id=\"sk-95ec7cf9-4e6c-4787-a052-8242870c938a\" class=\"sk-top-container\"><div class=\"sk-text-repr-fallback\"><pre>Pipeline(steps=[(&#x27;transform_column&#x27;,\n",
              "                 ColumnTransformer(transformers=[(&#x27;drop_columns&#x27;, &#x27;drop&#x27;,\n",
              "                                                  [&#x27;id&#x27;]),\n",
              "                                                 (&#x27;numeric_processing&#x27;,\n",
              "                                                  Pipeline(steps=[(&#x27;meanimputer&#x27;,\n",
              "                                                                   SimpleImputer()),\n",
              "                                                                  (&#x27;robostscaler&#x27;,\n",
              "                                                                   RobustScaler())]),\n",
              "                                                  Index([&#x27;id&#x27;, &#x27;radius_mean&#x27;, &#x27;texture_mean&#x27;, &#x27;perimeter_mean&#x27;, &#x27;area_mean&#x27;,\n",
              "       &#x27;smoothness_mean&#x27;, &#x27;compactness_mean&#x27;, &#x27;concavity_mean&#x27;,\n",
              "       &#x27;concave points_mean&#x27;, &#x27;s...\n",
              "       &#x27;radius_se&#x27;, &#x27;texture_se&#x27;, &#x27;perimeter_se&#x27;, &#x27;area_se&#x27;, &#x27;smoothness_se&#x27;,\n",
              "       &#x27;compactness_se&#x27;, &#x27;concavity_se&#x27;, &#x27;concave points_se&#x27;, &#x27;symmetry_se&#x27;,\n",
              "       &#x27;fractal_dimension_se&#x27;, &#x27;radius_worst&#x27;, &#x27;texture_worst&#x27;,\n",
              "       &#x27;perimeter_worst&#x27;, &#x27;area_worst&#x27;, &#x27;smoothness_worst&#x27;,\n",
              "       &#x27;compactness_worst&#x27;, &#x27;concavity_worst&#x27;, &#x27;concave points_worst&#x27;,\n",
              "       &#x27;symmetry_worst&#x27;, &#x27;fractal_dimension_worst&#x27;, &#x27;Unnamed: 32&#x27;],\n",
              "      dtype=&#x27;object&#x27;))]))])</pre><b>Please rerun this cell to show the HTML repr or trust the notebook.</b></div><div class=\"sk-container\" hidden><div class=\"sk-item sk-dashed-wrapped\"><div class=\"sk-label-container\"><div class=\"sk-label sk-toggleable\"><input class=\"sk-toggleable__control sk-hidden--visually\" id=\"bbecc958-5db6-4f04-8bad-d1a889298760\" type=\"checkbox\" ><label for=\"bbecc958-5db6-4f04-8bad-d1a889298760\" class=\"sk-toggleable__label sk-toggleable__label-arrow\">Pipeline</label><div class=\"sk-toggleable__content\"><pre>Pipeline(steps=[(&#x27;transform_column&#x27;,\n",
              "                 ColumnTransformer(transformers=[(&#x27;drop_columns&#x27;, &#x27;drop&#x27;,\n",
              "                                                  [&#x27;id&#x27;]),\n",
              "                                                 (&#x27;numeric_processing&#x27;,\n",
              "                                                  Pipeline(steps=[(&#x27;meanimputer&#x27;,\n",
              "                                                                   SimpleImputer()),\n",
              "                                                                  (&#x27;robostscaler&#x27;,\n",
              "                                                                   RobustScaler())]),\n",
              "                                                  Index([&#x27;id&#x27;, &#x27;radius_mean&#x27;, &#x27;texture_mean&#x27;, &#x27;perimeter_mean&#x27;, &#x27;area_mean&#x27;,\n",
              "       &#x27;smoothness_mean&#x27;, &#x27;compactness_mean&#x27;, &#x27;concavity_mean&#x27;,\n",
              "       &#x27;concave points_mean&#x27;, &#x27;s...\n",
              "       &#x27;radius_se&#x27;, &#x27;texture_se&#x27;, &#x27;perimeter_se&#x27;, &#x27;area_se&#x27;, &#x27;smoothness_se&#x27;,\n",
              "       &#x27;compactness_se&#x27;, &#x27;concavity_se&#x27;, &#x27;concave points_se&#x27;, &#x27;symmetry_se&#x27;,\n",
              "       &#x27;fractal_dimension_se&#x27;, &#x27;radius_worst&#x27;, &#x27;texture_worst&#x27;,\n",
              "       &#x27;perimeter_worst&#x27;, &#x27;area_worst&#x27;, &#x27;smoothness_worst&#x27;,\n",
              "       &#x27;compactness_worst&#x27;, &#x27;concavity_worst&#x27;, &#x27;concave points_worst&#x27;,\n",
              "       &#x27;symmetry_worst&#x27;, &#x27;fractal_dimension_worst&#x27;, &#x27;Unnamed: 32&#x27;],\n",
              "      dtype=&#x27;object&#x27;))]))])</pre></div></div></div><div class=\"sk-serial\"><div class=\"sk-item sk-dashed-wrapped\"><div class=\"sk-label-container\"><div class=\"sk-label sk-toggleable\"><input class=\"sk-toggleable__control sk-hidden--visually\" id=\"3c519bb0-03c9-464b-9d1e-eb2f11b439f6\" type=\"checkbox\" ><label for=\"3c519bb0-03c9-464b-9d1e-eb2f11b439f6\" class=\"sk-toggleable__label sk-toggleable__label-arrow\">transform_column: ColumnTransformer</label><div class=\"sk-toggleable__content\"><pre>ColumnTransformer(transformers=[(&#x27;drop_columns&#x27;, &#x27;drop&#x27;, [&#x27;id&#x27;]),\n",
              "                                (&#x27;numeric_processing&#x27;,\n",
              "                                 Pipeline(steps=[(&#x27;meanimputer&#x27;,\n",
              "                                                  SimpleImputer()),\n",
              "                                                 (&#x27;robostscaler&#x27;,\n",
              "                                                  RobustScaler())]),\n",
              "                                 Index([&#x27;id&#x27;, &#x27;radius_mean&#x27;, &#x27;texture_mean&#x27;, &#x27;perimeter_mean&#x27;, &#x27;area_mean&#x27;,\n",
              "       &#x27;smoothness_mean&#x27;, &#x27;compactness_mean&#x27;, &#x27;concavity_mean&#x27;,\n",
              "       &#x27;concave points_mean&#x27;, &#x27;symmetry_mean&#x27;, &#x27;fractal_dimension_mean&#x27;,\n",
              "       &#x27;radius_se&#x27;, &#x27;texture_se&#x27;, &#x27;perimeter_se&#x27;, &#x27;area_se&#x27;, &#x27;smoothness_se&#x27;,\n",
              "       &#x27;compactness_se&#x27;, &#x27;concavity_se&#x27;, &#x27;concave points_se&#x27;, &#x27;symmetry_se&#x27;,\n",
              "       &#x27;fractal_dimension_se&#x27;, &#x27;radius_worst&#x27;, &#x27;texture_worst&#x27;,\n",
              "       &#x27;perimeter_worst&#x27;, &#x27;area_worst&#x27;, &#x27;smoothness_worst&#x27;,\n",
              "       &#x27;compactness_worst&#x27;, &#x27;concavity_worst&#x27;, &#x27;concave points_worst&#x27;,\n",
              "       &#x27;symmetry_worst&#x27;, &#x27;fractal_dimension_worst&#x27;, &#x27;Unnamed: 32&#x27;],\n",
              "      dtype=&#x27;object&#x27;))])</pre></div></div></div><div class=\"sk-parallel\"><div class=\"sk-parallel-item\"><div class=\"sk-item\"><div class=\"sk-label-container\"><div class=\"sk-label sk-toggleable\"><input class=\"sk-toggleable__control sk-hidden--visually\" id=\"5fc995da-12d3-47af-a166-132686eb02ff\" type=\"checkbox\" ><label for=\"5fc995da-12d3-47af-a166-132686eb02ff\" class=\"sk-toggleable__label sk-toggleable__label-arrow\">drop_columns</label><div class=\"sk-toggleable__content\"><pre>[&#x27;id&#x27;]</pre></div></div></div><div class=\"sk-serial\"><div class=\"sk-item\"><div class=\"sk-estimator sk-toggleable\"><input class=\"sk-toggleable__control sk-hidden--visually\" id=\"ac3016db-07b2-49a4-af10-93949e229361\" type=\"checkbox\" ><label for=\"ac3016db-07b2-49a4-af10-93949e229361\" class=\"sk-toggleable__label sk-toggleable__label-arrow\">drop</label><div class=\"sk-toggleable__content\"><pre>drop</pre></div></div></div></div></div></div><div class=\"sk-parallel-item\"><div class=\"sk-item\"><div class=\"sk-label-container\"><div class=\"sk-label sk-toggleable\"><input class=\"sk-toggleable__control sk-hidden--visually\" id=\"e8e9ed80-4d78-42ea-877b-a40d5efc2396\" type=\"checkbox\" ><label for=\"e8e9ed80-4d78-42ea-877b-a40d5efc2396\" class=\"sk-toggleable__label sk-toggleable__label-arrow\">numeric_processing</label><div class=\"sk-toggleable__content\"><pre>Index([&#x27;id&#x27;, &#x27;radius_mean&#x27;, &#x27;texture_mean&#x27;, &#x27;perimeter_mean&#x27;, &#x27;area_mean&#x27;,\n",
              "       &#x27;smoothness_mean&#x27;, &#x27;compactness_mean&#x27;, &#x27;concavity_mean&#x27;,\n",
              "       &#x27;concave points_mean&#x27;, &#x27;symmetry_mean&#x27;, &#x27;fractal_dimension_mean&#x27;,\n",
              "       &#x27;radius_se&#x27;, &#x27;texture_se&#x27;, &#x27;perimeter_se&#x27;, &#x27;area_se&#x27;, &#x27;smoothness_se&#x27;,\n",
              "       &#x27;compactness_se&#x27;, &#x27;concavity_se&#x27;, &#x27;concave points_se&#x27;, &#x27;symmetry_se&#x27;,\n",
              "       &#x27;fractal_dimension_se&#x27;, &#x27;radius_worst&#x27;, &#x27;texture_worst&#x27;,\n",
              "       &#x27;perimeter_worst&#x27;, &#x27;area_worst&#x27;, &#x27;smoothness_worst&#x27;,\n",
              "       &#x27;compactness_worst&#x27;, &#x27;concavity_worst&#x27;, &#x27;concave points_worst&#x27;,\n",
              "       &#x27;symmetry_worst&#x27;, &#x27;fractal_dimension_worst&#x27;, &#x27;Unnamed: 32&#x27;],\n",
              "      dtype=&#x27;object&#x27;)</pre></div></div></div><div class=\"sk-serial\"><div class=\"sk-item\"><div class=\"sk-serial\"><div class=\"sk-item\"><div class=\"sk-estimator sk-toggleable\"><input class=\"sk-toggleable__control sk-hidden--visually\" id=\"0825b8ac-e3bc-4b1e-a308-34c2152a3707\" type=\"checkbox\" ><label for=\"0825b8ac-e3bc-4b1e-a308-34c2152a3707\" class=\"sk-toggleable__label sk-toggleable__label-arrow\">SimpleImputer</label><div class=\"sk-toggleable__content\"><pre>SimpleImputer()</pre></div></div></div><div class=\"sk-item\"><div class=\"sk-estimator sk-toggleable\"><input class=\"sk-toggleable__control sk-hidden--visually\" id=\"b92a9c31-7176-4f97-9868-87701c72164f\" type=\"checkbox\" ><label for=\"b92a9c31-7176-4f97-9868-87701c72164f\" class=\"sk-toggleable__label sk-toggleable__label-arrow\">RobustScaler</label><div class=\"sk-toggleable__content\"><pre>RobustScaler()</pre></div></div></div></div></div></div></div></div></div></div></div></div></div></div>"
            ]
          },
          "metadata": {},
          "execution_count": 111
        }
      ]
    },
    {
      "cell_type": "code",
      "source": [
        "transformed_train=pipeline.transform(X_train)"
      ],
      "metadata": {
        "id": "y2gdJlqFfkyp"
      },
      "execution_count": 112,
      "outputs": []
    },
    {
      "cell_type": "code",
      "source": [
        "pd.DataFrame(transformed_train)"
      ],
      "metadata": {
        "colab": {
          "base_uri": "https://localhost:8080/",
          "height": 488
        },
        "id": "zwMLya1bfo6o",
        "outputId": "e0b93b0a-90af-4cb5-8379-651f0b603e5c"
      },
      "execution_count": 113,
      "outputs": [
        {
          "output_type": "execute_result",
          "data": {
            "text/plain": [
              "            0         1         2         3         4         5         6   \\\n",
              "0    -0.002690 -0.395310 -0.685986 -0.402170 -0.357491  0.256156 -0.302049   \n",
              "1    -0.006032 -0.053601  0.071799 -0.119161 -0.047332 -0.851981 -0.926021   \n",
              "2     0.000663  0.203238  0.282872  0.198170  0.186634 -0.385707  0.205946   \n",
              "3     0.001510 -0.272473 -0.943772 -0.273942 -0.257696  0.721895 -0.115588   \n",
              "4     0.000037 -0.375209 -0.497405 -0.350684 -0.352617  0.657655  0.299100   \n",
              "..         ...       ...       ...       ...       ...       ...       ...   \n",
              "393  -0.004930  1.451703  1.076990  1.428317  1.658158  0.266863  0.952725   \n",
              "394  -0.004609 -0.567281 -0.679066 -0.583826 -0.488327 -0.994914 -0.716426   \n",
              "395  -0.005795  0.873255  0.973183  0.903748  0.984479  0.566649  1.326890   \n",
              "396  10.861553  0.165271  0.407439  0.113333  0.148153 -0.311296 -0.436035   \n",
              "397  -0.006389 -0.058068 -0.082180 -0.119161 -0.056054 -0.357869 -0.929592   \n",
              "\n",
              "           7         8         9   ...        21        22        23  \\\n",
              "0   -0.197001 -0.090011  0.273491  ... -0.353736 -0.439820 -0.380333   \n",
              "1   -0.609685 -0.551513  0.077922  ... -0.102544 -0.320585 -0.163000   \n",
              "2   -0.125778 -0.066315 -0.878533  ...  0.250397  0.242970  0.344575   \n",
              "3   -0.250006 -0.114076 -0.417112  ... -0.226550 -1.049494 -0.240088   \n",
              "4    0.071320  0.198025  0.282659  ... -0.355326 -0.610799 -0.355953   \n",
              "..        ...       ...       ...  ...       ...       ...       ...   \n",
              "393  1.849754  1.482618  1.248281  ...  1.232909  0.953881  1.194404   \n",
              "394 -0.398265 -0.483398 -1.205500  ... -0.465024 -0.492688 -0.452081   \n",
              "395  1.023184  0.831228  0.407945  ...  1.342607  0.980877  1.261740   \n",
              "396 -0.474721 -0.279770 -0.844920  ...  0.072337  0.582677  0.023452   \n",
              "397 -0.368129 -0.091114 -0.997708  ... -0.250397 -0.257593 -0.297208   \n",
              "\n",
              "           24        25        26        27        28        29        30  \n",
              "0   -0.305879  0.254314 -0.333803 -0.198326 -0.033074 -0.215955 -0.106452  \n",
              "1   -0.089993 -1.082652 -0.827535 -0.841015 -0.873217 -0.549907 -0.869696  \n",
              "2    0.243544 -0.603088  0.613255  0.056510  0.340873 -0.408905 -0.081848  \n",
              "3   -0.211072  0.733878 -0.308166 -0.263835 -0.252083 -0.042301  0.015566  \n",
              "4   -0.332150  0.348774 -0.032304 -0.019077  0.109504 -0.033395 -0.298268  \n",
              "..        ...       ...       ...       ...       ...       ...       ...  \n",
              "393  1.484518 -0.159855  0.834765  1.194277  0.729452  0.735436  0.222948  \n",
              "394 -0.388447 -0.882834 -0.517882 -0.496536 -0.645606 -0.756215 -0.628672  \n",
              "395  1.634643  0.966394  2.646327  1.515702  0.894574  0.747310  2.695958  \n",
              "396  0.059152 -0.116258 -0.369183 -0.623378 -0.195724 -0.866048 -0.202862  \n",
              "397 -0.217599 -1.267575 -0.908140 -0.673697 -0.487406 -1.220779 -0.929952  \n",
              "\n",
              "[398 rows x 31 columns]"
            ],
            "text/html": [
              "\n",
              "  <div id=\"df-28fee2a9-183c-4229-a08b-2d01ac7e4420\">\n",
              "    <div class=\"colab-df-container\">\n",
              "      <div>\n",
              "<style scoped>\n",
              "    .dataframe tbody tr th:only-of-type {\n",
              "        vertical-align: middle;\n",
              "    }\n",
              "\n",
              "    .dataframe tbody tr th {\n",
              "        vertical-align: top;\n",
              "    }\n",
              "\n",
              "    .dataframe thead th {\n",
              "        text-align: right;\n",
              "    }\n",
              "</style>\n",
              "<table border=\"1\" class=\"dataframe\">\n",
              "  <thead>\n",
              "    <tr style=\"text-align: right;\">\n",
              "      <th></th>\n",
              "      <th>0</th>\n",
              "      <th>1</th>\n",
              "      <th>2</th>\n",
              "      <th>3</th>\n",
              "      <th>4</th>\n",
              "      <th>5</th>\n",
              "      <th>6</th>\n",
              "      <th>7</th>\n",
              "      <th>8</th>\n",
              "      <th>9</th>\n",
              "      <th>...</th>\n",
              "      <th>21</th>\n",
              "      <th>22</th>\n",
              "      <th>23</th>\n",
              "      <th>24</th>\n",
              "      <th>25</th>\n",
              "      <th>26</th>\n",
              "      <th>27</th>\n",
              "      <th>28</th>\n",
              "      <th>29</th>\n",
              "      <th>30</th>\n",
              "    </tr>\n",
              "  </thead>\n",
              "  <tbody>\n",
              "    <tr>\n",
              "      <th>0</th>\n",
              "      <td>-0.002690</td>\n",
              "      <td>-0.395310</td>\n",
              "      <td>-0.685986</td>\n",
              "      <td>-0.402170</td>\n",
              "      <td>-0.357491</td>\n",
              "      <td>0.256156</td>\n",
              "      <td>-0.302049</td>\n",
              "      <td>-0.197001</td>\n",
              "      <td>-0.090011</td>\n",
              "      <td>0.273491</td>\n",
              "      <td>...</td>\n",
              "      <td>-0.353736</td>\n",
              "      <td>-0.439820</td>\n",
              "      <td>-0.380333</td>\n",
              "      <td>-0.305879</td>\n",
              "      <td>0.254314</td>\n",
              "      <td>-0.333803</td>\n",
              "      <td>-0.198326</td>\n",
              "      <td>-0.033074</td>\n",
              "      <td>-0.215955</td>\n",
              "      <td>-0.106452</td>\n",
              "    </tr>\n",
              "    <tr>\n",
              "      <th>1</th>\n",
              "      <td>-0.006032</td>\n",
              "      <td>-0.053601</td>\n",
              "      <td>0.071799</td>\n",
              "      <td>-0.119161</td>\n",
              "      <td>-0.047332</td>\n",
              "      <td>-0.851981</td>\n",
              "      <td>-0.926021</td>\n",
              "      <td>-0.609685</td>\n",
              "      <td>-0.551513</td>\n",
              "      <td>0.077922</td>\n",
              "      <td>...</td>\n",
              "      <td>-0.102544</td>\n",
              "      <td>-0.320585</td>\n",
              "      <td>-0.163000</td>\n",
              "      <td>-0.089993</td>\n",
              "      <td>-1.082652</td>\n",
              "      <td>-0.827535</td>\n",
              "      <td>-0.841015</td>\n",
              "      <td>-0.873217</td>\n",
              "      <td>-0.549907</td>\n",
              "      <td>-0.869696</td>\n",
              "    </tr>\n",
              "    <tr>\n",
              "      <th>2</th>\n",
              "      <td>0.000663</td>\n",
              "      <td>0.203238</td>\n",
              "      <td>0.282872</td>\n",
              "      <td>0.198170</td>\n",
              "      <td>0.186634</td>\n",
              "      <td>-0.385707</td>\n",
              "      <td>0.205946</td>\n",
              "      <td>-0.125778</td>\n",
              "      <td>-0.066315</td>\n",
              "      <td>-0.878533</td>\n",
              "      <td>...</td>\n",
              "      <td>0.250397</td>\n",
              "      <td>0.242970</td>\n",
              "      <td>0.344575</td>\n",
              "      <td>0.243544</td>\n",
              "      <td>-0.603088</td>\n",
              "      <td>0.613255</td>\n",
              "      <td>0.056510</td>\n",
              "      <td>0.340873</td>\n",
              "      <td>-0.408905</td>\n",
              "      <td>-0.081848</td>\n",
              "    </tr>\n",
              "    <tr>\n",
              "      <th>3</th>\n",
              "      <td>0.001510</td>\n",
              "      <td>-0.272473</td>\n",
              "      <td>-0.943772</td>\n",
              "      <td>-0.273942</td>\n",
              "      <td>-0.257696</td>\n",
              "      <td>0.721895</td>\n",
              "      <td>-0.115588</td>\n",
              "      <td>-0.250006</td>\n",
              "      <td>-0.114076</td>\n",
              "      <td>-0.417112</td>\n",
              "      <td>...</td>\n",
              "      <td>-0.226550</td>\n",
              "      <td>-1.049494</td>\n",
              "      <td>-0.240088</td>\n",
              "      <td>-0.211072</td>\n",
              "      <td>0.733878</td>\n",
              "      <td>-0.308166</td>\n",
              "      <td>-0.263835</td>\n",
              "      <td>-0.252083</td>\n",
              "      <td>-0.042301</td>\n",
              "      <td>0.015566</td>\n",
              "    </tr>\n",
              "    <tr>\n",
              "      <th>4</th>\n",
              "      <td>0.000037</td>\n",
              "      <td>-0.375209</td>\n",
              "      <td>-0.497405</td>\n",
              "      <td>-0.350684</td>\n",
              "      <td>-0.352617</td>\n",
              "      <td>0.657655</td>\n",
              "      <td>0.299100</td>\n",
              "      <td>0.071320</td>\n",
              "      <td>0.198025</td>\n",
              "      <td>0.282659</td>\n",
              "      <td>...</td>\n",
              "      <td>-0.355326</td>\n",
              "      <td>-0.610799</td>\n",
              "      <td>-0.355953</td>\n",
              "      <td>-0.332150</td>\n",
              "      <td>0.348774</td>\n",
              "      <td>-0.032304</td>\n",
              "      <td>-0.019077</td>\n",
              "      <td>0.109504</td>\n",
              "      <td>-0.033395</td>\n",
              "      <td>-0.298268</td>\n",
              "    </tr>\n",
              "    <tr>\n",
              "      <th>...</th>\n",
              "      <td>...</td>\n",
              "      <td>...</td>\n",
              "      <td>...</td>\n",
              "      <td>...</td>\n",
              "      <td>...</td>\n",
              "      <td>...</td>\n",
              "      <td>...</td>\n",
              "      <td>...</td>\n",
              "      <td>...</td>\n",
              "      <td>...</td>\n",
              "      <td>...</td>\n",
              "      <td>...</td>\n",
              "      <td>...</td>\n",
              "      <td>...</td>\n",
              "      <td>...</td>\n",
              "      <td>...</td>\n",
              "      <td>...</td>\n",
              "      <td>...</td>\n",
              "      <td>...</td>\n",
              "      <td>...</td>\n",
              "      <td>...</td>\n",
              "    </tr>\n",
              "    <tr>\n",
              "      <th>393</th>\n",
              "      <td>-0.004930</td>\n",
              "      <td>1.451703</td>\n",
              "      <td>1.076990</td>\n",
              "      <td>1.428317</td>\n",
              "      <td>1.658158</td>\n",
              "      <td>0.266863</td>\n",
              "      <td>0.952725</td>\n",
              "      <td>1.849754</td>\n",
              "      <td>1.482618</td>\n",
              "      <td>1.248281</td>\n",
              "      <td>...</td>\n",
              "      <td>1.232909</td>\n",
              "      <td>0.953881</td>\n",
              "      <td>1.194404</td>\n",
              "      <td>1.484518</td>\n",
              "      <td>-0.159855</td>\n",
              "      <td>0.834765</td>\n",
              "      <td>1.194277</td>\n",
              "      <td>0.729452</td>\n",
              "      <td>0.735436</td>\n",
              "      <td>0.222948</td>\n",
              "    </tr>\n",
              "    <tr>\n",
              "      <th>394</th>\n",
              "      <td>-0.004609</td>\n",
              "      <td>-0.567281</td>\n",
              "      <td>-0.679066</td>\n",
              "      <td>-0.583826</td>\n",
              "      <td>-0.488327</td>\n",
              "      <td>-0.994914</td>\n",
              "      <td>-0.716426</td>\n",
              "      <td>-0.398265</td>\n",
              "      <td>-0.483398</td>\n",
              "      <td>-1.205500</td>\n",
              "      <td>...</td>\n",
              "      <td>-0.465024</td>\n",
              "      <td>-0.492688</td>\n",
              "      <td>-0.452081</td>\n",
              "      <td>-0.388447</td>\n",
              "      <td>-0.882834</td>\n",
              "      <td>-0.517882</td>\n",
              "      <td>-0.496536</td>\n",
              "      <td>-0.645606</td>\n",
              "      <td>-0.756215</td>\n",
              "      <td>-0.628672</td>\n",
              "    </tr>\n",
              "    <tr>\n",
              "      <th>395</th>\n",
              "      <td>-0.005795</td>\n",
              "      <td>0.873255</td>\n",
              "      <td>0.973183</td>\n",
              "      <td>0.903748</td>\n",
              "      <td>0.984479</td>\n",
              "      <td>0.566649</td>\n",
              "      <td>1.326890</td>\n",
              "      <td>1.023184</td>\n",
              "      <td>0.831228</td>\n",
              "      <td>0.407945</td>\n",
              "      <td>...</td>\n",
              "      <td>1.342607</td>\n",
              "      <td>0.980877</td>\n",
              "      <td>1.261740</td>\n",
              "      <td>1.634643</td>\n",
              "      <td>0.966394</td>\n",
              "      <td>2.646327</td>\n",
              "      <td>1.515702</td>\n",
              "      <td>0.894574</td>\n",
              "      <td>0.747310</td>\n",
              "      <td>2.695958</td>\n",
              "    </tr>\n",
              "    <tr>\n",
              "      <th>396</th>\n",
              "      <td>10.861553</td>\n",
              "      <td>0.165271</td>\n",
              "      <td>0.407439</td>\n",
              "      <td>0.113333</td>\n",
              "      <td>0.148153</td>\n",
              "      <td>-0.311296</td>\n",
              "      <td>-0.436035</td>\n",
              "      <td>-0.474721</td>\n",
              "      <td>-0.279770</td>\n",
              "      <td>-0.844920</td>\n",
              "      <td>...</td>\n",
              "      <td>0.072337</td>\n",
              "      <td>0.582677</td>\n",
              "      <td>0.023452</td>\n",
              "      <td>0.059152</td>\n",
              "      <td>-0.116258</td>\n",
              "      <td>-0.369183</td>\n",
              "      <td>-0.623378</td>\n",
              "      <td>-0.195724</td>\n",
              "      <td>-0.866048</td>\n",
              "      <td>-0.202862</td>\n",
              "    </tr>\n",
              "    <tr>\n",
              "      <th>397</th>\n",
              "      <td>-0.006389</td>\n",
              "      <td>-0.058068</td>\n",
              "      <td>-0.082180</td>\n",
              "      <td>-0.119161</td>\n",
              "      <td>-0.056054</td>\n",
              "      <td>-0.357869</td>\n",
              "      <td>-0.929592</td>\n",
              "      <td>-0.368129</td>\n",
              "      <td>-0.091114</td>\n",
              "      <td>-0.997708</td>\n",
              "      <td>...</td>\n",
              "      <td>-0.250397</td>\n",
              "      <td>-0.257593</td>\n",
              "      <td>-0.297208</td>\n",
              "      <td>-0.217599</td>\n",
              "      <td>-1.267575</td>\n",
              "      <td>-0.908140</td>\n",
              "      <td>-0.673697</td>\n",
              "      <td>-0.487406</td>\n",
              "      <td>-1.220779</td>\n",
              "      <td>-0.929952</td>\n",
              "    </tr>\n",
              "  </tbody>\n",
              "</table>\n",
              "<p>398 rows × 31 columns</p>\n",
              "</div>\n",
              "      <button class=\"colab-df-convert\" onclick=\"convertToInteractive('df-28fee2a9-183c-4229-a08b-2d01ac7e4420')\"\n",
              "              title=\"Convert this dataframe to an interactive table.\"\n",
              "              style=\"display:none;\">\n",
              "        \n",
              "  <svg xmlns=\"http://www.w3.org/2000/svg\" height=\"24px\"viewBox=\"0 0 24 24\"\n",
              "       width=\"24px\">\n",
              "    <path d=\"M0 0h24v24H0V0z\" fill=\"none\"/>\n",
              "    <path d=\"M18.56 5.44l.94 2.06.94-2.06 2.06-.94-2.06-.94-.94-2.06-.94 2.06-2.06.94zm-11 1L8.5 8.5l.94-2.06 2.06-.94-2.06-.94L8.5 2.5l-.94 2.06-2.06.94zm10 10l.94 2.06.94-2.06 2.06-.94-2.06-.94-.94-2.06-.94 2.06-2.06.94z\"/><path d=\"M17.41 7.96l-1.37-1.37c-.4-.4-.92-.59-1.43-.59-.52 0-1.04.2-1.43.59L10.3 9.45l-7.72 7.72c-.78.78-.78 2.05 0 2.83L4 21.41c.39.39.9.59 1.41.59.51 0 1.02-.2 1.41-.59l7.78-7.78 2.81-2.81c.8-.78.8-2.07 0-2.86zM5.41 20L4 18.59l7.72-7.72 1.47 1.35L5.41 20z\"/>\n",
              "  </svg>\n",
              "      </button>\n",
              "      \n",
              "  <style>\n",
              "    .colab-df-container {\n",
              "      display:flex;\n",
              "      flex-wrap:wrap;\n",
              "      gap: 12px;\n",
              "    }\n",
              "\n",
              "    .colab-df-convert {\n",
              "      background-color: #E8F0FE;\n",
              "      border: none;\n",
              "      border-radius: 50%;\n",
              "      cursor: pointer;\n",
              "      display: none;\n",
              "      fill: #1967D2;\n",
              "      height: 32px;\n",
              "      padding: 0 0 0 0;\n",
              "      width: 32px;\n",
              "    }\n",
              "\n",
              "    .colab-df-convert:hover {\n",
              "      background-color: #E2EBFA;\n",
              "      box-shadow: 0px 1px 2px rgba(60, 64, 67, 0.3), 0px 1px 3px 1px rgba(60, 64, 67, 0.15);\n",
              "      fill: #174EA6;\n",
              "    }\n",
              "\n",
              "    [theme=dark] .colab-df-convert {\n",
              "      background-color: #3B4455;\n",
              "      fill: #D2E3FC;\n",
              "    }\n",
              "\n",
              "    [theme=dark] .colab-df-convert:hover {\n",
              "      background-color: #434B5C;\n",
              "      box-shadow: 0px 1px 3px 1px rgba(0, 0, 0, 0.15);\n",
              "      filter: drop-shadow(0px 1px 2px rgba(0, 0, 0, 0.3));\n",
              "      fill: #FFFFFF;\n",
              "    }\n",
              "  </style>\n",
              "\n",
              "      <script>\n",
              "        const buttonEl =\n",
              "          document.querySelector('#df-28fee2a9-183c-4229-a08b-2d01ac7e4420 button.colab-df-convert');\n",
              "        buttonEl.style.display =\n",
              "          google.colab.kernel.accessAllowed ? 'block' : 'none';\n",
              "\n",
              "        async function convertToInteractive(key) {\n",
              "          const element = document.querySelector('#df-28fee2a9-183c-4229-a08b-2d01ac7e4420');\n",
              "          const dataTable =\n",
              "            await google.colab.kernel.invokeFunction('convertToInteractive',\n",
              "                                                     [key], {});\n",
              "          if (!dataTable) return;\n",
              "\n",
              "          const docLinkHtml = 'Like what you see? Visit the ' +\n",
              "            '<a target=\"_blank\" href=https://colab.research.google.com/notebooks/data_table.ipynb>data table notebook</a>'\n",
              "            + ' to learn more about interactive tables.';\n",
              "          element.innerHTML = '';\n",
              "          dataTable['output_type'] = 'display_data';\n",
              "          await google.colab.output.renderOutput(dataTable, element);\n",
              "          const docLink = document.createElement('div');\n",
              "          docLink.innerHTML = docLinkHtml;\n",
              "          element.appendChild(docLink);\n",
              "        }\n",
              "      </script>\n",
              "    </div>\n",
              "  </div>\n",
              "  "
            ]
          },
          "metadata": {},
          "execution_count": 113
        }
      ]
    },
    {
      "cell_type": "code",
      "source": [
        "pipeline.transform(X_test)"
      ],
      "metadata": {
        "colab": {
          "base_uri": "https://localhost:8080/"
        },
        "id": "RLzmTc4UfsYr",
        "outputId": "4c9135b7-5223-4ca6-ad4a-83f325397fc0"
      },
      "execution_count": 114,
      "outputs": [
        {
          "output_type": "execute_result",
          "data": {
            "text/plain": [
              "array([[ 3.03425610e-05,  3.12674484e-01, -8.50346021e-01, ...,\n",
              "         1.12470646e-01,  2.59740260e-02,  5.96033141e-01],\n",
              "       [-1.02046136e-01, -2.68006700e-02, -4.06574394e-02, ...,\n",
              "         1.08144852e+00,  1.61855288e+00,  1.89254331e+00],\n",
              "       [-1.82179721e-03, -7.59352317e-02, -4.97404844e-01, ...,\n",
              "         6.10554938e-02,  8.46753247e-01,  7.84835551e-01],\n",
              "       ...,\n",
              "       [ 1.04089511e+01,  5.56113903e-01, -1.73875433e-01, ...,\n",
              "         8.06575207e-01,  1.45825603e+00,  1.23474768e+00],\n",
              "       [ 9.95358614e-01, -9.38023451e-02, -4.64532872e-01, ...,\n",
              "        -4.11568409e-01,  1.17922078e+00, -4.81546573e-01],\n",
              "       [-3.73064274e-06, -4.75711893e-01,  4.35121107e-01, ...,\n",
              "        -5.57310592e-01,  2.47124304e-01, -4.50916395e-01]])"
            ]
          },
          "metadata": {},
          "execution_count": 114
        }
      ]
    },
    {
      "cell_type": "code",
      "source": [
        "pipeline = Pipeline([\n",
        "                     ('transform_column', col_transformer),\n",
        "                     ('logistics', RandomForestClassifier())\n",
        "                    ])"
      ],
      "metadata": {
        "id": "M0eLQdprfv03"
      },
      "execution_count": 115,
      "outputs": []
    },
    {
      "cell_type": "code",
      "source": [
        "pipeline.fit(X_train, y_train)"
      ],
      "metadata": {
        "colab": {
          "base_uri": "https://localhost:8080/",
          "height": 227
        },
        "id": "RjeNa79if1iB",
        "outputId": "da5d5aa9-9097-41d2-f2b8-494976a395b4"
      },
      "execution_count": 116,
      "outputs": [
        {
          "output_type": "execute_result",
          "data": {
            "text/plain": [
              "Pipeline(steps=[('transform_column',\n",
              "                 ColumnTransformer(transformers=[('drop_columns', 'drop',\n",
              "                                                  ['id']),\n",
              "                                                 ('numeric_processing',\n",
              "                                                  Pipeline(steps=[('meanimputer',\n",
              "                                                                   SimpleImputer()),\n",
              "                                                                  ('robostscaler',\n",
              "                                                                   RobustScaler())]),\n",
              "                                                  Index(['id', 'radius_mean', 'texture_mean', 'perimeter_mean', 'area_mean',\n",
              "       'smoothness_mean', 'compactness_mean', 'concavity_mean',\n",
              "       'concave points_mean', 's...\n",
              "       'radius_se', 'texture_se', 'perimeter_se', 'area_se', 'smoothness_se',\n",
              "       'compactness_se', 'concavity_se', 'concave points_se', 'symmetry_se',\n",
              "       'fractal_dimension_se', 'radius_worst', 'texture_worst',\n",
              "       'perimeter_worst', 'area_worst', 'smoothness_worst',\n",
              "       'compactness_worst', 'concavity_worst', 'concave points_worst',\n",
              "       'symmetry_worst', 'fractal_dimension_worst', 'Unnamed: 32'],\n",
              "      dtype='object'))])),\n",
              "                ('logistics', RandomForestClassifier())])"
            ],
            "text/html": [
              "<style>#sk-154d6fb6-bad7-4b4d-944c-697d47b7374f {color: black;background-color: white;}#sk-154d6fb6-bad7-4b4d-944c-697d47b7374f pre{padding: 0;}#sk-154d6fb6-bad7-4b4d-944c-697d47b7374f div.sk-toggleable {background-color: white;}#sk-154d6fb6-bad7-4b4d-944c-697d47b7374f label.sk-toggleable__label {cursor: pointer;display: block;width: 100%;margin-bottom: 0;padding: 0.3em;box-sizing: border-box;text-align: center;}#sk-154d6fb6-bad7-4b4d-944c-697d47b7374f label.sk-toggleable__label-arrow:before {content: \"▸\";float: left;margin-right: 0.25em;color: #696969;}#sk-154d6fb6-bad7-4b4d-944c-697d47b7374f label.sk-toggleable__label-arrow:hover:before {color: black;}#sk-154d6fb6-bad7-4b4d-944c-697d47b7374f div.sk-estimator:hover label.sk-toggleable__label-arrow:before {color: black;}#sk-154d6fb6-bad7-4b4d-944c-697d47b7374f div.sk-toggleable__content {max-height: 0;max-width: 0;overflow: hidden;text-align: left;background-color: #f0f8ff;}#sk-154d6fb6-bad7-4b4d-944c-697d47b7374f div.sk-toggleable__content pre {margin: 0.2em;color: black;border-radius: 0.25em;background-color: #f0f8ff;}#sk-154d6fb6-bad7-4b4d-944c-697d47b7374f input.sk-toggleable__control:checked~div.sk-toggleable__content {max-height: 200px;max-width: 100%;overflow: auto;}#sk-154d6fb6-bad7-4b4d-944c-697d47b7374f input.sk-toggleable__control:checked~label.sk-toggleable__label-arrow:before {content: \"▾\";}#sk-154d6fb6-bad7-4b4d-944c-697d47b7374f div.sk-estimator input.sk-toggleable__control:checked~label.sk-toggleable__label {background-color: #d4ebff;}#sk-154d6fb6-bad7-4b4d-944c-697d47b7374f div.sk-label input.sk-toggleable__control:checked~label.sk-toggleable__label {background-color: #d4ebff;}#sk-154d6fb6-bad7-4b4d-944c-697d47b7374f input.sk-hidden--visually {border: 0;clip: rect(1px 1px 1px 1px);clip: rect(1px, 1px, 1px, 1px);height: 1px;margin: -1px;overflow: hidden;padding: 0;position: absolute;width: 1px;}#sk-154d6fb6-bad7-4b4d-944c-697d47b7374f div.sk-estimator {font-family: monospace;background-color: #f0f8ff;border: 1px dotted black;border-radius: 0.25em;box-sizing: border-box;margin-bottom: 0.5em;}#sk-154d6fb6-bad7-4b4d-944c-697d47b7374f div.sk-estimator:hover {background-color: #d4ebff;}#sk-154d6fb6-bad7-4b4d-944c-697d47b7374f div.sk-parallel-item::after {content: \"\";width: 100%;border-bottom: 1px solid gray;flex-grow: 1;}#sk-154d6fb6-bad7-4b4d-944c-697d47b7374f div.sk-label:hover label.sk-toggleable__label {background-color: #d4ebff;}#sk-154d6fb6-bad7-4b4d-944c-697d47b7374f div.sk-serial::before {content: \"\";position: absolute;border-left: 1px solid gray;box-sizing: border-box;top: 2em;bottom: 0;left: 50%;}#sk-154d6fb6-bad7-4b4d-944c-697d47b7374f div.sk-serial {display: flex;flex-direction: column;align-items: center;background-color: white;padding-right: 0.2em;padding-left: 0.2em;}#sk-154d6fb6-bad7-4b4d-944c-697d47b7374f div.sk-item {z-index: 1;}#sk-154d6fb6-bad7-4b4d-944c-697d47b7374f div.sk-parallel {display: flex;align-items: stretch;justify-content: center;background-color: white;}#sk-154d6fb6-bad7-4b4d-944c-697d47b7374f div.sk-parallel::before {content: \"\";position: absolute;border-left: 1px solid gray;box-sizing: border-box;top: 2em;bottom: 0;left: 50%;}#sk-154d6fb6-bad7-4b4d-944c-697d47b7374f div.sk-parallel-item {display: flex;flex-direction: column;position: relative;background-color: white;}#sk-154d6fb6-bad7-4b4d-944c-697d47b7374f div.sk-parallel-item:first-child::after {align-self: flex-end;width: 50%;}#sk-154d6fb6-bad7-4b4d-944c-697d47b7374f div.sk-parallel-item:last-child::after {align-self: flex-start;width: 50%;}#sk-154d6fb6-bad7-4b4d-944c-697d47b7374f div.sk-parallel-item:only-child::after {width: 0;}#sk-154d6fb6-bad7-4b4d-944c-697d47b7374f div.sk-dashed-wrapped {border: 1px dashed gray;margin: 0 0.4em 0.5em 0.4em;box-sizing: border-box;padding-bottom: 0.4em;background-color: white;position: relative;}#sk-154d6fb6-bad7-4b4d-944c-697d47b7374f div.sk-label label {font-family: monospace;font-weight: bold;background-color: white;display: inline-block;line-height: 1.2em;}#sk-154d6fb6-bad7-4b4d-944c-697d47b7374f div.sk-label-container {position: relative;z-index: 2;text-align: center;}#sk-154d6fb6-bad7-4b4d-944c-697d47b7374f div.sk-container {/* jupyter's `normalize.less` sets `[hidden] { display: none; }` but bootstrap.min.css set `[hidden] { display: none !important; }` so we also need the `!important` here to be able to override the default hidden behavior on the sphinx rendered scikit-learn.org. See: https://github.com/scikit-learn/scikit-learn/issues/21755 */display: inline-block !important;position: relative;}#sk-154d6fb6-bad7-4b4d-944c-697d47b7374f div.sk-text-repr-fallback {display: none;}</style><div id=\"sk-154d6fb6-bad7-4b4d-944c-697d47b7374f\" class=\"sk-top-container\"><div class=\"sk-text-repr-fallback\"><pre>Pipeline(steps=[(&#x27;transform_column&#x27;,\n",
              "                 ColumnTransformer(transformers=[(&#x27;drop_columns&#x27;, &#x27;drop&#x27;,\n",
              "                                                  [&#x27;id&#x27;]),\n",
              "                                                 (&#x27;numeric_processing&#x27;,\n",
              "                                                  Pipeline(steps=[(&#x27;meanimputer&#x27;,\n",
              "                                                                   SimpleImputer()),\n",
              "                                                                  (&#x27;robostscaler&#x27;,\n",
              "                                                                   RobustScaler())]),\n",
              "                                                  Index([&#x27;id&#x27;, &#x27;radius_mean&#x27;, &#x27;texture_mean&#x27;, &#x27;perimeter_mean&#x27;, &#x27;area_mean&#x27;,\n",
              "       &#x27;smoothness_mean&#x27;, &#x27;compactness_mean&#x27;, &#x27;concavity_mean&#x27;,\n",
              "       &#x27;concave points_mean&#x27;, &#x27;s...\n",
              "       &#x27;radius_se&#x27;, &#x27;texture_se&#x27;, &#x27;perimeter_se&#x27;, &#x27;area_se&#x27;, &#x27;smoothness_se&#x27;,\n",
              "       &#x27;compactness_se&#x27;, &#x27;concavity_se&#x27;, &#x27;concave points_se&#x27;, &#x27;symmetry_se&#x27;,\n",
              "       &#x27;fractal_dimension_se&#x27;, &#x27;radius_worst&#x27;, &#x27;texture_worst&#x27;,\n",
              "       &#x27;perimeter_worst&#x27;, &#x27;area_worst&#x27;, &#x27;smoothness_worst&#x27;,\n",
              "       &#x27;compactness_worst&#x27;, &#x27;concavity_worst&#x27;, &#x27;concave points_worst&#x27;,\n",
              "       &#x27;symmetry_worst&#x27;, &#x27;fractal_dimension_worst&#x27;, &#x27;Unnamed: 32&#x27;],\n",
              "      dtype=&#x27;object&#x27;))])),\n",
              "                (&#x27;logistics&#x27;, RandomForestClassifier())])</pre><b>Please rerun this cell to show the HTML repr or trust the notebook.</b></div><div class=\"sk-container\" hidden><div class=\"sk-item sk-dashed-wrapped\"><div class=\"sk-label-container\"><div class=\"sk-label sk-toggleable\"><input class=\"sk-toggleable__control sk-hidden--visually\" id=\"cbe8faef-0ec1-498f-8104-d2b49652b638\" type=\"checkbox\" ><label for=\"cbe8faef-0ec1-498f-8104-d2b49652b638\" class=\"sk-toggleable__label sk-toggleable__label-arrow\">Pipeline</label><div class=\"sk-toggleable__content\"><pre>Pipeline(steps=[(&#x27;transform_column&#x27;,\n",
              "                 ColumnTransformer(transformers=[(&#x27;drop_columns&#x27;, &#x27;drop&#x27;,\n",
              "                                                  [&#x27;id&#x27;]),\n",
              "                                                 (&#x27;numeric_processing&#x27;,\n",
              "                                                  Pipeline(steps=[(&#x27;meanimputer&#x27;,\n",
              "                                                                   SimpleImputer()),\n",
              "                                                                  (&#x27;robostscaler&#x27;,\n",
              "                                                                   RobustScaler())]),\n",
              "                                                  Index([&#x27;id&#x27;, &#x27;radius_mean&#x27;, &#x27;texture_mean&#x27;, &#x27;perimeter_mean&#x27;, &#x27;area_mean&#x27;,\n",
              "       &#x27;smoothness_mean&#x27;, &#x27;compactness_mean&#x27;, &#x27;concavity_mean&#x27;,\n",
              "       &#x27;concave points_mean&#x27;, &#x27;s...\n",
              "       &#x27;radius_se&#x27;, &#x27;texture_se&#x27;, &#x27;perimeter_se&#x27;, &#x27;area_se&#x27;, &#x27;smoothness_se&#x27;,\n",
              "       &#x27;compactness_se&#x27;, &#x27;concavity_se&#x27;, &#x27;concave points_se&#x27;, &#x27;symmetry_se&#x27;,\n",
              "       &#x27;fractal_dimension_se&#x27;, &#x27;radius_worst&#x27;, &#x27;texture_worst&#x27;,\n",
              "       &#x27;perimeter_worst&#x27;, &#x27;area_worst&#x27;, &#x27;smoothness_worst&#x27;,\n",
              "       &#x27;compactness_worst&#x27;, &#x27;concavity_worst&#x27;, &#x27;concave points_worst&#x27;,\n",
              "       &#x27;symmetry_worst&#x27;, &#x27;fractal_dimension_worst&#x27;, &#x27;Unnamed: 32&#x27;],\n",
              "      dtype=&#x27;object&#x27;))])),\n",
              "                (&#x27;logistics&#x27;, RandomForestClassifier())])</pre></div></div></div><div class=\"sk-serial\"><div class=\"sk-item sk-dashed-wrapped\"><div class=\"sk-label-container\"><div class=\"sk-label sk-toggleable\"><input class=\"sk-toggleable__control sk-hidden--visually\" id=\"24bc322e-3c04-4b73-b330-e977544957a9\" type=\"checkbox\" ><label for=\"24bc322e-3c04-4b73-b330-e977544957a9\" class=\"sk-toggleable__label sk-toggleable__label-arrow\">transform_column: ColumnTransformer</label><div class=\"sk-toggleable__content\"><pre>ColumnTransformer(transformers=[(&#x27;drop_columns&#x27;, &#x27;drop&#x27;, [&#x27;id&#x27;]),\n",
              "                                (&#x27;numeric_processing&#x27;,\n",
              "                                 Pipeline(steps=[(&#x27;meanimputer&#x27;,\n",
              "                                                  SimpleImputer()),\n",
              "                                                 (&#x27;robostscaler&#x27;,\n",
              "                                                  RobustScaler())]),\n",
              "                                 Index([&#x27;id&#x27;, &#x27;radius_mean&#x27;, &#x27;texture_mean&#x27;, &#x27;perimeter_mean&#x27;, &#x27;area_mean&#x27;,\n",
              "       &#x27;smoothness_mean&#x27;, &#x27;compactness_mean&#x27;, &#x27;concavity_mean&#x27;,\n",
              "       &#x27;concave points_mean&#x27;, &#x27;symmetry_mean&#x27;, &#x27;fractal_dimension_mean&#x27;,\n",
              "       &#x27;radius_se&#x27;, &#x27;texture_se&#x27;, &#x27;perimeter_se&#x27;, &#x27;area_se&#x27;, &#x27;smoothness_se&#x27;,\n",
              "       &#x27;compactness_se&#x27;, &#x27;concavity_se&#x27;, &#x27;concave points_se&#x27;, &#x27;symmetry_se&#x27;,\n",
              "       &#x27;fractal_dimension_se&#x27;, &#x27;radius_worst&#x27;, &#x27;texture_worst&#x27;,\n",
              "       &#x27;perimeter_worst&#x27;, &#x27;area_worst&#x27;, &#x27;smoothness_worst&#x27;,\n",
              "       &#x27;compactness_worst&#x27;, &#x27;concavity_worst&#x27;, &#x27;concave points_worst&#x27;,\n",
              "       &#x27;symmetry_worst&#x27;, &#x27;fractal_dimension_worst&#x27;, &#x27;Unnamed: 32&#x27;],\n",
              "      dtype=&#x27;object&#x27;))])</pre></div></div></div><div class=\"sk-parallel\"><div class=\"sk-parallel-item\"><div class=\"sk-item\"><div class=\"sk-label-container\"><div class=\"sk-label sk-toggleable\"><input class=\"sk-toggleable__control sk-hidden--visually\" id=\"d4a8d01b-d03e-44bb-b7c2-9b97d8516ad9\" type=\"checkbox\" ><label for=\"d4a8d01b-d03e-44bb-b7c2-9b97d8516ad9\" class=\"sk-toggleable__label sk-toggleable__label-arrow\">drop_columns</label><div class=\"sk-toggleable__content\"><pre>[&#x27;id&#x27;]</pre></div></div></div><div class=\"sk-serial\"><div class=\"sk-item\"><div class=\"sk-estimator sk-toggleable\"><input class=\"sk-toggleable__control sk-hidden--visually\" id=\"479038f4-4744-4e21-ba90-05874d0daf22\" type=\"checkbox\" ><label for=\"479038f4-4744-4e21-ba90-05874d0daf22\" class=\"sk-toggleable__label sk-toggleable__label-arrow\">drop</label><div class=\"sk-toggleable__content\"><pre>drop</pre></div></div></div></div></div></div><div class=\"sk-parallel-item\"><div class=\"sk-item\"><div class=\"sk-label-container\"><div class=\"sk-label sk-toggleable\"><input class=\"sk-toggleable__control sk-hidden--visually\" id=\"e9aa9636-7c8b-4782-898b-c416f1c1d532\" type=\"checkbox\" ><label for=\"e9aa9636-7c8b-4782-898b-c416f1c1d532\" class=\"sk-toggleable__label sk-toggleable__label-arrow\">numeric_processing</label><div class=\"sk-toggleable__content\"><pre>Index([&#x27;id&#x27;, &#x27;radius_mean&#x27;, &#x27;texture_mean&#x27;, &#x27;perimeter_mean&#x27;, &#x27;area_mean&#x27;,\n",
              "       &#x27;smoothness_mean&#x27;, &#x27;compactness_mean&#x27;, &#x27;concavity_mean&#x27;,\n",
              "       &#x27;concave points_mean&#x27;, &#x27;symmetry_mean&#x27;, &#x27;fractal_dimension_mean&#x27;,\n",
              "       &#x27;radius_se&#x27;, &#x27;texture_se&#x27;, &#x27;perimeter_se&#x27;, &#x27;area_se&#x27;, &#x27;smoothness_se&#x27;,\n",
              "       &#x27;compactness_se&#x27;, &#x27;concavity_se&#x27;, &#x27;concave points_se&#x27;, &#x27;symmetry_se&#x27;,\n",
              "       &#x27;fractal_dimension_se&#x27;, &#x27;radius_worst&#x27;, &#x27;texture_worst&#x27;,\n",
              "       &#x27;perimeter_worst&#x27;, &#x27;area_worst&#x27;, &#x27;smoothness_worst&#x27;,\n",
              "       &#x27;compactness_worst&#x27;, &#x27;concavity_worst&#x27;, &#x27;concave points_worst&#x27;,\n",
              "       &#x27;symmetry_worst&#x27;, &#x27;fractal_dimension_worst&#x27;, &#x27;Unnamed: 32&#x27;],\n",
              "      dtype=&#x27;object&#x27;)</pre></div></div></div><div class=\"sk-serial\"><div class=\"sk-item\"><div class=\"sk-serial\"><div class=\"sk-item\"><div class=\"sk-estimator sk-toggleable\"><input class=\"sk-toggleable__control sk-hidden--visually\" id=\"7e74ca73-daa9-4558-8e2a-5b7a66b5851f\" type=\"checkbox\" ><label for=\"7e74ca73-daa9-4558-8e2a-5b7a66b5851f\" class=\"sk-toggleable__label sk-toggleable__label-arrow\">SimpleImputer</label><div class=\"sk-toggleable__content\"><pre>SimpleImputer()</pre></div></div></div><div class=\"sk-item\"><div class=\"sk-estimator sk-toggleable\"><input class=\"sk-toggleable__control sk-hidden--visually\" id=\"859998ec-6a0a-4106-a3f1-ef97f9ba8ba1\" type=\"checkbox\" ><label for=\"859998ec-6a0a-4106-a3f1-ef97f9ba8ba1\" class=\"sk-toggleable__label sk-toggleable__label-arrow\">RobustScaler</label><div class=\"sk-toggleable__content\"><pre>RobustScaler()</pre></div></div></div></div></div></div></div></div></div></div><div class=\"sk-item\"><div class=\"sk-estimator sk-toggleable\"><input class=\"sk-toggleable__control sk-hidden--visually\" id=\"42ce2943-1903-452c-af77-48b84b222745\" type=\"checkbox\" ><label for=\"42ce2943-1903-452c-af77-48b84b222745\" class=\"sk-toggleable__label sk-toggleable__label-arrow\">RandomForestClassifier</label><div class=\"sk-toggleable__content\"><pre>RandomForestClassifier()</pre></div></div></div></div></div></div></div>"
            ]
          },
          "metadata": {},
          "execution_count": 116
        }
      ]
    },
    {
      "cell_type": "markdown",
      "source": [
        "## Score"
      ],
      "metadata": {
        "id": "E1Xwk7pblRW3"
      }
    },
    {
      "cell_type": "code",
      "source": [
        "pipeline.score(X_test, y_test)"
      ],
      "metadata": {
        "colab": {
          "base_uri": "https://localhost:8080/"
        },
        "id": "HnjoRZOgf5Vk",
        "outputId": "03761abf-e0f7-4c20-f2c0-294db02ee1f6"
      },
      "execution_count": 117,
      "outputs": [
        {
          "output_type": "execute_result",
          "data": {
            "text/plain": [
              "0.9649122807017544"
            ]
          },
          "metadata": {},
          "execution_count": 117
        }
      ]
    }
  ]
}