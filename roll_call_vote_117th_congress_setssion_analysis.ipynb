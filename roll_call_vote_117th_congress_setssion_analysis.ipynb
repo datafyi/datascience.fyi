{
  "nbformat": 4,
  "nbformat_minor": 0,
  "metadata": {
    "colab": {
      "name": "roll_call_vote_117th_congress_setssion_analysis.ipynb",
      "provenance": [],
      "collapsed_sections": []
    },
    "kernelspec": {
      "name": "python3",
      "display_name": "Python 3"
    },
    "language_info": {
      "name": "python"
    }
  },
  "cells": [
    {
      "cell_type": "markdown",
      "source": [
        "# Roll Call Vote 117th Congress - 1st Session Analysis"
      ],
      "metadata": {
        "id": "HuRBLhPzG_Xu"
      }
    },
    {
      "cell_type": "code",
      "execution_count": null,
      "metadata": {
        "id": "3VlOl9ag41Gx"
      },
      "outputs": [],
      "source": [
        "# Dataset: https://www.senate.gov/legislative/LIS/roll_call_votes/vote1171/vote_117_1_00195.htm"
      ]
    },
    {
      "cell_type": "markdown",
      "source": [
        "## Read the data and bring it to a dataframe"
      ],
      "metadata": {
        "id": "r9cqPkyn5nn4"
      }
    },
    {
      "cell_type": "code",
      "source": [
        "from bs4 import BeautifulSoup\n",
        "import requests\n",
        "\n",
        "url = \"https://www.senate.gov/legislative/LIS/roll_call_votes/vote1171/vote_117_1_00195.htm\""
      ],
      "metadata": {
        "id": "co4QLLxT5Se6"
      },
      "execution_count": null,
      "outputs": []
    },
    {
      "cell_type": "code",
      "source": [
        "r = requests.get(url)"
      ],
      "metadata": {
        "id": "NgdsHrGp6fwU"
      },
      "execution_count": null,
      "outputs": []
    },
    {
      "cell_type": "code",
      "source": [
        "soup = BeautifulSoup(r.text, \"html.parser\")"
      ],
      "metadata": {
        "id": "0yC0wxd86uQK"
      },
      "execution_count": null,
      "outputs": []
    },
    {
      "cell_type": "code",
      "source": [
        "print(soup.find_all('span',{\"class\":\"contenttext\"}))"
      ],
      "metadata": {
        "colab": {
          "base_uri": "https://localhost:8080/"
        },
        "id": "VyesIsrK7m7l",
        "outputId": "4ec59758-adbb-43e9-dd8e-c2c144f03dbf"
      },
      "execution_count": null,
      "outputs": [
        {
          "output_type": "stream",
          "name": "stdout",
          "text": [
            "[<span class=\"contenttext\">Baldwin (D-WI), <b>Yea</b>\n",
            "<br/>Barrasso (R-WY), <b>Nay</b>\n",
            "<br/>Bennet (D-CO), <b>Yea</b>\n",
            "<br/>Blackburn (R-TN), <b>Nay</b>\n",
            "<br/>Blumenthal (D-CT), <b>Yea</b>\n",
            "<br/>Blunt (R-MO), <b>Nay</b>\n",
            "<br/>Booker (D-NJ), <b>Yea</b>\n",
            "<br/>Boozman (R-AR), <b>Nay</b>\n",
            "<br/>Braun (R-IN), <b>Nay</b>\n",
            "<br/>Brown (D-OH), <b>Yea</b>\n",
            "<br/>Burr (R-NC), <b>Nay</b>\n",
            "<br/>Cantwell (D-WA), <b>Yea</b>\n",
            "<br/>Capito (R-WV), <b>Nay</b>\n",
            "<br/>Cardin (D-MD), <b>Yea</b>\n",
            "<br/>Carper (D-DE), <b>Yea</b>\n",
            "<br/>Casey (D-PA), <b>Yea</b>\n",
            "<br/>Cassidy (R-LA), <b>Nay</b>\n",
            "<br/>Collins (R-ME), <b>Nay</b>\n",
            "<br/>Coons (D-DE), <b>Yea</b>\n",
            "<br/>Cornyn (R-TX), <b>Nay</b>\n",
            "<br/>Cortez Masto (D-NV), <b>Yea</b>\n",
            "<br/>Cotton (R-AR), <b>Nay</b>\n",
            "<br/>Cramer (R-ND), <b>Nay</b>\n",
            "<br/>Crapo (R-ID), <b>Nay</b>\n",
            "<br/>Cruz (R-TX), <b>Nay</b>\n",
            "<br/>Daines (R-MT), <b>Nay</b>\n",
            "<br/>Duckworth (D-IL), <b>Yea</b>\n",
            "<br/>Durbin (D-IL), <b>Yea</b>\n",
            "<br/>Ernst (R-IA), <b>Nay</b>\n",
            "<br/>Feinstein (D-CA), <b>Yea</b>\n",
            "<br/>Fischer (R-NE), <b>Nay</b>\n",
            "<br/>Gillibrand (D-NY), <b>Yea</b>\n",
            "<br/>Graham (R-SC), <b>Nay</b>\n",
            "<br/>Grassley (R-IA), <b>Nay</b>\n",
            "<br/>Hagerty (R-TN), <b>Nay</b>\n",
            "<br/>Hassan (D-NH), <b>Yea</b>\n",
            "<br/>Hawley (R-MO), <b>Nay</b>\n",
            "<br/>Heinrich (D-NM), <b>Yea</b>\n",
            "<br/>Hickenlooper (D-CO), <b>Yea</b>\n",
            "<br/>Hirono (D-HI), <b>Yea</b>\n",
            "<br/>Hoeven (R-ND), <b>Nay</b>\n",
            "<br/>Hyde-Smith (R-MS), <b>Nay</b>\n",
            "<br/>Inhofe (R-OK), <b>Nay</b>\n",
            "<br/>Johnson (R-WI), <b>Nay</b>\n",
            "<br/>Kaine (D-VA), <b>Yea</b>\n",
            "<br/>Kelly (D-AZ), <b>Yea</b>\n",
            "<br/>Kennedy (R-LA), <b>Nay</b>\n",
            "<br/>King (I-ME), <b>Yea</b>\n",
            "<br/>Klobuchar (D-MN), <b>Yea</b>\n",
            "<br/>Lankford (R-OK), <b>Nay</b>\n",
            "<br/>Leahy (D-VT), <b>Yea</b>\n",
            "<br/>Lee (R-UT), <b>Nay</b>\n",
            "<br/>Lujan (D-NM), <b>Yea</b>\n",
            "<br/>Lummis (R-WY), <b>Nay</b>\n",
            "<br/>Manchin (D-WV), <b>Yea</b>\n",
            "<br/>Markey (D-MA), <b>Yea</b>\n",
            "<br/>Marshall (R-KS), <b>Nay</b>\n",
            "<br/>McConnell (R-KY), <b>Nay</b>\n",
            "<br/>Menendez (D-NJ), <b>Yea</b>\n",
            "<br/>Merkley (D-OR), <b>Yea</b>\n",
            "<br/>Moran (R-KS), <b>Nay</b>\n",
            "<br/>Murkowski (R-AK), <b>Not Voting</b>\n",
            "<br/>Murphy (D-CT), <b>Yea</b>\n",
            "<br/>Murray (D-WA), <b>Yea</b>\n",
            "<br/>Ossoff (D-GA), <b>Yea</b>\n",
            "<br/>Padilla (D-CA), <b>Yea</b>\n",
            "<br/>Paul (R-KY), <b>Nay</b>\n",
            "<br/>Peters (D-MI), <b>Yea</b>\n",
            "<br/>Portman (R-OH), <b>Nay</b>\n",
            "<br/>Reed (D-RI), <b>Yea</b>\n",
            "<br/>Risch (R-ID), <b>Nay</b>\n",
            "<br/>Romney (R-UT), <b>Nay</b>\n",
            "<br/>Rosen (D-NV), <b>Yea</b>\n",
            "<br/>Rounds (R-SD), <b>Nay</b>\n",
            "<br/>Rubio (R-FL), <b>Not Voting</b>\n",
            "<br/>Sanders (I-VT), <b>Yea</b>\n",
            "<br/>Sasse (R-NE), <b>Nay</b>\n",
            "<br/>Schatz (D-HI), <b>Yea</b>\n",
            "<br/>Schumer (D-NY), <b>Yea</b>\n",
            "<br/>Scott (R-FL), <b>Nay</b>\n",
            "<br/>Scott (R-SC), <b>Nay</b>\n",
            "<br/>Shaheen (D-NH), <b>Yea</b>\n",
            "<br/>Shelby (R-AL), <b>Nay</b>\n",
            "<br/>Sinema (D-AZ), <b>Yea</b>\n",
            "<br/>Smith (D-MN), <b>Yea</b>\n",
            "<br/>Stabenow (D-MI), <b>Yea</b>\n",
            "<br/>Sullivan (R-AK), <b>Nay</b>\n",
            "<br/>Tester (D-MT), <b>Yea</b>\n",
            "<br/>Thune (R-SD), <b>Nay</b>\n",
            "<br/>Tillis (R-NC), <b>Nay</b>\n",
            "<br/>Toomey (R-PA), <b>Nay</b>\n",
            "<br/>Tuberville (R-AL), <b>Nay</b>\n",
            "<br/>Van Hollen (D-MD), <b>Yea</b>\n",
            "<br/>Warner (D-VA), <b>Yea</b>\n",
            "<br/>Warnock (D-GA), <b>Yea</b>\n",
            "<br/>Warren (D-MA), <b>Yea</b>\n",
            "<br/>Whitehouse (D-RI), <b>Yea</b>\n",
            "<br/>Wicker (R-MS), <b>Nay</b>\n",
            "<br/>Wyden (D-OR), <b>Yea</b>\n",
            "<br/>Young (R-IN), <b>Nay</b>\n",
            "<br/>\n",
            "</span>, <span class=\"contenttext\">Baldwin (D-WI)<br/>Bennet (D-CO)<br/>Blumenthal (D-CT)<br/>Booker (D-NJ)<br/>Brown (D-OH)<br/>Cantwell (D-WA)<br/>Cardin (D-MD)<br/>Carper (D-DE)<br/>Casey (D-PA)<br/>Coons (D-DE)<br/>Cortez Masto (D-NV)<br/>Duckworth (D-IL)<br/>Durbin (D-IL)<br/>Feinstein (D-CA)<br/>Gillibrand (D-NY)<br/>Hassan (D-NH)<br/>Heinrich (D-NM)<br/>Hickenlooper (D-CO)<br/>Hirono (D-HI)<br/>Kaine (D-VA)<br/>Kelly (D-AZ)<br/>King (I-ME)<br/>Klobuchar (D-MN)<br/>Leahy (D-VT)<br/>Lujan (D-NM)<br/>Manchin (D-WV)<br/>Markey (D-MA)<br/>Menendez (D-NJ)<br/>Merkley (D-OR)<br/>Murphy (D-CT)<br/>Murray (D-WA)<br/>Ossoff (D-GA)<br/>Padilla (D-CA)<br/>Peters (D-MI)<br/>Reed (D-RI)<br/>Rosen (D-NV)<br/>Sanders (I-VT)<br/>Schatz (D-HI)<br/>Schumer (D-NY)<br/>Shaheen (D-NH)<br/>Sinema (D-AZ)<br/>Smith (D-MN)<br/>Stabenow (D-MI)<br/>Tester (D-MT)<br/>Van Hollen (D-MD)<br/>Warner (D-VA)<br/>Warnock (D-GA)<br/>Warren (D-MA)<br/>Whitehouse (D-RI)<br/>Wyden (D-OR)<br/>\n",
            "</span>, <span class=\"contenttext\">Barrasso (R-WY)<br/>Blackburn (R-TN)<br/>Blunt (R-MO)<br/>Boozman (R-AR)<br/>Braun (R-IN)<br/>Burr (R-NC)<br/>Capito (R-WV)<br/>Cassidy (R-LA)<br/>Collins (R-ME)<br/>Cornyn (R-TX)<br/>Cotton (R-AR)<br/>Cramer (R-ND)<br/>Crapo (R-ID)<br/>Cruz (R-TX)<br/>Daines (R-MT)<br/>Ernst (R-IA)<br/>Fischer (R-NE)<br/>Graham (R-SC)<br/>Grassley (R-IA)<br/>Hagerty (R-TN)<br/>Hawley (R-MO)<br/>Hoeven (R-ND)<br/>Hyde-Smith (R-MS)<br/>Inhofe (R-OK)<br/>Johnson (R-WI)<br/>Kennedy (R-LA)<br/>Lankford (R-OK)<br/>Lee (R-UT)<br/>Lummis (R-WY)<br/>Marshall (R-KS)<br/>McConnell (R-KY)<br/>Moran (R-KS)<br/>Paul (R-KY)<br/>Portman (R-OH)<br/>Risch (R-ID)<br/>Romney (R-UT)<br/>Rounds (R-SD)<br/>Sasse (R-NE)<br/>Scott (R-FL)<br/>Scott (R-SC)<br/>Shelby (R-AL)<br/>Sullivan (R-AK)<br/>Thune (R-SD)<br/>Tillis (R-NC)<br/>Toomey (R-PA)<br/>Tuberville (R-AL)<br/>Wicker (R-MS)<br/>Young (R-IN)<br/>\n",
            "</span>, <span class=\"contenttext\">Murkowski (R-AK)<br/>Rubio (R-FL)<br/>\n",
            "</span>]\n"
          ]
        }
      ]
    },
    {
      "cell_type": "code",
      "source": [
        "print(soup.find_all('div',{'class':'contenttext responsive_col'}))"
      ],
      "metadata": {
        "colab": {
          "base_uri": "https://localhost:8080/"
        },
        "id": "0UqzG9Uk9APj",
        "outputId": "2fff1d90-3060-46cb-847a-eb6008da1318"
      },
      "execution_count": null,
      "outputs": [
        {
          "output_type": "stream",
          "name": "stdout",
          "text": [
            "[<div class=\"contenttext responsive_col\" width=\"33%\">\n",
            "<b>Alabama:</b>\n",
            "</div>, <div class=\"contenttext responsive_col\" width=\"33%\">Shelby (R-AL), <b>Nay</b>\n",
            "</div>, <div class=\"contenttext responsive_col\" width=\"33%\">Tuberville (R-AL), <b>Nay</b>\n",
            "</div>, <div class=\"contenttext responsive_col\" width=\"33%\">\n",
            "<b>Alaska:</b>\n",
            "</div>, <div class=\"contenttext responsive_col\" width=\"33%\">Murkowski (R-AK), <b>Not Voting</b>\n",
            "</div>, <div class=\"contenttext responsive_col\" width=\"33%\">Sullivan (R-AK), <b>Nay</b>\n",
            "</div>, <div class=\"contenttext responsive_col\" width=\"33%\">\n",
            "<b>Arizona:</b>\n",
            "</div>, <div class=\"contenttext responsive_col\" width=\"33%\">Kelly (D-AZ), <b>Yea</b>\n",
            "</div>, <div class=\"contenttext responsive_col\" width=\"33%\">Sinema (D-AZ), <b>Yea</b>\n",
            "</div>, <div class=\"contenttext responsive_col\" width=\"33%\">\n",
            "<b>Arkansas:</b>\n",
            "</div>, <div class=\"contenttext responsive_col\" width=\"33%\">Boozman (R-AR), <b>Nay</b>\n",
            "</div>, <div class=\"contenttext responsive_col\" width=\"33%\">Cotton (R-AR), <b>Nay</b>\n",
            "</div>, <div class=\"contenttext responsive_col\" width=\"33%\">\n",
            "<b>California:</b>\n",
            "</div>, <div class=\"contenttext responsive_col\" width=\"33%\">Feinstein (D-CA), <b>Yea</b>\n",
            "</div>, <div class=\"contenttext responsive_col\" width=\"33%\">Padilla (D-CA), <b>Yea</b>\n",
            "</div>, <div class=\"contenttext responsive_col\" width=\"33%\">\n",
            "<b>Colorado:</b>\n",
            "</div>, <div class=\"contenttext responsive_col\" width=\"33%\">Bennet (D-CO), <b>Yea</b>\n",
            "</div>, <div class=\"contenttext responsive_col\" width=\"33%\">Hickenlooper (D-CO), <b>Yea</b>\n",
            "</div>, <div class=\"contenttext responsive_col\" width=\"33%\">\n",
            "<b>Connecticut:</b>\n",
            "</div>, <div class=\"contenttext responsive_col\" width=\"33%\">Blumenthal (D-CT), <b>Yea</b>\n",
            "</div>, <div class=\"contenttext responsive_col\" width=\"33%\">Murphy (D-CT), <b>Yea</b>\n",
            "</div>, <div class=\"contenttext responsive_col\" width=\"33%\">\n",
            "<b>Delaware:</b>\n",
            "</div>, <div class=\"contenttext responsive_col\" width=\"33%\">Carper (D-DE), <b>Yea</b>\n",
            "</div>, <div class=\"contenttext responsive_col\" width=\"33%\">Coons (D-DE), <b>Yea</b>\n",
            "</div>, <div class=\"contenttext responsive_col\" width=\"33%\">\n",
            "<b>Florida:</b>\n",
            "</div>, <div class=\"contenttext responsive_col\" width=\"33%\">Rubio (R-FL), <b>Not Voting</b>\n",
            "</div>, <div class=\"contenttext responsive_col\" width=\"33%\">Scott (R-FL), <b>Nay</b>\n",
            "</div>, <div class=\"contenttext responsive_col\" width=\"33%\">\n",
            "<b>Georgia:</b>\n",
            "</div>, <div class=\"contenttext responsive_col\" width=\"33%\">Ossoff (D-GA), <b>Yea</b>\n",
            "</div>, <div class=\"contenttext responsive_col\" width=\"33%\">Warnock (D-GA), <b>Yea</b>\n",
            "</div>, <div class=\"contenttext responsive_col\" width=\"33%\">\n",
            "<b>Hawaii:</b>\n",
            "</div>, <div class=\"contenttext responsive_col\" width=\"33%\">Hirono (D-HI), <b>Yea</b>\n",
            "</div>, <div class=\"contenttext responsive_col\" width=\"33%\">Schatz (D-HI), <b>Yea</b>\n",
            "</div>, <div class=\"contenttext responsive_col\" width=\"33%\">\n",
            "<b>Idaho:</b>\n",
            "</div>, <div class=\"contenttext responsive_col\" width=\"33%\">Crapo (R-ID), <b>Nay</b>\n",
            "</div>, <div class=\"contenttext responsive_col\" width=\"33%\">Risch (R-ID), <b>Nay</b>\n",
            "</div>, <div class=\"contenttext responsive_col\" width=\"33%\">\n",
            "<b>Illinois:</b>\n",
            "</div>, <div class=\"contenttext responsive_col\" width=\"33%\">Duckworth (D-IL), <b>Yea</b>\n",
            "</div>, <div class=\"contenttext responsive_col\" width=\"33%\">Durbin (D-IL), <b>Yea</b>\n",
            "</div>, <div class=\"contenttext responsive_col\" width=\"33%\">\n",
            "<b>Indiana:</b>\n",
            "</div>, <div class=\"contenttext responsive_col\" width=\"33%\">Braun (R-IN), <b>Nay</b>\n",
            "</div>, <div class=\"contenttext responsive_col\" width=\"33%\">Young (R-IN), <b>Nay</b>\n",
            "</div>, <div class=\"contenttext responsive_col\" width=\"33%\">\n",
            "<b>Iowa:</b>\n",
            "</div>, <div class=\"contenttext responsive_col\" width=\"33%\">Ernst (R-IA), <b>Nay</b>\n",
            "</div>, <div class=\"contenttext responsive_col\" width=\"33%\">Grassley (R-IA), <b>Nay</b>\n",
            "</div>, <div class=\"contenttext responsive_col\" width=\"33%\">\n",
            "<b>Kansas:</b>\n",
            "</div>, <div class=\"contenttext responsive_col\" width=\"33%\">Marshall (R-KS), <b>Nay</b>\n",
            "</div>, <div class=\"contenttext responsive_col\" width=\"33%\">Moran (R-KS), <b>Nay</b>\n",
            "</div>, <div class=\"contenttext responsive_col\" width=\"33%\">\n",
            "<b>Kentucky:</b>\n",
            "</div>, <div class=\"contenttext responsive_col\" width=\"33%\">McConnell (R-KY), <b>Nay</b>\n",
            "</div>, <div class=\"contenttext responsive_col\" width=\"33%\">Paul (R-KY), <b>Nay</b>\n",
            "</div>, <div class=\"contenttext responsive_col\" width=\"33%\">\n",
            "<b>Louisiana:</b>\n",
            "</div>, <div class=\"contenttext responsive_col\" width=\"33%\">Cassidy (R-LA), <b>Nay</b>\n",
            "</div>, <div class=\"contenttext responsive_col\" width=\"33%\">Kennedy (R-LA), <b>Nay</b>\n",
            "</div>, <div class=\"contenttext responsive_col\" width=\"33%\">\n",
            "<b>Maine:</b>\n",
            "</div>, <div class=\"contenttext responsive_col\" width=\"33%\">Collins (R-ME), <b>Nay</b>\n",
            "</div>, <div class=\"contenttext responsive_col\" width=\"33%\">King (I-ME), <b>Yea</b>\n",
            "</div>, <div class=\"contenttext responsive_col\" width=\"33%\">\n",
            "<b>Maryland:</b>\n",
            "</div>, <div class=\"contenttext responsive_col\" width=\"33%\">Cardin (D-MD), <b>Yea</b>\n",
            "</div>, <div class=\"contenttext responsive_col\" width=\"33%\">Van Hollen (D-MD), <b>Yea</b>\n",
            "</div>, <div class=\"contenttext responsive_col\" width=\"33%\">\n",
            "<b>Massachusetts:</b>\n",
            "</div>, <div class=\"contenttext responsive_col\" width=\"33%\">Markey (D-MA), <b>Yea</b>\n",
            "</div>, <div class=\"contenttext responsive_col\" width=\"33%\">Warren (D-MA), <b>Yea</b>\n",
            "</div>, <div class=\"contenttext responsive_col\" width=\"33%\">\n",
            "<b>Michigan:</b>\n",
            "</div>, <div class=\"contenttext responsive_col\" width=\"33%\">Peters (D-MI), <b>Yea</b>\n",
            "</div>, <div class=\"contenttext responsive_col\" width=\"33%\">Stabenow (D-MI), <b>Yea</b>\n",
            "</div>, <div class=\"contenttext responsive_col\" width=\"33%\">\n",
            "<b>Minnesota:</b>\n",
            "</div>, <div class=\"contenttext responsive_col\" width=\"33%\">Klobuchar (D-MN), <b>Yea</b>\n",
            "</div>, <div class=\"contenttext responsive_col\" width=\"33%\">Smith (D-MN), <b>Yea</b>\n",
            "</div>, <div class=\"contenttext responsive_col\" width=\"33%\">\n",
            "<b>Mississippi:</b>\n",
            "</div>, <div class=\"contenttext responsive_col\" width=\"33%\">Hyde-Smith (R-MS), <b>Nay</b>\n",
            "</div>, <div class=\"contenttext responsive_col\" width=\"33%\">Wicker (R-MS), <b>Nay</b>\n",
            "</div>, <div class=\"contenttext responsive_col\" width=\"33%\">\n",
            "<b>Missouri:</b>\n",
            "</div>, <div class=\"contenttext responsive_col\" width=\"33%\">Blunt (R-MO), <b>Nay</b>\n",
            "</div>, <div class=\"contenttext responsive_col\" width=\"33%\">Hawley (R-MO), <b>Nay</b>\n",
            "</div>, <div class=\"contenttext responsive_col\" width=\"33%\">\n",
            "<b>Montana:</b>\n",
            "</div>, <div class=\"contenttext responsive_col\" width=\"33%\">Daines (R-MT), <b>Nay</b>\n",
            "</div>, <div class=\"contenttext responsive_col\" width=\"33%\">Tester (D-MT), <b>Yea</b>\n",
            "</div>, <div class=\"contenttext responsive_col\" width=\"33%\">\n",
            "<b>Nebraska:</b>\n",
            "</div>, <div class=\"contenttext responsive_col\" width=\"33%\">Fischer (R-NE), <b>Nay</b>\n",
            "</div>, <div class=\"contenttext responsive_col\" width=\"33%\">Sasse (R-NE), <b>Nay</b>\n",
            "</div>, <div class=\"contenttext responsive_col\" width=\"33%\">\n",
            "<b>Nevada:</b>\n",
            "</div>, <div class=\"contenttext responsive_col\" width=\"33%\">Cortez Masto (D-NV), <b>Yea</b>\n",
            "</div>, <div class=\"contenttext responsive_col\" width=\"33%\">Rosen (D-NV), <b>Yea</b>\n",
            "</div>, <div class=\"contenttext responsive_col\" width=\"33%\">\n",
            "<b>New Hampshire:</b>\n",
            "</div>, <div class=\"contenttext responsive_col\" width=\"33%\">Hassan (D-NH), <b>Yea</b>\n",
            "</div>, <div class=\"contenttext responsive_col\" width=\"33%\">Shaheen (D-NH), <b>Yea</b>\n",
            "</div>, <div class=\"contenttext responsive_col\" width=\"33%\">\n",
            "<b>New Jersey:</b>\n",
            "</div>, <div class=\"contenttext responsive_col\" width=\"33%\">Booker (D-NJ), <b>Yea</b>\n",
            "</div>, <div class=\"contenttext responsive_col\" width=\"33%\">Menendez (D-NJ), <b>Yea</b>\n",
            "</div>, <div class=\"contenttext responsive_col\" width=\"33%\">\n",
            "<b>New Mexico:</b>\n",
            "</div>, <div class=\"contenttext responsive_col\" width=\"33%\">Heinrich (D-NM), <b>Yea</b>\n",
            "</div>, <div class=\"contenttext responsive_col\" width=\"33%\">Lujan (D-NM), <b>Yea</b>\n",
            "</div>, <div class=\"contenttext responsive_col\" width=\"33%\">\n",
            "<b>New York:</b>\n",
            "</div>, <div class=\"contenttext responsive_col\" width=\"33%\">Gillibrand (D-NY), <b>Yea</b>\n",
            "</div>, <div class=\"contenttext responsive_col\" width=\"33%\">Schumer (D-NY), <b>Yea</b>\n",
            "</div>, <div class=\"contenttext responsive_col\" width=\"33%\">\n",
            "<b>North Carolina:</b>\n",
            "</div>, <div class=\"contenttext responsive_col\" width=\"33%\">Burr (R-NC), <b>Nay</b>\n",
            "</div>, <div class=\"contenttext responsive_col\" width=\"33%\">Tillis (R-NC), <b>Nay</b>\n",
            "</div>, <div class=\"contenttext responsive_col\" width=\"33%\">\n",
            "<b>North Dakota:</b>\n",
            "</div>, <div class=\"contenttext responsive_col\" width=\"33%\">Cramer (R-ND), <b>Nay</b>\n",
            "</div>, <div class=\"contenttext responsive_col\" width=\"33%\">Hoeven (R-ND), <b>Nay</b>\n",
            "</div>, <div class=\"contenttext responsive_col\" width=\"33%\">\n",
            "<b>Ohio:</b>\n",
            "</div>, <div class=\"contenttext responsive_col\" width=\"33%\">Brown (D-OH), <b>Yea</b>\n",
            "</div>, <div class=\"contenttext responsive_col\" width=\"33%\">Portman (R-OH), <b>Nay</b>\n",
            "</div>, <div class=\"contenttext responsive_col\" width=\"33%\">\n",
            "<b>Oklahoma:</b>\n",
            "</div>, <div class=\"contenttext responsive_col\" width=\"33%\">Inhofe (R-OK), <b>Nay</b>\n",
            "</div>, <div class=\"contenttext responsive_col\" width=\"33%\">Lankford (R-OK), <b>Nay</b>\n",
            "</div>, <div class=\"contenttext responsive_col\" width=\"33%\">\n",
            "<b>Oregon:</b>\n",
            "</div>, <div class=\"contenttext responsive_col\" width=\"33%\">Merkley (D-OR), <b>Yea</b>\n",
            "</div>, <div class=\"contenttext responsive_col\" width=\"33%\">Wyden (D-OR), <b>Yea</b>\n",
            "</div>, <div class=\"contenttext responsive_col\" width=\"33%\">\n",
            "<b>Pennsylvania:</b>\n",
            "</div>, <div class=\"contenttext responsive_col\" width=\"33%\">Casey (D-PA), <b>Yea</b>\n",
            "</div>, <div class=\"contenttext responsive_col\" width=\"33%\">Toomey (R-PA), <b>Nay</b>\n",
            "</div>, <div class=\"contenttext responsive_col\" width=\"33%\">\n",
            "<b>Rhode Island:</b>\n",
            "</div>, <div class=\"contenttext responsive_col\" width=\"33%\">Reed (D-RI), <b>Yea</b>\n",
            "</div>, <div class=\"contenttext responsive_col\" width=\"33%\">Whitehouse (D-RI), <b>Yea</b>\n",
            "</div>, <div class=\"contenttext responsive_col\" width=\"33%\">\n",
            "<b>South Carolina:</b>\n",
            "</div>, <div class=\"contenttext responsive_col\" width=\"33%\">Graham (R-SC), <b>Nay</b>\n",
            "</div>, <div class=\"contenttext responsive_col\" width=\"33%\">Scott (R-SC), <b>Nay</b>\n",
            "</div>, <div class=\"contenttext responsive_col\" width=\"33%\">\n",
            "<b>South Dakota:</b>\n",
            "</div>, <div class=\"contenttext responsive_col\" width=\"33%\">Rounds (R-SD), <b>Nay</b>\n",
            "</div>, <div class=\"contenttext responsive_col\" width=\"33%\">Thune (R-SD), <b>Nay</b>\n",
            "</div>, <div class=\"contenttext responsive_col\" width=\"33%\">\n",
            "<b>Tennessee:</b>\n",
            "</div>, <div class=\"contenttext responsive_col\" width=\"33%\">Blackburn (R-TN), <b>Nay</b>\n",
            "</div>, <div class=\"contenttext responsive_col\" width=\"33%\">Hagerty (R-TN), <b>Nay</b>\n",
            "</div>, <div class=\"contenttext responsive_col\" width=\"33%\">\n",
            "<b>Texas:</b>\n",
            "</div>, <div class=\"contenttext responsive_col\" width=\"33%\">Cornyn (R-TX), <b>Nay</b>\n",
            "</div>, <div class=\"contenttext responsive_col\" width=\"33%\">Cruz (R-TX), <b>Nay</b>\n",
            "</div>, <div class=\"contenttext responsive_col\" width=\"33%\">\n",
            "<b>Utah:</b>\n",
            "</div>, <div class=\"contenttext responsive_col\" width=\"33%\">Lee (R-UT), <b>Nay</b>\n",
            "</div>, <div class=\"contenttext responsive_col\" width=\"33%\">Romney (R-UT), <b>Nay</b>\n",
            "</div>, <div class=\"contenttext responsive_col\" width=\"33%\">\n",
            "<b>Vermont:</b>\n",
            "</div>, <div class=\"contenttext responsive_col\" width=\"33%\">Leahy (D-VT), <b>Yea</b>\n",
            "</div>, <div class=\"contenttext responsive_col\" width=\"33%\">Sanders (I-VT), <b>Yea</b>\n",
            "</div>, <div class=\"contenttext responsive_col\" width=\"33%\">\n",
            "<b>Virginia:</b>\n",
            "</div>, <div class=\"contenttext responsive_col\" width=\"33%\">Kaine (D-VA), <b>Yea</b>\n",
            "</div>, <div class=\"contenttext responsive_col\" width=\"33%\">Warner (D-VA), <b>Yea</b>\n",
            "</div>, <div class=\"contenttext responsive_col\" width=\"33%\">\n",
            "<b>Washington:</b>\n",
            "</div>, <div class=\"contenttext responsive_col\" width=\"33%\">Cantwell (D-WA), <b>Yea</b>\n",
            "</div>, <div class=\"contenttext responsive_col\" width=\"33%\">Murray (D-WA), <b>Yea</b>\n",
            "</div>, <div class=\"contenttext responsive_col\" width=\"33%\">\n",
            "<b>West Virginia:</b>\n",
            "</div>, <div class=\"contenttext responsive_col\" width=\"33%\">Capito (R-WV), <b>Nay</b>\n",
            "</div>, <div class=\"contenttext responsive_col\" width=\"33%\">Manchin (D-WV), <b>Yea</b>\n",
            "</div>, <div class=\"contenttext responsive_col\" width=\"33%\">\n",
            "<b>Wisconsin:</b>\n",
            "</div>, <div class=\"contenttext responsive_col\" width=\"33%\">Baldwin (D-WI), <b>Yea</b>\n",
            "</div>, <div class=\"contenttext responsive_col\" width=\"33%\">Johnson (R-WI), <b>Nay</b>\n",
            "</div>, <div class=\"contenttext responsive_col\" width=\"33%\">\n",
            "<b>Wyoming:</b>\n",
            "</div>, <div class=\"contenttext responsive_col\" width=\"33%\">Barrasso (R-WY), <b>Nay</b>\n",
            "</div>, <div class=\"contenttext responsive_col\" width=\"33%\">Lummis (R-WY), <b>Nay</b>\n",
            "</div>]\n"
          ]
        }
      ]
    },
    {
      "cell_type": "markdown",
      "source": [
        "### Extractinng senetors names"
      ],
      "metadata": {
        "id": "dDx5kH5Y-7Zx"
      }
    },
    {
      "cell_type": "code",
      "source": [
        "import re\n",
        "\n",
        "pattern = '<[^<]+?>'\n",
        "senetors_names = re.sub(pattern,\"\",str(soup.find_all('span',{\"class\":\"contenttext\"})[0]))\n",
        "print(senetors_names[:100])\n",
        "\n",
        "s_name = []\n",
        "s_vote = []\n",
        "s_group=[]\n",
        "\n",
        "for senetor in senetors_names.split('\\n'):\n",
        "  senetor = senetor.replace(\"Not Voting\",\"Not_Voting\")\n",
        "  lst = senetor.split(' ')\n",
        "  if len(lst[0])==0:\n",
        "    continue\n",
        "  vote = lst[-1]\n",
        "\n",
        "  special_chars=list(',()')\n",
        "  for ch in special_chars:\n",
        "      # print(lst)\n",
        "      lst[-2]=lst[-2].replace(ch,'')\n",
        "  group = lst[-2]\n",
        "  lst = lst[:-2]\n",
        "  name = \" \".join(lst)\n",
        "  s_name.append(name)\n",
        "  s_vote.append(vote)\n",
        "  s_group.append(group)\n",
        "\n",
        "print('s_name: ',s_name)\n",
        "print('s_group :',s_group)\n",
        "print('s_vote :',s_vote)\n"
      ],
      "metadata": {
        "colab": {
          "base_uri": "https://localhost:8080/"
        },
        "id": "8o0pWA4x9ymL",
        "outputId": "eb2951ed-7c68-4124-8678-f339a734a20a"
      },
      "execution_count": null,
      "outputs": [
        {
          "output_type": "stream",
          "name": "stdout",
          "text": [
            "Baldwin (D-WI), Yea\n",
            "Barrasso (R-WY), Nay\n",
            "Bennet (D-CO), Yea\n",
            "Blackburn (R-TN), Nay\n",
            "Blumenthal (D-CT),\n",
            "s_name:  ['Baldwin', 'Barrasso', 'Bennet', 'Blackburn', 'Blumenthal', 'Blunt', 'Booker', 'Boozman', 'Braun', 'Brown', 'Burr', 'Cantwell', 'Capito', 'Cardin', 'Carper', 'Casey', 'Cassidy', 'Collins', 'Coons', 'Cornyn', 'Cortez Masto', 'Cotton', 'Cramer', 'Crapo', 'Cruz', 'Daines', 'Duckworth', 'Durbin', 'Ernst', 'Feinstein', 'Fischer', 'Gillibrand', 'Graham', 'Grassley', 'Hagerty', 'Hassan', 'Hawley', 'Heinrich', 'Hickenlooper', 'Hirono', 'Hoeven', 'Hyde-Smith', 'Inhofe', 'Johnson', 'Kaine', 'Kelly', 'Kennedy', 'King', 'Klobuchar', 'Lankford', 'Leahy', 'Lee', 'Lujan', 'Lummis', 'Manchin', 'Markey', 'Marshall', 'McConnell', 'Menendez', 'Merkley', 'Moran', 'Murkowski', 'Murphy', 'Murray', 'Ossoff', 'Padilla', 'Paul', 'Peters', 'Portman', 'Reed', 'Risch', 'Romney', 'Rosen', 'Rounds', 'Rubio', 'Sanders', 'Sasse', 'Schatz', 'Schumer', 'Scott', 'Scott', 'Shaheen', 'Shelby', 'Sinema', 'Smith', 'Stabenow', 'Sullivan', 'Tester', 'Thune', 'Tillis', 'Toomey', 'Tuberville', 'Van Hollen', 'Warner', 'Warnock', 'Warren', 'Whitehouse', 'Wicker', 'Wyden', 'Young']\n",
            "s_group : ['D-WI', 'R-WY', 'D-CO', 'R-TN', 'D-CT', 'R-MO', 'D-NJ', 'R-AR', 'R-IN', 'D-OH', 'R-NC', 'D-WA', 'R-WV', 'D-MD', 'D-DE', 'D-PA', 'R-LA', 'R-ME', 'D-DE', 'R-TX', 'D-NV', 'R-AR', 'R-ND', 'R-ID', 'R-TX', 'R-MT', 'D-IL', 'D-IL', 'R-IA', 'D-CA', 'R-NE', 'D-NY', 'R-SC', 'R-IA', 'R-TN', 'D-NH', 'R-MO', 'D-NM', 'D-CO', 'D-HI', 'R-ND', 'R-MS', 'R-OK', 'R-WI', 'D-VA', 'D-AZ', 'R-LA', 'I-ME', 'D-MN', 'R-OK', 'D-VT', 'R-UT', 'D-NM', 'R-WY', 'D-WV', 'D-MA', 'R-KS', 'R-KY', 'D-NJ', 'D-OR', 'R-KS', 'R-AK', 'D-CT', 'D-WA', 'D-GA', 'D-CA', 'R-KY', 'D-MI', 'R-OH', 'D-RI', 'R-ID', 'R-UT', 'D-NV', 'R-SD', 'R-FL', 'I-VT', 'R-NE', 'D-HI', 'D-NY', 'R-FL', 'R-SC', 'D-NH', 'R-AL', 'D-AZ', 'D-MN', 'D-MI', 'R-AK', 'D-MT', 'R-SD', 'R-NC', 'R-PA', 'R-AL', 'D-MD', 'D-VA', 'D-GA', 'D-MA', 'D-RI', 'R-MS', 'D-OR', 'R-IN']\n",
            "s_vote : ['Yea', 'Nay', 'Yea', 'Nay', 'Yea', 'Nay', 'Yea', 'Nay', 'Nay', 'Yea', 'Nay', 'Yea', 'Nay', 'Yea', 'Yea', 'Yea', 'Nay', 'Nay', 'Yea', 'Nay', 'Yea', 'Nay', 'Nay', 'Nay', 'Nay', 'Nay', 'Yea', 'Yea', 'Nay', 'Yea', 'Nay', 'Yea', 'Nay', 'Nay', 'Nay', 'Yea', 'Nay', 'Yea', 'Yea', 'Yea', 'Nay', 'Nay', 'Nay', 'Nay', 'Yea', 'Yea', 'Nay', 'Yea', 'Yea', 'Nay', 'Yea', 'Nay', 'Yea', 'Nay', 'Yea', 'Yea', 'Nay', 'Nay', 'Yea', 'Yea', 'Nay', 'Not_Voting', 'Yea', 'Yea', 'Yea', 'Yea', 'Nay', 'Yea', 'Nay', 'Yea', 'Nay', 'Nay', 'Yea', 'Nay', 'Not_Voting', 'Yea', 'Nay', 'Yea', 'Yea', 'Nay', 'Nay', 'Yea', 'Nay', 'Yea', 'Yea', 'Yea', 'Nay', 'Yea', 'Nay', 'Nay', 'Nay', 'Nay', 'Yea', 'Yea', 'Yea', 'Yea', 'Yea', 'Nay', 'Yea', 'Nay']\n"
          ]
        }
      ]
    },
    {
      "cell_type": "code",
      "source": [
        "import pandas as pd\n",
        "\n",
        "senetor_df = pd.DataFrame({'name':s_name, 'group':s_group, 'vote':s_vote})\n",
        "senetor_df.head()"
      ],
      "metadata": {
        "colab": {
          "base_uri": "https://localhost:8080/",
          "height": 206
        },
        "id": "cxtfTdVc_CUm",
        "outputId": "18f9307e-e192-4646-f23a-845392013228"
      },
      "execution_count": null,
      "outputs": [
        {
          "output_type": "execute_result",
          "data": {
            "text/plain": [
              "         name group vote\n",
              "0     Baldwin  D-WI  Yea\n",
              "1    Barrasso  R-WY  Nay\n",
              "2      Bennet  D-CO  Yea\n",
              "3   Blackburn  R-TN  Nay\n",
              "4  Blumenthal  D-CT  Yea"
            ],
            "text/html": [
              "\n",
              "  <div id=\"df-02ef13b3-5643-4e69-a263-5a293775f7e8\">\n",
              "    <div class=\"colab-df-container\">\n",
              "      <div>\n",
              "<style scoped>\n",
              "    .dataframe tbody tr th:only-of-type {\n",
              "        vertical-align: middle;\n",
              "    }\n",
              "\n",
              "    .dataframe tbody tr th {\n",
              "        vertical-align: top;\n",
              "    }\n",
              "\n",
              "    .dataframe thead th {\n",
              "        text-align: right;\n",
              "    }\n",
              "</style>\n",
              "<table border=\"1\" class=\"dataframe\">\n",
              "  <thead>\n",
              "    <tr style=\"text-align: right;\">\n",
              "      <th></th>\n",
              "      <th>name</th>\n",
              "      <th>group</th>\n",
              "      <th>vote</th>\n",
              "    </tr>\n",
              "  </thead>\n",
              "  <tbody>\n",
              "    <tr>\n",
              "      <th>0</th>\n",
              "      <td>Baldwin</td>\n",
              "      <td>D-WI</td>\n",
              "      <td>Yea</td>\n",
              "    </tr>\n",
              "    <tr>\n",
              "      <th>1</th>\n",
              "      <td>Barrasso</td>\n",
              "      <td>R-WY</td>\n",
              "      <td>Nay</td>\n",
              "    </tr>\n",
              "    <tr>\n",
              "      <th>2</th>\n",
              "      <td>Bennet</td>\n",
              "      <td>D-CO</td>\n",
              "      <td>Yea</td>\n",
              "    </tr>\n",
              "    <tr>\n",
              "      <th>3</th>\n",
              "      <td>Blackburn</td>\n",
              "      <td>R-TN</td>\n",
              "      <td>Nay</td>\n",
              "    </tr>\n",
              "    <tr>\n",
              "      <th>4</th>\n",
              "      <td>Blumenthal</td>\n",
              "      <td>D-CT</td>\n",
              "      <td>Yea</td>\n",
              "    </tr>\n",
              "  </tbody>\n",
              "</table>\n",
              "</div>\n",
              "      <button class=\"colab-df-convert\" onclick=\"convertToInteractive('df-02ef13b3-5643-4e69-a263-5a293775f7e8')\"\n",
              "              title=\"Convert this dataframe to an interactive table.\"\n",
              "              style=\"display:none;\">\n",
              "        \n",
              "  <svg xmlns=\"http://www.w3.org/2000/svg\" height=\"24px\"viewBox=\"0 0 24 24\"\n",
              "       width=\"24px\">\n",
              "    <path d=\"M0 0h24v24H0V0z\" fill=\"none\"/>\n",
              "    <path d=\"M18.56 5.44l.94 2.06.94-2.06 2.06-.94-2.06-.94-.94-2.06-.94 2.06-2.06.94zm-11 1L8.5 8.5l.94-2.06 2.06-.94-2.06-.94L8.5 2.5l-.94 2.06-2.06.94zm10 10l.94 2.06.94-2.06 2.06-.94-2.06-.94-.94-2.06-.94 2.06-2.06.94z\"/><path d=\"M17.41 7.96l-1.37-1.37c-.4-.4-.92-.59-1.43-.59-.52 0-1.04.2-1.43.59L10.3 9.45l-7.72 7.72c-.78.78-.78 2.05 0 2.83L4 21.41c.39.39.9.59 1.41.59.51 0 1.02-.2 1.41-.59l7.78-7.78 2.81-2.81c.8-.78.8-2.07 0-2.86zM5.41 20L4 18.59l7.72-7.72 1.47 1.35L5.41 20z\"/>\n",
              "  </svg>\n",
              "      </button>\n",
              "      \n",
              "  <style>\n",
              "    .colab-df-container {\n",
              "      display:flex;\n",
              "      flex-wrap:wrap;\n",
              "      gap: 12px;\n",
              "    }\n",
              "\n",
              "    .colab-df-convert {\n",
              "      background-color: #E8F0FE;\n",
              "      border: none;\n",
              "      border-radius: 50%;\n",
              "      cursor: pointer;\n",
              "      display: none;\n",
              "      fill: #1967D2;\n",
              "      height: 32px;\n",
              "      padding: 0 0 0 0;\n",
              "      width: 32px;\n",
              "    }\n",
              "\n",
              "    .colab-df-convert:hover {\n",
              "      background-color: #E2EBFA;\n",
              "      box-shadow: 0px 1px 2px rgba(60, 64, 67, 0.3), 0px 1px 3px 1px rgba(60, 64, 67, 0.15);\n",
              "      fill: #174EA6;\n",
              "    }\n",
              "\n",
              "    [theme=dark] .colab-df-convert {\n",
              "      background-color: #3B4455;\n",
              "      fill: #D2E3FC;\n",
              "    }\n",
              "\n",
              "    [theme=dark] .colab-df-convert:hover {\n",
              "      background-color: #434B5C;\n",
              "      box-shadow: 0px 1px 3px 1px rgba(0, 0, 0, 0.15);\n",
              "      filter: drop-shadow(0px 1px 2px rgba(0, 0, 0, 0.3));\n",
              "      fill: #FFFFFF;\n",
              "    }\n",
              "  </style>\n",
              "\n",
              "      <script>\n",
              "        const buttonEl =\n",
              "          document.querySelector('#df-02ef13b3-5643-4e69-a263-5a293775f7e8 button.colab-df-convert');\n",
              "        buttonEl.style.display =\n",
              "          google.colab.kernel.accessAllowed ? 'block' : 'none';\n",
              "\n",
              "        async function convertToInteractive(key) {\n",
              "          const element = document.querySelector('#df-02ef13b3-5643-4e69-a263-5a293775f7e8');\n",
              "          const dataTable =\n",
              "            await google.colab.kernel.invokeFunction('convertToInteractive',\n",
              "                                                     [key], {});\n",
              "          if (!dataTable) return;\n",
              "\n",
              "          const docLinkHtml = 'Like what you see? Visit the ' +\n",
              "            '<a target=\"_blank\" href=https://colab.research.google.com/notebooks/data_table.ipynb>data table notebook</a>'\n",
              "            + ' to learn more about interactive tables.';\n",
              "          element.innerHTML = '';\n",
              "          dataTable['output_type'] = 'display_data';\n",
              "          await google.colab.output.renderOutput(dataTable, element);\n",
              "          const docLink = document.createElement('div');\n",
              "          docLink.innerHTML = docLinkHtml;\n",
              "          element.appendChild(docLink);\n",
              "        }\n",
              "      </script>\n",
              "    </div>\n",
              "  </div>\n",
              "  "
            ]
          },
          "metadata": {},
          "execution_count": 36
        }
      ]
    },
    {
      "cell_type": "code",
      "source": [
        "senetor_df.shape"
      ],
      "metadata": {
        "colab": {
          "base_uri": "https://localhost:8080/"
        },
        "id": "NItxgxwCFkDx",
        "outputId": "63371350-73c7-41be-9ad6-0a3cfde46195"
      },
      "execution_count": null,
      "outputs": [
        {
          "output_type": "execute_result",
          "data": {
            "text/plain": [
              "(100, 3)"
            ]
          },
          "metadata": {},
          "execution_count": 37
        }
      ]
    },
    {
      "cell_type": "code",
      "source": [
        "# Q1. How many democrats did not vote?\n",
        "print(\"Q1. How many democrats did not vote?\\n Ans: \",senetor_df[senetor_df.vote=='Not_Voting'].shape[0])"
      ],
      "metadata": {
        "id": "kGD8JC0vICu5",
        "colab": {
          "base_uri": "https://localhost:8080/"
        },
        "outputId": "9137526a-70c3-4e1b-9ff6-3c9e932b0973"
      },
      "execution_count": null,
      "outputs": [
        {
          "output_type": "stream",
          "name": "stdout",
          "text": [
            "Q1. How many democrats did not vote?\n",
            " Ans:  2\n"
          ]
        }
      ]
    },
    {
      "cell_type": "code",
      "source": [
        "senetor_df.vote.unique()"
      ],
      "metadata": {
        "colab": {
          "base_uri": "https://localhost:8080/"
        },
        "id": "DoI3DygR9Lzi",
        "outputId": "c8306b42-f432-49ce-d350-160fee5a2518"
      },
      "execution_count": null,
      "outputs": [
        {
          "output_type": "execute_result",
          "data": {
            "text/plain": [
              "array(['Yea', 'Nay', 'Not_Voting'], dtype=object)"
            ]
          },
          "metadata": {},
          "execution_count": 39
        }
      ]
    },
    {
      "cell_type": "code",
      "source": [
        "# Q2. How many republicans voted Yea?\n",
        "print(\"How many republicans voted Yea?\\n Ans: \",senetor_df[(senetor_df.vote=='Yea')&(senetor_df.group.str.startswith('R'))].shape[0])"
      ],
      "metadata": {
        "colab": {
          "base_uri": "https://localhost:8080/"
        },
        "id": "zSQLxmrQ9Uyu",
        "outputId": "4d8d1dd7-b4aa-40f3-db26-0a9e5404a57f"
      },
      "execution_count": null,
      "outputs": [
        {
          "output_type": "stream",
          "name": "stdout",
          "text": [
            "How many republicans voted Yea?\n",
            " Ans:  0\n"
          ]
        }
      ]
    },
    {
      "cell_type": "code",
      "source": [
        "# Q3. What's the total number of Yea votes from all senators whose name starts with \"B\"?\n",
        "sdf_yea_startswithB = senetor_df[(senetor_df.vote=='Yea')& (senetor_df['name'].str.startswith('B'))]\n",
        "print(\"Q3. What's the total number of Yea votes from all senators whose name starts with \\\"B\\\"?\\nAns: \",sdf_yea_startswithB.shape[0])"
      ],
      "metadata": {
        "colab": {
          "base_uri": "https://localhost:8080/"
        },
        "id": "jI9sHbVk-RLv",
        "outputId": "e93efbc0-e8e7-498b-d45e-465090e4d768"
      },
      "execution_count": null,
      "outputs": [
        {
          "output_type": "stream",
          "name": "stdout",
          "text": [
            "Q3. What's the total number of Yea votes from all senators whose name starts with \"B\"?\n",
            "Ans:  5\n"
          ]
        }
      ]
    },
    {
      "cell_type": "code",
      "source": [
        "senetor_df_x=senetor_df.copy()\n",
        "senetor_df_x['group'] = senetor_df['group'].apply(lambda x: x[2:])"
      ],
      "metadata": {
        "id": "LTtC-8UYWC-m"
      },
      "execution_count": null,
      "outputs": []
    },
    {
      "cell_type": "code",
      "source": [
        "# Q4. How many states voted all Yay?\n",
        "print(\"Q4. How many states voted all Yay?\\nAns: \",senetor_df_x[(senetor_df_x.vote=='Yea')].groupby('group').count().index.shape[0])"
      ],
      "metadata": {
        "colab": {
          "base_uri": "https://localhost:8080/"
        },
        "id": "bKdkDMZB-tl-",
        "outputId": "fb47d43c-099a-4ccf-f2d0-8583455d1b0c"
      },
      "execution_count": null,
      "outputs": [
        {
          "output_type": "stream",
          "name": "stdout",
          "text": [
            "Q4. How many states voted all Yay?\n",
            "Ans:  28\n"
          ]
        }
      ]
    },
    {
      "cell_type": "code",
      "source": [
        "# Q5. How many states had at least 1 non-voting senator?\n",
        "print(\"How many states had at least 1 non-voting senator?\")\n",
        "print(len(senetor_df_x[senetor_df_x.vote=='Not_Voting'].group.unique()))"
      ],
      "metadata": {
        "colab": {
          "base_uri": "https://localhost:8080/"
        },
        "id": "jTwASsvIAUlq",
        "outputId": "a3b5c636-35f5-41e7-8d68-e1c61fa7277d"
      },
      "execution_count": null,
      "outputs": [
        {
          "output_type": "stream",
          "name": "stdout",
          "text": [
            "How many states had at least 1 non-voting senator?\n",
            "2\n"
          ]
        }
      ]
    },
    {
      "cell_type": "code",
      "source": [
        "# Q6. How many states have both Republican senators?\n",
        "senetor_df['state']=senetor_df.group.str[-2:]\n",
        "senetor_df.head()"
      ],
      "metadata": {
        "colab": {
          "base_uri": "https://localhost:8080/",
          "height": 206
        },
        "id": "J0v13kAtBYHI",
        "outputId": "94cd5eb0-3278-4886-fdbd-90789a307615"
      },
      "execution_count": null,
      "outputs": [
        {
          "output_type": "execute_result",
          "data": {
            "text/plain": [
              "         name group vote state\n",
              "0     Baldwin  D-WI  Yea    WI\n",
              "1    Barrasso  R-WY  Nay    WY\n",
              "2      Bennet  D-CO  Yea    CO\n",
              "3   Blackburn  R-TN  Nay    TN\n",
              "4  Blumenthal  D-CT  Yea    CT"
            ],
            "text/html": [
              "\n",
              "  <div id=\"df-cd8ad496-8594-49c3-b99a-012a12d6ddde\">\n",
              "    <div class=\"colab-df-container\">\n",
              "      <div>\n",
              "<style scoped>\n",
              "    .dataframe tbody tr th:only-of-type {\n",
              "        vertical-align: middle;\n",
              "    }\n",
              "\n",
              "    .dataframe tbody tr th {\n",
              "        vertical-align: top;\n",
              "    }\n",
              "\n",
              "    .dataframe thead th {\n",
              "        text-align: right;\n",
              "    }\n",
              "</style>\n",
              "<table border=\"1\" class=\"dataframe\">\n",
              "  <thead>\n",
              "    <tr style=\"text-align: right;\">\n",
              "      <th></th>\n",
              "      <th>name</th>\n",
              "      <th>group</th>\n",
              "      <th>vote</th>\n",
              "      <th>state</th>\n",
              "    </tr>\n",
              "  </thead>\n",
              "  <tbody>\n",
              "    <tr>\n",
              "      <th>0</th>\n",
              "      <td>Baldwin</td>\n",
              "      <td>D-WI</td>\n",
              "      <td>Yea</td>\n",
              "      <td>WI</td>\n",
              "    </tr>\n",
              "    <tr>\n",
              "      <th>1</th>\n",
              "      <td>Barrasso</td>\n",
              "      <td>R-WY</td>\n",
              "      <td>Nay</td>\n",
              "      <td>WY</td>\n",
              "    </tr>\n",
              "    <tr>\n",
              "      <th>2</th>\n",
              "      <td>Bennet</td>\n",
              "      <td>D-CO</td>\n",
              "      <td>Yea</td>\n",
              "      <td>CO</td>\n",
              "    </tr>\n",
              "    <tr>\n",
              "      <th>3</th>\n",
              "      <td>Blackburn</td>\n",
              "      <td>R-TN</td>\n",
              "      <td>Nay</td>\n",
              "      <td>TN</td>\n",
              "    </tr>\n",
              "    <tr>\n",
              "      <th>4</th>\n",
              "      <td>Blumenthal</td>\n",
              "      <td>D-CT</td>\n",
              "      <td>Yea</td>\n",
              "      <td>CT</td>\n",
              "    </tr>\n",
              "  </tbody>\n",
              "</table>\n",
              "</div>\n",
              "      <button class=\"colab-df-convert\" onclick=\"convertToInteractive('df-cd8ad496-8594-49c3-b99a-012a12d6ddde')\"\n",
              "              title=\"Convert this dataframe to an interactive table.\"\n",
              "              style=\"display:none;\">\n",
              "        \n",
              "  <svg xmlns=\"http://www.w3.org/2000/svg\" height=\"24px\"viewBox=\"0 0 24 24\"\n",
              "       width=\"24px\">\n",
              "    <path d=\"M0 0h24v24H0V0z\" fill=\"none\"/>\n",
              "    <path d=\"M18.56 5.44l.94 2.06.94-2.06 2.06-.94-2.06-.94-.94-2.06-.94 2.06-2.06.94zm-11 1L8.5 8.5l.94-2.06 2.06-.94-2.06-.94L8.5 2.5l-.94 2.06-2.06.94zm10 10l.94 2.06.94-2.06 2.06-.94-2.06-.94-.94-2.06-.94 2.06-2.06.94z\"/><path d=\"M17.41 7.96l-1.37-1.37c-.4-.4-.92-.59-1.43-.59-.52 0-1.04.2-1.43.59L10.3 9.45l-7.72 7.72c-.78.78-.78 2.05 0 2.83L4 21.41c.39.39.9.59 1.41.59.51 0 1.02-.2 1.41-.59l7.78-7.78 2.81-2.81c.8-.78.8-2.07 0-2.86zM5.41 20L4 18.59l7.72-7.72 1.47 1.35L5.41 20z\"/>\n",
              "  </svg>\n",
              "      </button>\n",
              "      \n",
              "  <style>\n",
              "    .colab-df-container {\n",
              "      display:flex;\n",
              "      flex-wrap:wrap;\n",
              "      gap: 12px;\n",
              "    }\n",
              "\n",
              "    .colab-df-convert {\n",
              "      background-color: #E8F0FE;\n",
              "      border: none;\n",
              "      border-radius: 50%;\n",
              "      cursor: pointer;\n",
              "      display: none;\n",
              "      fill: #1967D2;\n",
              "      height: 32px;\n",
              "      padding: 0 0 0 0;\n",
              "      width: 32px;\n",
              "    }\n",
              "\n",
              "    .colab-df-convert:hover {\n",
              "      background-color: #E2EBFA;\n",
              "      box-shadow: 0px 1px 2px rgba(60, 64, 67, 0.3), 0px 1px 3px 1px rgba(60, 64, 67, 0.15);\n",
              "      fill: #174EA6;\n",
              "    }\n",
              "\n",
              "    [theme=dark] .colab-df-convert {\n",
              "      background-color: #3B4455;\n",
              "      fill: #D2E3FC;\n",
              "    }\n",
              "\n",
              "    [theme=dark] .colab-df-convert:hover {\n",
              "      background-color: #434B5C;\n",
              "      box-shadow: 0px 1px 3px 1px rgba(0, 0, 0, 0.15);\n",
              "      filter: drop-shadow(0px 1px 2px rgba(0, 0, 0, 0.3));\n",
              "      fill: #FFFFFF;\n",
              "    }\n",
              "  </style>\n",
              "\n",
              "      <script>\n",
              "        const buttonEl =\n",
              "          document.querySelector('#df-cd8ad496-8594-49c3-b99a-012a12d6ddde button.colab-df-convert');\n",
              "        buttonEl.style.display =\n",
              "          google.colab.kernel.accessAllowed ? 'block' : 'none';\n",
              "\n",
              "        async function convertToInteractive(key) {\n",
              "          const element = document.querySelector('#df-cd8ad496-8594-49c3-b99a-012a12d6ddde');\n",
              "          const dataTable =\n",
              "            await google.colab.kernel.invokeFunction('convertToInteractive',\n",
              "                                                     [key], {});\n",
              "          if (!dataTable) return;\n",
              "\n",
              "          const docLinkHtml = 'Like what you see? Visit the ' +\n",
              "            '<a target=\"_blank\" href=https://colab.research.google.com/notebooks/data_table.ipynb>data table notebook</a>'\n",
              "            + ' to learn more about interactive tables.';\n",
              "          element.innerHTML = '';\n",
              "          dataTable['output_type'] = 'display_data';\n",
              "          await google.colab.output.renderOutput(dataTable, element);\n",
              "          const docLink = document.createElement('div');\n",
              "          docLink.innerHTML = docLinkHtml;\n",
              "          element.appendChild(docLink);\n",
              "        }\n",
              "      </script>\n",
              "    </div>\n",
              "  </div>\n",
              "  "
            ]
          },
          "metadata": {},
          "execution_count": 49
        }
      ]
    },
    {
      "cell_type": "code",
      "source": [
        "sdf_R_groupby_state_count_gte2 = senetor_df[senetor_df.group.str.startswith('R')][['name','state']].groupby('state').count().reset_index()\n",
        "sdf_R_groupby_state_count_gte2.head()"
      ],
      "metadata": {
        "colab": {
          "base_uri": "https://localhost:8080/",
          "height": 206
        },
        "id": "oz4MZXPZCsjJ",
        "outputId": "63646aa3-5e42-4139-f561-2c56b7550a99"
      },
      "execution_count": null,
      "outputs": [
        {
          "output_type": "execute_result",
          "data": {
            "text/plain": [
              "  state  name\n",
              "0    AK     2\n",
              "1    AL     2\n",
              "2    AR     2\n",
              "3    FL     2\n",
              "4    IA     2"
            ],
            "text/html": [
              "\n",
              "  <div id=\"df-96fbc892-c067-4ac4-a411-09c048140d24\">\n",
              "    <div class=\"colab-df-container\">\n",
              "      <div>\n",
              "<style scoped>\n",
              "    .dataframe tbody tr th:only-of-type {\n",
              "        vertical-align: middle;\n",
              "    }\n",
              "\n",
              "    .dataframe tbody tr th {\n",
              "        vertical-align: top;\n",
              "    }\n",
              "\n",
              "    .dataframe thead th {\n",
              "        text-align: right;\n",
              "    }\n",
              "</style>\n",
              "<table border=\"1\" class=\"dataframe\">\n",
              "  <thead>\n",
              "    <tr style=\"text-align: right;\">\n",
              "      <th></th>\n",
              "      <th>state</th>\n",
              "      <th>name</th>\n",
              "    </tr>\n",
              "  </thead>\n",
              "  <tbody>\n",
              "    <tr>\n",
              "      <th>0</th>\n",
              "      <td>AK</td>\n",
              "      <td>2</td>\n",
              "    </tr>\n",
              "    <tr>\n",
              "      <th>1</th>\n",
              "      <td>AL</td>\n",
              "      <td>2</td>\n",
              "    </tr>\n",
              "    <tr>\n",
              "      <th>2</th>\n",
              "      <td>AR</td>\n",
              "      <td>2</td>\n",
              "    </tr>\n",
              "    <tr>\n",
              "      <th>3</th>\n",
              "      <td>FL</td>\n",
              "      <td>2</td>\n",
              "    </tr>\n",
              "    <tr>\n",
              "      <th>4</th>\n",
              "      <td>IA</td>\n",
              "      <td>2</td>\n",
              "    </tr>\n",
              "  </tbody>\n",
              "</table>\n",
              "</div>\n",
              "      <button class=\"colab-df-convert\" onclick=\"convertToInteractive('df-96fbc892-c067-4ac4-a411-09c048140d24')\"\n",
              "              title=\"Convert this dataframe to an interactive table.\"\n",
              "              style=\"display:none;\">\n",
              "        \n",
              "  <svg xmlns=\"http://www.w3.org/2000/svg\" height=\"24px\"viewBox=\"0 0 24 24\"\n",
              "       width=\"24px\">\n",
              "    <path d=\"M0 0h24v24H0V0z\" fill=\"none\"/>\n",
              "    <path d=\"M18.56 5.44l.94 2.06.94-2.06 2.06-.94-2.06-.94-.94-2.06-.94 2.06-2.06.94zm-11 1L8.5 8.5l.94-2.06 2.06-.94-2.06-.94L8.5 2.5l-.94 2.06-2.06.94zm10 10l.94 2.06.94-2.06 2.06-.94-2.06-.94-.94-2.06-.94 2.06-2.06.94z\"/><path d=\"M17.41 7.96l-1.37-1.37c-.4-.4-.92-.59-1.43-.59-.52 0-1.04.2-1.43.59L10.3 9.45l-7.72 7.72c-.78.78-.78 2.05 0 2.83L4 21.41c.39.39.9.59 1.41.59.51 0 1.02-.2 1.41-.59l7.78-7.78 2.81-2.81c.8-.78.8-2.07 0-2.86zM5.41 20L4 18.59l7.72-7.72 1.47 1.35L5.41 20z\"/>\n",
              "  </svg>\n",
              "      </button>\n",
              "      \n",
              "  <style>\n",
              "    .colab-df-container {\n",
              "      display:flex;\n",
              "      flex-wrap:wrap;\n",
              "      gap: 12px;\n",
              "    }\n",
              "\n",
              "    .colab-df-convert {\n",
              "      background-color: #E8F0FE;\n",
              "      border: none;\n",
              "      border-radius: 50%;\n",
              "      cursor: pointer;\n",
              "      display: none;\n",
              "      fill: #1967D2;\n",
              "      height: 32px;\n",
              "      padding: 0 0 0 0;\n",
              "      width: 32px;\n",
              "    }\n",
              "\n",
              "    .colab-df-convert:hover {\n",
              "      background-color: #E2EBFA;\n",
              "      box-shadow: 0px 1px 2px rgba(60, 64, 67, 0.3), 0px 1px 3px 1px rgba(60, 64, 67, 0.15);\n",
              "      fill: #174EA6;\n",
              "    }\n",
              "\n",
              "    [theme=dark] .colab-df-convert {\n",
              "      background-color: #3B4455;\n",
              "      fill: #D2E3FC;\n",
              "    }\n",
              "\n",
              "    [theme=dark] .colab-df-convert:hover {\n",
              "      background-color: #434B5C;\n",
              "      box-shadow: 0px 1px 3px 1px rgba(0, 0, 0, 0.15);\n",
              "      filter: drop-shadow(0px 1px 2px rgba(0, 0, 0, 0.3));\n",
              "      fill: #FFFFFF;\n",
              "    }\n",
              "  </style>\n",
              "\n",
              "      <script>\n",
              "        const buttonEl =\n",
              "          document.querySelector('#df-96fbc892-c067-4ac4-a411-09c048140d24 button.colab-df-convert');\n",
              "        buttonEl.style.display =\n",
              "          google.colab.kernel.accessAllowed ? 'block' : 'none';\n",
              "\n",
              "        async function convertToInteractive(key) {\n",
              "          const element = document.querySelector('#df-96fbc892-c067-4ac4-a411-09c048140d24');\n",
              "          const dataTable =\n",
              "            await google.colab.kernel.invokeFunction('convertToInteractive',\n",
              "                                                     [key], {});\n",
              "          if (!dataTable) return;\n",
              "\n",
              "          const docLinkHtml = 'Like what you see? Visit the ' +\n",
              "            '<a target=\"_blank\" href=https://colab.research.google.com/notebooks/data_table.ipynb>data table notebook</a>'\n",
              "            + ' to learn more about interactive tables.';\n",
              "          element.innerHTML = '';\n",
              "          dataTable['output_type'] = 'display_data';\n",
              "          await google.colab.output.renderOutput(dataTable, element);\n",
              "          const docLink = document.createElement('div');\n",
              "          docLink.innerHTML = docLinkHtml;\n",
              "          element.appendChild(docLink);\n",
              "        }\n",
              "      </script>\n",
              "    </div>\n",
              "  </div>\n",
              "  "
            ]
          },
          "metadata": {},
          "execution_count": 50
        }
      ]
    },
    {
      "cell_type": "code",
      "source": [
        "print(\"Q6. How many states have both Republican senators?\")\n",
        "print(sdf_R_groupby_state_count_gte2.shape[0])"
      ],
      "metadata": {
        "colab": {
          "base_uri": "https://localhost:8080/"
        },
        "id": "dskwP0IeDvLF",
        "outputId": "9cb20e30-5f7f-4c63-b04f-a11cc20ab162"
      },
      "execution_count": null,
      "outputs": [
        {
          "output_type": "stream",
          "name": "stdout",
          "text": [
            "Q6. How many states have both Republican senators?\n",
            "28\n"
          ]
        }
      ]
    },
    {
      "cell_type": "code",
      "source": [
        "\n",
        "# How many states have both Republican and Democrat senators?\n",
        "senetor_df.head()"
      ],
      "metadata": {
        "colab": {
          "base_uri": "https://localhost:8080/",
          "height": 206
        },
        "id": "5R_PzZ-fG14o",
        "outputId": "00bbf6d5-7e94-41fb-a51e-dc0bc07f4197"
      },
      "execution_count": null,
      "outputs": [
        {
          "output_type": "execute_result",
          "data": {
            "text/plain": [
              "         name group vote state\n",
              "0     Baldwin  D-WI  Yea    WI\n",
              "1    Barrasso  R-WY  Nay    WY\n",
              "2      Bennet  D-CO  Yea    CO\n",
              "3   Blackburn  R-TN  Nay    TN\n",
              "4  Blumenthal  D-CT  Yea    CT"
            ],
            "text/html": [
              "\n",
              "  <div id=\"df-20ebcd52-ffd7-47a3-bd55-7250e0d055ae\">\n",
              "    <div class=\"colab-df-container\">\n",
              "      <div>\n",
              "<style scoped>\n",
              "    .dataframe tbody tr th:only-of-type {\n",
              "        vertical-align: middle;\n",
              "    }\n",
              "\n",
              "    .dataframe tbody tr th {\n",
              "        vertical-align: top;\n",
              "    }\n",
              "\n",
              "    .dataframe thead th {\n",
              "        text-align: right;\n",
              "    }\n",
              "</style>\n",
              "<table border=\"1\" class=\"dataframe\">\n",
              "  <thead>\n",
              "    <tr style=\"text-align: right;\">\n",
              "      <th></th>\n",
              "      <th>name</th>\n",
              "      <th>group</th>\n",
              "      <th>vote</th>\n",
              "      <th>state</th>\n",
              "    </tr>\n",
              "  </thead>\n",
              "  <tbody>\n",
              "    <tr>\n",
              "      <th>0</th>\n",
              "      <td>Baldwin</td>\n",
              "      <td>D-WI</td>\n",
              "      <td>Yea</td>\n",
              "      <td>WI</td>\n",
              "    </tr>\n",
              "    <tr>\n",
              "      <th>1</th>\n",
              "      <td>Barrasso</td>\n",
              "      <td>R-WY</td>\n",
              "      <td>Nay</td>\n",
              "      <td>WY</td>\n",
              "    </tr>\n",
              "    <tr>\n",
              "      <th>2</th>\n",
              "      <td>Bennet</td>\n",
              "      <td>D-CO</td>\n",
              "      <td>Yea</td>\n",
              "      <td>CO</td>\n",
              "    </tr>\n",
              "    <tr>\n",
              "      <th>3</th>\n",
              "      <td>Blackburn</td>\n",
              "      <td>R-TN</td>\n",
              "      <td>Nay</td>\n",
              "      <td>TN</td>\n",
              "    </tr>\n",
              "    <tr>\n",
              "      <th>4</th>\n",
              "      <td>Blumenthal</td>\n",
              "      <td>D-CT</td>\n",
              "      <td>Yea</td>\n",
              "      <td>CT</td>\n",
              "    </tr>\n",
              "  </tbody>\n",
              "</table>\n",
              "</div>\n",
              "      <button class=\"colab-df-convert\" onclick=\"convertToInteractive('df-20ebcd52-ffd7-47a3-bd55-7250e0d055ae')\"\n",
              "              title=\"Convert this dataframe to an interactive table.\"\n",
              "              style=\"display:none;\">\n",
              "        \n",
              "  <svg xmlns=\"http://www.w3.org/2000/svg\" height=\"24px\"viewBox=\"0 0 24 24\"\n",
              "       width=\"24px\">\n",
              "    <path d=\"M0 0h24v24H0V0z\" fill=\"none\"/>\n",
              "    <path d=\"M18.56 5.44l.94 2.06.94-2.06 2.06-.94-2.06-.94-.94-2.06-.94 2.06-2.06.94zm-11 1L8.5 8.5l.94-2.06 2.06-.94-2.06-.94L8.5 2.5l-.94 2.06-2.06.94zm10 10l.94 2.06.94-2.06 2.06-.94-2.06-.94-.94-2.06-.94 2.06-2.06.94z\"/><path d=\"M17.41 7.96l-1.37-1.37c-.4-.4-.92-.59-1.43-.59-.52 0-1.04.2-1.43.59L10.3 9.45l-7.72 7.72c-.78.78-.78 2.05 0 2.83L4 21.41c.39.39.9.59 1.41.59.51 0 1.02-.2 1.41-.59l7.78-7.78 2.81-2.81c.8-.78.8-2.07 0-2.86zM5.41 20L4 18.59l7.72-7.72 1.47 1.35L5.41 20z\"/>\n",
              "  </svg>\n",
              "      </button>\n",
              "      \n",
              "  <style>\n",
              "    .colab-df-container {\n",
              "      display:flex;\n",
              "      flex-wrap:wrap;\n",
              "      gap: 12px;\n",
              "    }\n",
              "\n",
              "    .colab-df-convert {\n",
              "      background-color: #E8F0FE;\n",
              "      border: none;\n",
              "      border-radius: 50%;\n",
              "      cursor: pointer;\n",
              "      display: none;\n",
              "      fill: #1967D2;\n",
              "      height: 32px;\n",
              "      padding: 0 0 0 0;\n",
              "      width: 32px;\n",
              "    }\n",
              "\n",
              "    .colab-df-convert:hover {\n",
              "      background-color: #E2EBFA;\n",
              "      box-shadow: 0px 1px 2px rgba(60, 64, 67, 0.3), 0px 1px 3px 1px rgba(60, 64, 67, 0.15);\n",
              "      fill: #174EA6;\n",
              "    }\n",
              "\n",
              "    [theme=dark] .colab-df-convert {\n",
              "      background-color: #3B4455;\n",
              "      fill: #D2E3FC;\n",
              "    }\n",
              "\n",
              "    [theme=dark] .colab-df-convert:hover {\n",
              "      background-color: #434B5C;\n",
              "      box-shadow: 0px 1px 3px 1px rgba(0, 0, 0, 0.15);\n",
              "      filter: drop-shadow(0px 1px 2px rgba(0, 0, 0, 0.3));\n",
              "      fill: #FFFFFF;\n",
              "    }\n",
              "  </style>\n",
              "\n",
              "      <script>\n",
              "        const buttonEl =\n",
              "          document.querySelector('#df-20ebcd52-ffd7-47a3-bd55-7250e0d055ae button.colab-df-convert');\n",
              "        buttonEl.style.display =\n",
              "          google.colab.kernel.accessAllowed ? 'block' : 'none';\n",
              "\n",
              "        async function convertToInteractive(key) {\n",
              "          const element = document.querySelector('#df-20ebcd52-ffd7-47a3-bd55-7250e0d055ae');\n",
              "          const dataTable =\n",
              "            await google.colab.kernel.invokeFunction('convertToInteractive',\n",
              "                                                     [key], {});\n",
              "          if (!dataTable) return;\n",
              "\n",
              "          const docLinkHtml = 'Like what you see? Visit the ' +\n",
              "            '<a target=\"_blank\" href=https://colab.research.google.com/notebooks/data_table.ipynb>data table notebook</a>'\n",
              "            + ' to learn more about interactive tables.';\n",
              "          element.innerHTML = '';\n",
              "          dataTable['output_type'] = 'display_data';\n",
              "          await google.colab.output.renderOutput(dataTable, element);\n",
              "          const docLink = document.createElement('div');\n",
              "          docLink.innerHTML = docLinkHtml;\n",
              "          element.appendChild(docLink);\n",
              "        }\n",
              "      </script>\n",
              "    </div>\n",
              "  </div>\n",
              "  "
            ]
          },
          "metadata": {},
          "execution_count": 52
        }
      ]
    },
    {
      "cell_type": "code",
      "source": [
        "senetor_state_R_set = set(senetor_df[senetor_df.group.str.startswith('R')].state)\n",
        "senetor_state_D_set = set(senetor_df[senetor_df.group.str.startswith('D')].state)\n",
        "senetor_state_with_RD = senetor_state_R_set.intersection(senetor_state_D_set)\n",
        "print('How many states have both Republican and Democrat senators?')\n",
        "print(len(senetor_state_with_RD))"
      ],
      "metadata": {
        "colab": {
          "base_uri": "https://localhost:8080/"
        },
        "id": "FsbiyBLhHKy3",
        "outputId": "516e0cee-8d77-42fd-c044-98d2cc9250e9"
      },
      "execution_count": null,
      "outputs": [
        {
          "output_type": "stream",
          "name": "stdout",
          "text": [
            "How many states have both Republican and Democrat senators?\n",
            "5\n"
          ]
        }
      ]
    },
    {
      "cell_type": "code",
      "source": [
        "# Q8. How many Senators have their names starting with W?\n",
        "print(\"Q8. How many Senators have their names starting with W?\")\n",
        "print(senetor_df[senetor_df.name.str.startswith('W')].shape[0])"
      ],
      "metadata": {
        "colab": {
          "base_uri": "https://localhost:8080/"
        },
        "id": "z80Jw6mlIm4w",
        "outputId": "79c8f251-ac08-4fcc-9328-8ae7e5736daf"
      },
      "execution_count": null,
      "outputs": [
        {
          "output_type": "stream",
          "name": "stdout",
          "text": [
            "Q8. How many Senators have their names starting with W?\n",
            "6\n"
          ]
        }
      ]
    },
    {
      "cell_type": "code",
      "source": [
        "# Q9. What is the votes ratio of Democrats' major decision to Republicans' major decision ?\n",
        "vote_count_D = senetor_df[(senetor_df.group.str.startswith('D'))&(senetor_df.vote.str.startswith('Yea'))].shape[0]\n",
        "vote_count_R = senetor_df[(senetor_df.group.str.startswith('R'))&(senetor_df.vote=='Nay')].shape[0]\n",
        "# print(vote_count_D)\n",
        "# print(vote_count_R)\n",
        "print(\"Q9. What is the votes ratio of Democrats' major decision to Republicans' major decision ?\")\n",
        "print(vote_count_D/vote_count_R)"
      ],
      "metadata": {
        "colab": {
          "base_uri": "https://localhost:8080/"
        },
        "id": "FWu-vLz1JoXX",
        "outputId": "f1ef5514-c448-4dec-fb2c-66a1bddddfad"
      },
      "execution_count": null,
      "outputs": [
        {
          "output_type": "stream",
          "name": "stdout",
          "text": [
            "Q9. What is the votes ratio of Democrats' major decision to Republicans' major decision ?\n",
            "1.0\n"
          ]
        }
      ]
    },
    {
      "cell_type": "code",
      "source": [
        "senetor_df.groupby('vote').count()"
      ],
      "metadata": {
        "colab": {
          "base_uri": "https://localhost:8080/",
          "height": 175
        },
        "id": "3hcfpK_OKIHe",
        "outputId": "8e9bd3c4-b97b-44ff-ec68-744d657135c7"
      },
      "execution_count": null,
      "outputs": [
        {
          "output_type": "execute_result",
          "data": {
            "text/plain": [
              "            name  group  state\n",
              "vote                          \n",
              "Nay           48     48     48\n",
              "Not_Voting     2      2      2\n",
              "Yea           50     50     50"
            ],
            "text/html": [
              "\n",
              "  <div id=\"df-320e8278-db05-423c-8b27-33deac26ca93\">\n",
              "    <div class=\"colab-df-container\">\n",
              "      <div>\n",
              "<style scoped>\n",
              "    .dataframe tbody tr th:only-of-type {\n",
              "        vertical-align: middle;\n",
              "    }\n",
              "\n",
              "    .dataframe tbody tr th {\n",
              "        vertical-align: top;\n",
              "    }\n",
              "\n",
              "    .dataframe thead th {\n",
              "        text-align: right;\n",
              "    }\n",
              "</style>\n",
              "<table border=\"1\" class=\"dataframe\">\n",
              "  <thead>\n",
              "    <tr style=\"text-align: right;\">\n",
              "      <th></th>\n",
              "      <th>name</th>\n",
              "      <th>group</th>\n",
              "      <th>state</th>\n",
              "    </tr>\n",
              "    <tr>\n",
              "      <th>vote</th>\n",
              "      <th></th>\n",
              "      <th></th>\n",
              "      <th></th>\n",
              "    </tr>\n",
              "  </thead>\n",
              "  <tbody>\n",
              "    <tr>\n",
              "      <th>Nay</th>\n",
              "      <td>48</td>\n",
              "      <td>48</td>\n",
              "      <td>48</td>\n",
              "    </tr>\n",
              "    <tr>\n",
              "      <th>Not_Voting</th>\n",
              "      <td>2</td>\n",
              "      <td>2</td>\n",
              "      <td>2</td>\n",
              "    </tr>\n",
              "    <tr>\n",
              "      <th>Yea</th>\n",
              "      <td>50</td>\n",
              "      <td>50</td>\n",
              "      <td>50</td>\n",
              "    </tr>\n",
              "  </tbody>\n",
              "</table>\n",
              "</div>\n",
              "      <button class=\"colab-df-convert\" onclick=\"convertToInteractive('df-320e8278-db05-423c-8b27-33deac26ca93')\"\n",
              "              title=\"Convert this dataframe to an interactive table.\"\n",
              "              style=\"display:none;\">\n",
              "        \n",
              "  <svg xmlns=\"http://www.w3.org/2000/svg\" height=\"24px\"viewBox=\"0 0 24 24\"\n",
              "       width=\"24px\">\n",
              "    <path d=\"M0 0h24v24H0V0z\" fill=\"none\"/>\n",
              "    <path d=\"M18.56 5.44l.94 2.06.94-2.06 2.06-.94-2.06-.94-.94-2.06-.94 2.06-2.06.94zm-11 1L8.5 8.5l.94-2.06 2.06-.94-2.06-.94L8.5 2.5l-.94 2.06-2.06.94zm10 10l.94 2.06.94-2.06 2.06-.94-2.06-.94-.94-2.06-.94 2.06-2.06.94z\"/><path d=\"M17.41 7.96l-1.37-1.37c-.4-.4-.92-.59-1.43-.59-.52 0-1.04.2-1.43.59L10.3 9.45l-7.72 7.72c-.78.78-.78 2.05 0 2.83L4 21.41c.39.39.9.59 1.41.59.51 0 1.02-.2 1.41-.59l7.78-7.78 2.81-2.81c.8-.78.8-2.07 0-2.86zM5.41 20L4 18.59l7.72-7.72 1.47 1.35L5.41 20z\"/>\n",
              "  </svg>\n",
              "      </button>\n",
              "      \n",
              "  <style>\n",
              "    .colab-df-container {\n",
              "      display:flex;\n",
              "      flex-wrap:wrap;\n",
              "      gap: 12px;\n",
              "    }\n",
              "\n",
              "    .colab-df-convert {\n",
              "      background-color: #E8F0FE;\n",
              "      border: none;\n",
              "      border-radius: 50%;\n",
              "      cursor: pointer;\n",
              "      display: none;\n",
              "      fill: #1967D2;\n",
              "      height: 32px;\n",
              "      padding: 0 0 0 0;\n",
              "      width: 32px;\n",
              "    }\n",
              "\n",
              "    .colab-df-convert:hover {\n",
              "      background-color: #E2EBFA;\n",
              "      box-shadow: 0px 1px 2px rgba(60, 64, 67, 0.3), 0px 1px 3px 1px rgba(60, 64, 67, 0.15);\n",
              "      fill: #174EA6;\n",
              "    }\n",
              "\n",
              "    [theme=dark] .colab-df-convert {\n",
              "      background-color: #3B4455;\n",
              "      fill: #D2E3FC;\n",
              "    }\n",
              "\n",
              "    [theme=dark] .colab-df-convert:hover {\n",
              "      background-color: #434B5C;\n",
              "      box-shadow: 0px 1px 3px 1px rgba(0, 0, 0, 0.15);\n",
              "      filter: drop-shadow(0px 1px 2px rgba(0, 0, 0, 0.3));\n",
              "      fill: #FFFFFF;\n",
              "    }\n",
              "  </style>\n",
              "\n",
              "      <script>\n",
              "        const buttonEl =\n",
              "          document.querySelector('#df-320e8278-db05-423c-8b27-33deac26ca93 button.colab-df-convert');\n",
              "        buttonEl.style.display =\n",
              "          google.colab.kernel.accessAllowed ? 'block' : 'none';\n",
              "\n",
              "        async function convertToInteractive(key) {\n",
              "          const element = document.querySelector('#df-320e8278-db05-423c-8b27-33deac26ca93');\n",
              "          const dataTable =\n",
              "            await google.colab.kernel.invokeFunction('convertToInteractive',\n",
              "                                                     [key], {});\n",
              "          if (!dataTable) return;\n",
              "\n",
              "          const docLinkHtml = 'Like what you see? Visit the ' +\n",
              "            '<a target=\"_blank\" href=https://colab.research.google.com/notebooks/data_table.ipynb>data table notebook</a>'\n",
              "            + ' to learn more about interactive tables.';\n",
              "          element.innerHTML = '';\n",
              "          dataTable['output_type'] = 'display_data';\n",
              "          await google.colab.output.renderOutput(dataTable, element);\n",
              "          const docLink = document.createElement('div');\n",
              "          docLink.innerHTML = docLinkHtml;\n",
              "          element.appendChild(docLink);\n",
              "        }\n",
              "      </script>\n",
              "    </div>\n",
              "  </div>\n",
              "  "
            ]
          },
          "metadata": {},
          "execution_count": 56
        }
      ]
    },
    {
      "cell_type": "code",
      "source": [
        "senetor_df[\"party\"]=senetor_df.group.str[0]\n",
        "senetor_df.groupby(['party','vote']).count()"
      ],
      "metadata": {
        "colab": {
          "base_uri": "https://localhost:8080/",
          "height": 206
        },
        "id": "1obcSo2JLgnQ",
        "outputId": "9c0d4467-2e45-4db2-d1a3-945eafee98a3"
      },
      "execution_count": null,
      "outputs": [
        {
          "output_type": "execute_result",
          "data": {
            "text/plain": [
              "                  name  group  state\n",
              "party vote                          \n",
              "D     Yea           48     48     48\n",
              "I     Yea            2      2      2\n",
              "R     Nay           48     48     48\n",
              "      Not_Voting     2      2      2"
            ],
            "text/html": [
              "\n",
              "  <div id=\"df-30b50b89-d586-440f-a445-11aea69aed29\">\n",
              "    <div class=\"colab-df-container\">\n",
              "      <div>\n",
              "<style scoped>\n",
              "    .dataframe tbody tr th:only-of-type {\n",
              "        vertical-align: middle;\n",
              "    }\n",
              "\n",
              "    .dataframe tbody tr th {\n",
              "        vertical-align: top;\n",
              "    }\n",
              "\n",
              "    .dataframe thead th {\n",
              "        text-align: right;\n",
              "    }\n",
              "</style>\n",
              "<table border=\"1\" class=\"dataframe\">\n",
              "  <thead>\n",
              "    <tr style=\"text-align: right;\">\n",
              "      <th></th>\n",
              "      <th></th>\n",
              "      <th>name</th>\n",
              "      <th>group</th>\n",
              "      <th>state</th>\n",
              "    </tr>\n",
              "    <tr>\n",
              "      <th>party</th>\n",
              "      <th>vote</th>\n",
              "      <th></th>\n",
              "      <th></th>\n",
              "      <th></th>\n",
              "    </tr>\n",
              "  </thead>\n",
              "  <tbody>\n",
              "    <tr>\n",
              "      <th>D</th>\n",
              "      <th>Yea</th>\n",
              "      <td>48</td>\n",
              "      <td>48</td>\n",
              "      <td>48</td>\n",
              "    </tr>\n",
              "    <tr>\n",
              "      <th>I</th>\n",
              "      <th>Yea</th>\n",
              "      <td>2</td>\n",
              "      <td>2</td>\n",
              "      <td>2</td>\n",
              "    </tr>\n",
              "    <tr>\n",
              "      <th rowspan=\"2\" valign=\"top\">R</th>\n",
              "      <th>Nay</th>\n",
              "      <td>48</td>\n",
              "      <td>48</td>\n",
              "      <td>48</td>\n",
              "    </tr>\n",
              "    <tr>\n",
              "      <th>Not_Voting</th>\n",
              "      <td>2</td>\n",
              "      <td>2</td>\n",
              "      <td>2</td>\n",
              "    </tr>\n",
              "  </tbody>\n",
              "</table>\n",
              "</div>\n",
              "      <button class=\"colab-df-convert\" onclick=\"convertToInteractive('df-30b50b89-d586-440f-a445-11aea69aed29')\"\n",
              "              title=\"Convert this dataframe to an interactive table.\"\n",
              "              style=\"display:none;\">\n",
              "        \n",
              "  <svg xmlns=\"http://www.w3.org/2000/svg\" height=\"24px\"viewBox=\"0 0 24 24\"\n",
              "       width=\"24px\">\n",
              "    <path d=\"M0 0h24v24H0V0z\" fill=\"none\"/>\n",
              "    <path d=\"M18.56 5.44l.94 2.06.94-2.06 2.06-.94-2.06-.94-.94-2.06-.94 2.06-2.06.94zm-11 1L8.5 8.5l.94-2.06 2.06-.94-2.06-.94L8.5 2.5l-.94 2.06-2.06.94zm10 10l.94 2.06.94-2.06 2.06-.94-2.06-.94-.94-2.06-.94 2.06-2.06.94z\"/><path d=\"M17.41 7.96l-1.37-1.37c-.4-.4-.92-.59-1.43-.59-.52 0-1.04.2-1.43.59L10.3 9.45l-7.72 7.72c-.78.78-.78 2.05 0 2.83L4 21.41c.39.39.9.59 1.41.59.51 0 1.02-.2 1.41-.59l7.78-7.78 2.81-2.81c.8-.78.8-2.07 0-2.86zM5.41 20L4 18.59l7.72-7.72 1.47 1.35L5.41 20z\"/>\n",
              "  </svg>\n",
              "      </button>\n",
              "      \n",
              "  <style>\n",
              "    .colab-df-container {\n",
              "      display:flex;\n",
              "      flex-wrap:wrap;\n",
              "      gap: 12px;\n",
              "    }\n",
              "\n",
              "    .colab-df-convert {\n",
              "      background-color: #E8F0FE;\n",
              "      border: none;\n",
              "      border-radius: 50%;\n",
              "      cursor: pointer;\n",
              "      display: none;\n",
              "      fill: #1967D2;\n",
              "      height: 32px;\n",
              "      padding: 0 0 0 0;\n",
              "      width: 32px;\n",
              "    }\n",
              "\n",
              "    .colab-df-convert:hover {\n",
              "      background-color: #E2EBFA;\n",
              "      box-shadow: 0px 1px 2px rgba(60, 64, 67, 0.3), 0px 1px 3px 1px rgba(60, 64, 67, 0.15);\n",
              "      fill: #174EA6;\n",
              "    }\n",
              "\n",
              "    [theme=dark] .colab-df-convert {\n",
              "      background-color: #3B4455;\n",
              "      fill: #D2E3FC;\n",
              "    }\n",
              "\n",
              "    [theme=dark] .colab-df-convert:hover {\n",
              "      background-color: #434B5C;\n",
              "      box-shadow: 0px 1px 3px 1px rgba(0, 0, 0, 0.15);\n",
              "      filter: drop-shadow(0px 1px 2px rgba(0, 0, 0, 0.3));\n",
              "      fill: #FFFFFF;\n",
              "    }\n",
              "  </style>\n",
              "\n",
              "      <script>\n",
              "        const buttonEl =\n",
              "          document.querySelector('#df-30b50b89-d586-440f-a445-11aea69aed29 button.colab-df-convert');\n",
              "        buttonEl.style.display =\n",
              "          google.colab.kernel.accessAllowed ? 'block' : 'none';\n",
              "\n",
              "        async function convertToInteractive(key) {\n",
              "          const element = document.querySelector('#df-30b50b89-d586-440f-a445-11aea69aed29');\n",
              "          const dataTable =\n",
              "            await google.colab.kernel.invokeFunction('convertToInteractive',\n",
              "                                                     [key], {});\n",
              "          if (!dataTable) return;\n",
              "\n",
              "          const docLinkHtml = 'Like what you see? Visit the ' +\n",
              "            '<a target=\"_blank\" href=https://colab.research.google.com/notebooks/data_table.ipynb>data table notebook</a>'\n",
              "            + ' to learn more about interactive tables.';\n",
              "          element.innerHTML = '';\n",
              "          dataTable['output_type'] = 'display_data';\n",
              "          await google.colab.output.renderOutput(dataTable, element);\n",
              "          const docLink = document.createElement('div');\n",
              "          docLink.innerHTML = docLinkHtml;\n",
              "          element.appendChild(docLink);\n",
              "        }\n",
              "      </script>\n",
              "    </div>\n",
              "  </div>\n",
              "  "
            ]
          },
          "metadata": {},
          "execution_count": 57
        }
      ]
    },
    {
      "cell_type": "markdown",
      "source": [
        "# TODO"
      ],
      "metadata": {
        "id": "bdPz6olvOPH0"
      }
    },
    {
      "cell_type": "code",
      "source": [
        "# Q 10. What is the highest absolute difference in percentage between yea and nay senators among the different parties?\n"
      ],
      "metadata": {
        "id": "bS8lnoc8M4CP"
      },
      "execution_count": null,
      "outputs": []
    },
    {
      "cell_type": "code",
      "source": [
        "# Q11. How many Democrats voted Yea?\n",
        "print(\"Q11. How many Democrats voted Yea?\")\n",
        "print(senetor_df.groupby(['party','vote']).count().loc['D'].loc['Yea'][0])"
      ],
      "metadata": {
        "colab": {
          "base_uri": "https://localhost:8080/"
        },
        "id": "lah24ZqOOOkS",
        "outputId": "8e3f714d-bc8d-4d2d-f842-bc1c30577fdc"
      },
      "execution_count": null,
      "outputs": [
        {
          "output_type": "stream",
          "name": "stdout",
          "text": [
            "Q11. How many Democrats voted Yea?\n",
            "48\n"
          ]
        }
      ]
    },
    {
      "cell_type": "code",
      "source": [
        "# Q12. How many states voted all Nay?\n",
        "print(\"How many states voted all Nay?\")\n",
        "# states_voted_nay_set - (states_voted_yes_set.union(states_voted_not_voting_set))\n",
        "states_voted_nay_set = set(senetor_df[senetor_df.vote == 'Nay'].state)\n",
        "states_voted_yes_set = set(senetor_df[senetor_df.vote == 'Yea'].state)\n",
        "states_voted_not_voting_set = set(senetor_df[senetor_df.vote == 'Not_Voting'].state)\n",
        "\n",
        "# print(states_voted_nay_set, states_voted_yes_set, states_voted_not_voting_set)\n",
        "states_all_nay = states_voted_nay_set.difference(states_voted_yes_set.union(states_voted_not_voting_set))\n",
        "print(len(states_all_nay))\n",
        "print(states_all_nay)"
      ],
      "metadata": {
        "colab": {
          "base_uri": "https://localhost:8080/"
        },
        "id": "PdaAHStKOiQr",
        "outputId": "01d5b3a4-a093-408b-fed2-7dde41b14df3"
      },
      "execution_count": null,
      "outputs": [
        {
          "output_type": "stream",
          "name": "stdout",
          "text": [
            "How many states voted all Nay?\n",
            "20\n",
            "{'MS', 'TX', 'LA', 'UT', 'WY', 'SC', 'TN', 'AL', 'IN', 'NE', 'IA', 'SD', 'MO', 'NC', 'ND', 'ID', 'AR', 'KS', 'KY', 'OK'}\n"
          ]
        }
      ]
    },
    {
      "cell_type": "markdown",
      "source": [
        "## TODO\n",
        "* How many states have both Democrat senators? Ans:21\n",
        "* How many senators did not vote? Ans: 2\n",
        "* How many states had at least 1 senator not voted? Ans: 2 as both senetors voted are from diff states\n",
        "* Ratio of number of rows to the number of columns in your dataset?\n",
        "* Plot the stacked barchart with the parties(x-axis) and number of votes(y-axis) with stacks as ‘Yea’ and ‘Nay’ ?\n",
        "* Pie chart of Republican votes ?\n",
        "* Plot the crosstab of Party and Yea/Nay as a heat map with the values\n",
        "* Pie chart representing the number of states in which Democrats domination, Republican domination and Democrats, Republicans in equal ?"
      ],
      "metadata": {
        "id": "XrfhhZ2CSYJO"
      }
    },
    {
      "cell_type": "code",
      "source": [
        "# How many states have both Democrat senators?\n",
        "# senetor_df.head()"
      ],
      "metadata": {
        "id": "qxGA44LHPrs-"
      },
      "execution_count": null,
      "outputs": []
    },
    {
      "cell_type": "code",
      "source": [
        "st_D_groupby_count = senetor_df[senetor_df.party=='D'][['state','party','name']].groupby(['state','party']).count().reset_index().rename(columns={'name':'count_senetors'})"
      ],
      "metadata": {
        "id": "cZnoL7EAMkEX"
      },
      "execution_count": null,
      "outputs": []
    },
    {
      "cell_type": "code",
      "source": [
        "st_D_groupby_count = st_D_groupby_count[st_D_groupby_count.count_senetors>=2]\n",
        "print(\"How many states have both Democrat senators?\")\n",
        "print(st_D_groupby_count.shape[0])"
      ],
      "metadata": {
        "colab": {
          "base_uri": "https://localhost:8080/"
        },
        "id": "EADa4LNiM9IA",
        "outputId": "f2b1efab-d1a6-4069-8dd0-19395331128e"
      },
      "execution_count": null,
      "outputs": [
        {
          "output_type": "stream",
          "name": "stdout",
          "text": [
            "How many states have both Democrat senators?\n",
            "21\n"
          ]
        }
      ]
    },
    {
      "cell_type": "code",
      "source": [
        "print(\"Ratio of number of rows to the number of columns in your dataset?\")\n",
        "senetor_df[['name','group','vote']].shape[0]/senetor_df[['name','group','vote']].shape[1]"
      ],
      "metadata": {
        "colab": {
          "base_uri": "https://localhost:8080/"
        },
        "id": "ly0oif-zOvM5",
        "outputId": "ca5c77b6-5fbd-4ed3-c2a5-6b404f13eb52"
      },
      "execution_count": null,
      "outputs": [
        {
          "output_type": "stream",
          "name": "stdout",
          "text": [
            "Ratio of number of rows to the number of columns in your dataset?\n"
          ]
        },
        {
          "output_type": "execute_result",
          "data": {
            "text/plain": [
              "33.333333333333336"
            ]
          },
          "metadata": {},
          "execution_count": 67
        }
      ]
    },
    {
      "cell_type": "code",
      "source": [
        "# Plot the stacked barchart with the parties(x-axis) and number of votes(y-axis) with stacks as ‘Yea’ and ‘Nay’ ?\n",
        "# senetor_df[senetor_df.group.str.startswith('I')]"
      ],
      "metadata": {
        "id": "M7Nzy2r6PU4m"
      },
      "execution_count": null,
      "outputs": []
    },
    {
      "cell_type": "code",
      "source": [
        "senetor_df['party']=senetor_df.party.map({\"D\": \"Democrate\",\"R\":\"Republic\",\"I\":\"Independent\"})\n",
        "# senetor_df.head()"
      ],
      "metadata": {
        "colab": {
          "base_uri": "https://localhost:8080/",
          "height": 206
        },
        "id": "JYOcsvk0QAHl",
        "outputId": "94617d96-b1fb-4aae-f201-1929058066b5"
      },
      "execution_count": null,
      "outputs": [
        {
          "output_type": "execute_result",
          "data": {
            "text/plain": [
              "         name group vote state      party\n",
              "0     Baldwin  D-WI  Yea    WI  Democrate\n",
              "1    Barrasso  R-WY  Nay    WY   Republic\n",
              "2      Bennet  D-CO  Yea    CO  Democrate\n",
              "3   Blackburn  R-TN  Nay    TN   Republic\n",
              "4  Blumenthal  D-CT  Yea    CT  Democrate"
            ],
            "text/html": [
              "\n",
              "  <div id=\"df-718a52a6-33c9-440f-9f78-a92e3675c70a\">\n",
              "    <div class=\"colab-df-container\">\n",
              "      <div>\n",
              "<style scoped>\n",
              "    .dataframe tbody tr th:only-of-type {\n",
              "        vertical-align: middle;\n",
              "    }\n",
              "\n",
              "    .dataframe tbody tr th {\n",
              "        vertical-align: top;\n",
              "    }\n",
              "\n",
              "    .dataframe thead th {\n",
              "        text-align: right;\n",
              "    }\n",
              "</style>\n",
              "<table border=\"1\" class=\"dataframe\">\n",
              "  <thead>\n",
              "    <tr style=\"text-align: right;\">\n",
              "      <th></th>\n",
              "      <th>name</th>\n",
              "      <th>group</th>\n",
              "      <th>vote</th>\n",
              "      <th>state</th>\n",
              "      <th>party</th>\n",
              "    </tr>\n",
              "  </thead>\n",
              "  <tbody>\n",
              "    <tr>\n",
              "      <th>0</th>\n",
              "      <td>Baldwin</td>\n",
              "      <td>D-WI</td>\n",
              "      <td>Yea</td>\n",
              "      <td>WI</td>\n",
              "      <td>Democrate</td>\n",
              "    </tr>\n",
              "    <tr>\n",
              "      <th>1</th>\n",
              "      <td>Barrasso</td>\n",
              "      <td>R-WY</td>\n",
              "      <td>Nay</td>\n",
              "      <td>WY</td>\n",
              "      <td>Republic</td>\n",
              "    </tr>\n",
              "    <tr>\n",
              "      <th>2</th>\n",
              "      <td>Bennet</td>\n",
              "      <td>D-CO</td>\n",
              "      <td>Yea</td>\n",
              "      <td>CO</td>\n",
              "      <td>Democrate</td>\n",
              "    </tr>\n",
              "    <tr>\n",
              "      <th>3</th>\n",
              "      <td>Blackburn</td>\n",
              "      <td>R-TN</td>\n",
              "      <td>Nay</td>\n",
              "      <td>TN</td>\n",
              "      <td>Republic</td>\n",
              "    </tr>\n",
              "    <tr>\n",
              "      <th>4</th>\n",
              "      <td>Blumenthal</td>\n",
              "      <td>D-CT</td>\n",
              "      <td>Yea</td>\n",
              "      <td>CT</td>\n",
              "      <td>Democrate</td>\n",
              "    </tr>\n",
              "  </tbody>\n",
              "</table>\n",
              "</div>\n",
              "      <button class=\"colab-df-convert\" onclick=\"convertToInteractive('df-718a52a6-33c9-440f-9f78-a92e3675c70a')\"\n",
              "              title=\"Convert this dataframe to an interactive table.\"\n",
              "              style=\"display:none;\">\n",
              "        \n",
              "  <svg xmlns=\"http://www.w3.org/2000/svg\" height=\"24px\"viewBox=\"0 0 24 24\"\n",
              "       width=\"24px\">\n",
              "    <path d=\"M0 0h24v24H0V0z\" fill=\"none\"/>\n",
              "    <path d=\"M18.56 5.44l.94 2.06.94-2.06 2.06-.94-2.06-.94-.94-2.06-.94 2.06-2.06.94zm-11 1L8.5 8.5l.94-2.06 2.06-.94-2.06-.94L8.5 2.5l-.94 2.06-2.06.94zm10 10l.94 2.06.94-2.06 2.06-.94-2.06-.94-.94-2.06-.94 2.06-2.06.94z\"/><path d=\"M17.41 7.96l-1.37-1.37c-.4-.4-.92-.59-1.43-.59-.52 0-1.04.2-1.43.59L10.3 9.45l-7.72 7.72c-.78.78-.78 2.05 0 2.83L4 21.41c.39.39.9.59 1.41.59.51 0 1.02-.2 1.41-.59l7.78-7.78 2.81-2.81c.8-.78.8-2.07 0-2.86zM5.41 20L4 18.59l7.72-7.72 1.47 1.35L5.41 20z\"/>\n",
              "  </svg>\n",
              "      </button>\n",
              "      \n",
              "  <style>\n",
              "    .colab-df-container {\n",
              "      display:flex;\n",
              "      flex-wrap:wrap;\n",
              "      gap: 12px;\n",
              "    }\n",
              "\n",
              "    .colab-df-convert {\n",
              "      background-color: #E8F0FE;\n",
              "      border: none;\n",
              "      border-radius: 50%;\n",
              "      cursor: pointer;\n",
              "      display: none;\n",
              "      fill: #1967D2;\n",
              "      height: 32px;\n",
              "      padding: 0 0 0 0;\n",
              "      width: 32px;\n",
              "    }\n",
              "\n",
              "    .colab-df-convert:hover {\n",
              "      background-color: #E2EBFA;\n",
              "      box-shadow: 0px 1px 2px rgba(60, 64, 67, 0.3), 0px 1px 3px 1px rgba(60, 64, 67, 0.15);\n",
              "      fill: #174EA6;\n",
              "    }\n",
              "\n",
              "    [theme=dark] .colab-df-convert {\n",
              "      background-color: #3B4455;\n",
              "      fill: #D2E3FC;\n",
              "    }\n",
              "\n",
              "    [theme=dark] .colab-df-convert:hover {\n",
              "      background-color: #434B5C;\n",
              "      box-shadow: 0px 1px 3px 1px rgba(0, 0, 0, 0.15);\n",
              "      filter: drop-shadow(0px 1px 2px rgba(0, 0, 0, 0.3));\n",
              "      fill: #FFFFFF;\n",
              "    }\n",
              "  </style>\n",
              "\n",
              "      <script>\n",
              "        const buttonEl =\n",
              "          document.querySelector('#df-718a52a6-33c9-440f-9f78-a92e3675c70a button.colab-df-convert');\n",
              "        buttonEl.style.display =\n",
              "          google.colab.kernel.accessAllowed ? 'block' : 'none';\n",
              "\n",
              "        async function convertToInteractive(key) {\n",
              "          const element = document.querySelector('#df-718a52a6-33c9-440f-9f78-a92e3675c70a');\n",
              "          const dataTable =\n",
              "            await google.colab.kernel.invokeFunction('convertToInteractive',\n",
              "                                                     [key], {});\n",
              "          if (!dataTable) return;\n",
              "\n",
              "          const docLinkHtml = 'Like what you see? Visit the ' +\n",
              "            '<a target=\"_blank\" href=https://colab.research.google.com/notebooks/data_table.ipynb>data table notebook</a>'\n",
              "            + ' to learn more about interactive tables.';\n",
              "          element.innerHTML = '';\n",
              "          dataTable['output_type'] = 'display_data';\n",
              "          await google.colab.output.renderOutput(dataTable, element);\n",
              "          const docLink = document.createElement('div');\n",
              "          docLink.innerHTML = docLinkHtml;\n",
              "          element.appendChild(docLink);\n",
              "        }\n",
              "      </script>\n",
              "    </div>\n",
              "  </div>\n",
              "  "
            ]
          },
          "metadata": {},
          "execution_count": 122
        }
      ]
    },
    {
      "cell_type": "code",
      "source": [
        "senetor_df.party.unique()"
      ],
      "metadata": {
        "colab": {
          "base_uri": "https://localhost:8080/"
        },
        "id": "STUNg4Y8Qmcg",
        "outputId": "0794284d-8847-43c2-c69d-ecd00623a480"
      },
      "execution_count": null,
      "outputs": [
        {
          "output_type": "execute_result",
          "data": {
            "text/plain": [
              "array(['Democrate', 'Republic', 'Independent'], dtype=object)"
            ]
          },
          "metadata": {},
          "execution_count": 123
        }
      ]
    },
    {
      "cell_type": "code",
      "source": [
        "import pandas as pd\n",
        "ps = pd.pivot_table(data=senetor_df[['party','vote']],index='party',columns=senetor_df.vote,aggfunc='count').fillna(0).unstack()\n",
        "ps"
      ],
      "metadata": {
        "colab": {
          "base_uri": "https://localhost:8080/"
        },
        "id": "eiaUON9TTXzS",
        "outputId": "c46c1035-ed81-4c5a-8d73-5cb7316d5af8"
      },
      "execution_count": null,
      "outputs": [
        {
          "output_type": "execute_result",
          "data": {
            "text/plain": [
              "      vote        party      \n",
              "vote  Nay         Democrate       0.0\n",
              "                  Independent     0.0\n",
              "                  Republic       48.0\n",
              "      Not_Voting  Democrate       0.0\n",
              "                  Independent     0.0\n",
              "                  Republic        2.0\n",
              "      Yea         Democrate      48.0\n",
              "                  Independent     2.0\n",
              "                  Republic        0.0\n",
              "dtype: float64"
            ]
          },
          "metadata": {},
          "execution_count": 151
        }
      ]
    },
    {
      "cell_type": "code",
      "source": [
        "bdf = pd.DataFrame({'Nay':ps['vote']['Nay'],'Yea':ps['vote']['Yea']})\n",
        "bdf"
      ],
      "metadata": {
        "colab": {
          "base_uri": "https://localhost:8080/",
          "height": 175
        },
        "id": "Xdl_KrfXSUwJ",
        "outputId": "663d46f4-9174-4955-9c4c-0084781c1ce7"
      },
      "execution_count": null,
      "outputs": [
        {
          "output_type": "execute_result",
          "data": {
            "text/plain": [
              "              Nay   Yea\n",
              "party                  \n",
              "Democrate     0.0  48.0\n",
              "Independent   0.0   2.0\n",
              "Republic     48.0   0.0"
            ],
            "text/html": [
              "\n",
              "  <div id=\"df-7bdb98d5-362b-418c-a054-e6086280b074\">\n",
              "    <div class=\"colab-df-container\">\n",
              "      <div>\n",
              "<style scoped>\n",
              "    .dataframe tbody tr th:only-of-type {\n",
              "        vertical-align: middle;\n",
              "    }\n",
              "\n",
              "    .dataframe tbody tr th {\n",
              "        vertical-align: top;\n",
              "    }\n",
              "\n",
              "    .dataframe thead th {\n",
              "        text-align: right;\n",
              "    }\n",
              "</style>\n",
              "<table border=\"1\" class=\"dataframe\">\n",
              "  <thead>\n",
              "    <tr style=\"text-align: right;\">\n",
              "      <th></th>\n",
              "      <th>Nay</th>\n",
              "      <th>Yea</th>\n",
              "    </tr>\n",
              "    <tr>\n",
              "      <th>party</th>\n",
              "      <th></th>\n",
              "      <th></th>\n",
              "    </tr>\n",
              "  </thead>\n",
              "  <tbody>\n",
              "    <tr>\n",
              "      <th>Democrate</th>\n",
              "      <td>0.0</td>\n",
              "      <td>48.0</td>\n",
              "    </tr>\n",
              "    <tr>\n",
              "      <th>Independent</th>\n",
              "      <td>0.0</td>\n",
              "      <td>2.0</td>\n",
              "    </tr>\n",
              "    <tr>\n",
              "      <th>Republic</th>\n",
              "      <td>48.0</td>\n",
              "      <td>0.0</td>\n",
              "    </tr>\n",
              "  </tbody>\n",
              "</table>\n",
              "</div>\n",
              "      <button class=\"colab-df-convert\" onclick=\"convertToInteractive('df-7bdb98d5-362b-418c-a054-e6086280b074')\"\n",
              "              title=\"Convert this dataframe to an interactive table.\"\n",
              "              style=\"display:none;\">\n",
              "        \n",
              "  <svg xmlns=\"http://www.w3.org/2000/svg\" height=\"24px\"viewBox=\"0 0 24 24\"\n",
              "       width=\"24px\">\n",
              "    <path d=\"M0 0h24v24H0V0z\" fill=\"none\"/>\n",
              "    <path d=\"M18.56 5.44l.94 2.06.94-2.06 2.06-.94-2.06-.94-.94-2.06-.94 2.06-2.06.94zm-11 1L8.5 8.5l.94-2.06 2.06-.94-2.06-.94L8.5 2.5l-.94 2.06-2.06.94zm10 10l.94 2.06.94-2.06 2.06-.94-2.06-.94-.94-2.06-.94 2.06-2.06.94z\"/><path d=\"M17.41 7.96l-1.37-1.37c-.4-.4-.92-.59-1.43-.59-.52 0-1.04.2-1.43.59L10.3 9.45l-7.72 7.72c-.78.78-.78 2.05 0 2.83L4 21.41c.39.39.9.59 1.41.59.51 0 1.02-.2 1.41-.59l7.78-7.78 2.81-2.81c.8-.78.8-2.07 0-2.86zM5.41 20L4 18.59l7.72-7.72 1.47 1.35L5.41 20z\"/>\n",
              "  </svg>\n",
              "      </button>\n",
              "      \n",
              "  <style>\n",
              "    .colab-df-container {\n",
              "      display:flex;\n",
              "      flex-wrap:wrap;\n",
              "      gap: 12px;\n",
              "    }\n",
              "\n",
              "    .colab-df-convert {\n",
              "      background-color: #E8F0FE;\n",
              "      border: none;\n",
              "      border-radius: 50%;\n",
              "      cursor: pointer;\n",
              "      display: none;\n",
              "      fill: #1967D2;\n",
              "      height: 32px;\n",
              "      padding: 0 0 0 0;\n",
              "      width: 32px;\n",
              "    }\n",
              "\n",
              "    .colab-df-convert:hover {\n",
              "      background-color: #E2EBFA;\n",
              "      box-shadow: 0px 1px 2px rgba(60, 64, 67, 0.3), 0px 1px 3px 1px rgba(60, 64, 67, 0.15);\n",
              "      fill: #174EA6;\n",
              "    }\n",
              "\n",
              "    [theme=dark] .colab-df-convert {\n",
              "      background-color: #3B4455;\n",
              "      fill: #D2E3FC;\n",
              "    }\n",
              "\n",
              "    [theme=dark] .colab-df-convert:hover {\n",
              "      background-color: #434B5C;\n",
              "      box-shadow: 0px 1px 3px 1px rgba(0, 0, 0, 0.15);\n",
              "      filter: drop-shadow(0px 1px 2px rgba(0, 0, 0, 0.3));\n",
              "      fill: #FFFFFF;\n",
              "    }\n",
              "  </style>\n",
              "\n",
              "      <script>\n",
              "        const buttonEl =\n",
              "          document.querySelector('#df-7bdb98d5-362b-418c-a054-e6086280b074 button.colab-df-convert');\n",
              "        buttonEl.style.display =\n",
              "          google.colab.kernel.accessAllowed ? 'block' : 'none';\n",
              "\n",
              "        async function convertToInteractive(key) {\n",
              "          const element = document.querySelector('#df-7bdb98d5-362b-418c-a054-e6086280b074');\n",
              "          const dataTable =\n",
              "            await google.colab.kernel.invokeFunction('convertToInteractive',\n",
              "                                                     [key], {});\n",
              "          if (!dataTable) return;\n",
              "\n",
              "          const docLinkHtml = 'Like what you see? Visit the ' +\n",
              "            '<a target=\"_blank\" href=https://colab.research.google.com/notebooks/data_table.ipynb>data table notebook</a>'\n",
              "            + ' to learn more about interactive tables.';\n",
              "          element.innerHTML = '';\n",
              "          dataTable['output_type'] = 'display_data';\n",
              "          await google.colab.output.renderOutput(dataTable, element);\n",
              "          const docLink = document.createElement('div');\n",
              "          docLink.innerHTML = docLinkHtml;\n",
              "          element.appendChild(docLink);\n",
              "        }\n",
              "      </script>\n",
              "    </div>\n",
              "  </div>\n",
              "  "
            ]
          },
          "metadata": {},
          "execution_count": 162
        }
      ]
    },
    {
      "cell_type": "code",
      "source": [
        "import matplotlib.pyplot as plt\n",
        "bdf.plot.bar(stacked=True, title='Vote By Parties')\n",
        "plt.xticks(rotation='horizontal')\n",
        "plt.show()"
      ],
      "metadata": {
        "colab": {
          "base_uri": "https://localhost:8080/",
          "height": 295
        },
        "id": "IBl97fW0TJa9",
        "outputId": "c80e8213-a151-4340-b4fb-7c5b2dc4416f"
      },
      "execution_count": null,
      "outputs": [
        {
          "output_type": "display_data",
          "data": {
            "text/plain": [
              "<Figure size 432x288 with 1 Axes>"
            ],
            "image/png": "[encoded data removed]"
          },
          "metadata": {
            "needs_background": "light"
          }
        }
      ]
    },
    {
      "cell_type": "code",
      "source": [
        "# Pie chart of Republican votes ?\n",
        "senetor_df.head()"
      ],
      "metadata": {
        "colab": {
          "base_uri": "https://localhost:8080/",
          "height": 206
        },
        "id": "YwoJJUziaNWV",
        "outputId": "a3506253-3770-445f-fe4f-7615ad9a04bb"
      },
      "execution_count": null,
      "outputs": [
        {
          "output_type": "execute_result",
          "data": {
            "text/plain": [
              "         name group vote state      party\n",
              "0     Baldwin  D-WI  Yea    WI  Democrate\n",
              "1    Barrasso  R-WY  Nay    WY   Republic\n",
              "2      Bennet  D-CO  Yea    CO  Democrate\n",
              "3   Blackburn  R-TN  Nay    TN   Republic\n",
              "4  Blumenthal  D-CT  Yea    CT  Democrate"
            ],
            "text/html": [
              "\n",
              "  <div id=\"df-a161dee0-c813-49fc-88c0-82907a6f531d\">\n",
              "    <div class=\"colab-df-container\">\n",
              "      <div>\n",
              "<style scoped>\n",
              "    .dataframe tbody tr th:only-of-type {\n",
              "        vertical-align: middle;\n",
              "    }\n",
              "\n",
              "    .dataframe tbody tr th {\n",
              "        vertical-align: top;\n",
              "    }\n",
              "\n",
              "    .dataframe thead th {\n",
              "        text-align: right;\n",
              "    }\n",
              "</style>\n",
              "<table border=\"1\" class=\"dataframe\">\n",
              "  <thead>\n",
              "    <tr style=\"text-align: right;\">\n",
              "      <th></th>\n",
              "      <th>name</th>\n",
              "      <th>group</th>\n",
              "      <th>vote</th>\n",
              "      <th>state</th>\n",
              "      <th>party</th>\n",
              "    </tr>\n",
              "  </thead>\n",
              "  <tbody>\n",
              "    <tr>\n",
              "      <th>0</th>\n",
              "      <td>Baldwin</td>\n",
              "      <td>D-WI</td>\n",
              "      <td>Yea</td>\n",
              "      <td>WI</td>\n",
              "      <td>Democrate</td>\n",
              "    </tr>\n",
              "    <tr>\n",
              "      <th>1</th>\n",
              "      <td>Barrasso</td>\n",
              "      <td>R-WY</td>\n",
              "      <td>Nay</td>\n",
              "      <td>WY</td>\n",
              "      <td>Republic</td>\n",
              "    </tr>\n",
              "    <tr>\n",
              "      <th>2</th>\n",
              "      <td>Bennet</td>\n",
              "      <td>D-CO</td>\n",
              "      <td>Yea</td>\n",
              "      <td>CO</td>\n",
              "      <td>Democrate</td>\n",
              "    </tr>\n",
              "    <tr>\n",
              "      <th>3</th>\n",
              "      <td>Blackburn</td>\n",
              "      <td>R-TN</td>\n",
              "      <td>Nay</td>\n",
              "      <td>TN</td>\n",
              "      <td>Republic</td>\n",
              "    </tr>\n",
              "    <tr>\n",
              "      <th>4</th>\n",
              "      <td>Blumenthal</td>\n",
              "      <td>D-CT</td>\n",
              "      <td>Yea</td>\n",
              "      <td>CT</td>\n",
              "      <td>Democrate</td>\n",
              "    </tr>\n",
              "  </tbody>\n",
              "</table>\n",
              "</div>\n",
              "      <button class=\"colab-df-convert\" onclick=\"convertToInteractive('df-a161dee0-c813-49fc-88c0-82907a6f531d')\"\n",
              "              title=\"Convert this dataframe to an interactive table.\"\n",
              "              style=\"display:none;\">\n",
              "        \n",
              "  <svg xmlns=\"http://www.w3.org/2000/svg\" height=\"24px\"viewBox=\"0 0 24 24\"\n",
              "       width=\"24px\">\n",
              "    <path d=\"M0 0h24v24H0V0z\" fill=\"none\"/>\n",
              "    <path d=\"M18.56 5.44l.94 2.06.94-2.06 2.06-.94-2.06-.94-.94-2.06-.94 2.06-2.06.94zm-11 1L8.5 8.5l.94-2.06 2.06-.94-2.06-.94L8.5 2.5l-.94 2.06-2.06.94zm10 10l.94 2.06.94-2.06 2.06-.94-2.06-.94-.94-2.06-.94 2.06-2.06.94z\"/><path d=\"M17.41 7.96l-1.37-1.37c-.4-.4-.92-.59-1.43-.59-.52 0-1.04.2-1.43.59L10.3 9.45l-7.72 7.72c-.78.78-.78 2.05 0 2.83L4 21.41c.39.39.9.59 1.41.59.51 0 1.02-.2 1.41-.59l7.78-7.78 2.81-2.81c.8-.78.8-2.07 0-2.86zM5.41 20L4 18.59l7.72-7.72 1.47 1.35L5.41 20z\"/>\n",
              "  </svg>\n",
              "      </button>\n",
              "      \n",
              "  <style>\n",
              "    .colab-df-container {\n",
              "      display:flex;\n",
              "      flex-wrap:wrap;\n",
              "      gap: 12px;\n",
              "    }\n",
              "\n",
              "    .colab-df-convert {\n",
              "      background-color: #E8F0FE;\n",
              "      border: none;\n",
              "      border-radius: 50%;\n",
              "      cursor: pointer;\n",
              "      display: none;\n",
              "      fill: #1967D2;\n",
              "      height: 32px;\n",
              "      padding: 0 0 0 0;\n",
              "      width: 32px;\n",
              "    }\n",
              "\n",
              "    .colab-df-convert:hover {\n",
              "      background-color: #E2EBFA;\n",
              "      box-shadow: 0px 1px 2px rgba(60, 64, 67, 0.3), 0px 1px 3px 1px rgba(60, 64, 67, 0.15);\n",
              "      fill: #174EA6;\n",
              "    }\n",
              "\n",
              "    [theme=dark] .colab-df-convert {\n",
              "      background-color: #3B4455;\n",
              "      fill: #D2E3FC;\n",
              "    }\n",
              "\n",
              "    [theme=dark] .colab-df-convert:hover {\n",
              "      background-color: #434B5C;\n",
              "      box-shadow: 0px 1px 3px 1px rgba(0, 0, 0, 0.15);\n",
              "      filter: drop-shadow(0px 1px 2px rgba(0, 0, 0, 0.3));\n",
              "      fill: #FFFFFF;\n",
              "    }\n",
              "  </style>\n",
              "\n",
              "      <script>\n",
              "        const buttonEl =\n",
              "          document.querySelector('#df-a161dee0-c813-49fc-88c0-82907a6f531d button.colab-df-convert');\n",
              "        buttonEl.style.display =\n",
              "          google.colab.kernel.accessAllowed ? 'block' : 'none';\n",
              "\n",
              "        async function convertToInteractive(key) {\n",
              "          const element = document.querySelector('#df-a161dee0-c813-49fc-88c0-82907a6f531d');\n",
              "          const dataTable =\n",
              "            await google.colab.kernel.invokeFunction('convertToInteractive',\n",
              "                                                     [key], {});\n",
              "          if (!dataTable) return;\n",
              "\n",
              "          const docLinkHtml = 'Like what you see? Visit the ' +\n",
              "            '<a target=\"_blank\" href=https://colab.research.google.com/notebooks/data_table.ipynb>data table notebook</a>'\n",
              "            + ' to learn more about interactive tables.';\n",
              "          element.innerHTML = '';\n",
              "          dataTable['output_type'] = 'display_data';\n",
              "          await google.colab.output.renderOutput(dataTable, element);\n",
              "          const docLink = document.createElement('div');\n",
              "          docLink.innerHTML = docLinkHtml;\n",
              "          element.appendChild(docLink);\n",
              "        }\n",
              "      </script>\n",
              "    </div>\n",
              "  </div>\n",
              "  "
            ]
          },
          "metadata": {},
          "execution_count": 168
        }
      ]
    },
    {
      "cell_type": "code",
      "source": [
        "import pandas as pd\n",
        "ps = pd.pivot_table(data=senetor_df[['party','vote']],index='party',columns=senetor_df.vote,aggfunc='count').fillna(0).unstack()\n",
        "bdf = pd.DataFrame({'Nay':ps['vote']['Nay'],'Yea':ps['vote']['Yea'],'Not_Voting':ps['vote']['Not_Voting']})\n",
        "bdf"
      ],
      "metadata": {
        "colab": {
          "base_uri": "https://localhost:8080/",
          "height": 175
        },
        "id": "ELomWeVQeUJV",
        "outputId": "499eb526-d7d5-467e-b0d7-69c8329bf9f3"
      },
      "execution_count": null,
      "outputs": [
        {
          "output_type": "execute_result",
          "data": {
            "text/plain": [
              "              Nay   Yea  Not_Voting\n",
              "party                              \n",
              "Democrate     0.0  48.0         0.0\n",
              "Independent   0.0   2.0         0.0\n",
              "Republic     48.0   0.0         2.0"
            ],
            "text/html": [
              "\n",
              "  <div id=\"df-c056c524-ef5f-4b61-9342-7ced964695b6\">\n",
              "    <div class=\"colab-df-container\">\n",
              "      <div>\n",
              "<style scoped>\n",
              "    .dataframe tbody tr th:only-of-type {\n",
              "        vertical-align: middle;\n",
              "    }\n",
              "\n",
              "    .dataframe tbody tr th {\n",
              "        vertical-align: top;\n",
              "    }\n",
              "\n",
              "    .dataframe thead th {\n",
              "        text-align: right;\n",
              "    }\n",
              "</style>\n",
              "<table border=\"1\" class=\"dataframe\">\n",
              "  <thead>\n",
              "    <tr style=\"text-align: right;\">\n",
              "      <th></th>\n",
              "      <th>Nay</th>\n",
              "      <th>Yea</th>\n",
              "      <th>Not_Voting</th>\n",
              "    </tr>\n",
              "    <tr>\n",
              "      <th>party</th>\n",
              "      <th></th>\n",
              "      <th></th>\n",
              "      <th></th>\n",
              "    </tr>\n",
              "  </thead>\n",
              "  <tbody>\n",
              "    <tr>\n",
              "      <th>Democrate</th>\n",
              "      <td>0.0</td>\n",
              "      <td>48.0</td>\n",
              "      <td>0.0</td>\n",
              "    </tr>\n",
              "    <tr>\n",
              "      <th>Independent</th>\n",
              "      <td>0.0</td>\n",
              "      <td>2.0</td>\n",
              "      <td>0.0</td>\n",
              "    </tr>\n",
              "    <tr>\n",
              "      <th>Republic</th>\n",
              "      <td>48.0</td>\n",
              "      <td>0.0</td>\n",
              "      <td>2.0</td>\n",
              "    </tr>\n",
              "  </tbody>\n",
              "</table>\n",
              "</div>\n",
              "      <button class=\"colab-df-convert\" onclick=\"convertToInteractive('df-c056c524-ef5f-4b61-9342-7ced964695b6')\"\n",
              "              title=\"Convert this dataframe to an interactive table.\"\n",
              "              style=\"display:none;\">\n",
              "        \n",
              "  <svg xmlns=\"http://www.w3.org/2000/svg\" height=\"24px\"viewBox=\"0 0 24 24\"\n",
              "       width=\"24px\">\n",
              "    <path d=\"M0 0h24v24H0V0z\" fill=\"none\"/>\n",
              "    <path d=\"M18.56 5.44l.94 2.06.94-2.06 2.06-.94-2.06-.94-.94-2.06-.94 2.06-2.06.94zm-11 1L8.5 8.5l.94-2.06 2.06-.94-2.06-.94L8.5 2.5l-.94 2.06-2.06.94zm10 10l.94 2.06.94-2.06 2.06-.94-2.06-.94-.94-2.06-.94 2.06-2.06.94z\"/><path d=\"M17.41 7.96l-1.37-1.37c-.4-.4-.92-.59-1.43-.59-.52 0-1.04.2-1.43.59L10.3 9.45l-7.72 7.72c-.78.78-.78 2.05 0 2.83L4 21.41c.39.39.9.59 1.41.59.51 0 1.02-.2 1.41-.59l7.78-7.78 2.81-2.81c.8-.78.8-2.07 0-2.86zM5.41 20L4 18.59l7.72-7.72 1.47 1.35L5.41 20z\"/>\n",
              "  </svg>\n",
              "      </button>\n",
              "      \n",
              "  <style>\n",
              "    .colab-df-container {\n",
              "      display:flex;\n",
              "      flex-wrap:wrap;\n",
              "      gap: 12px;\n",
              "    }\n",
              "\n",
              "    .colab-df-convert {\n",
              "      background-color: #E8F0FE;\n",
              "      border: none;\n",
              "      border-radius: 50%;\n",
              "      cursor: pointer;\n",
              "      display: none;\n",
              "      fill: #1967D2;\n",
              "      height: 32px;\n",
              "      padding: 0 0 0 0;\n",
              "      width: 32px;\n",
              "    }\n",
              "\n",
              "    .colab-df-convert:hover {\n",
              "      background-color: #E2EBFA;\n",
              "      box-shadow: 0px 1px 2px rgba(60, 64, 67, 0.3), 0px 1px 3px 1px rgba(60, 64, 67, 0.15);\n",
              "      fill: #174EA6;\n",
              "    }\n",
              "\n",
              "    [theme=dark] .colab-df-convert {\n",
              "      background-color: #3B4455;\n",
              "      fill: #D2E3FC;\n",
              "    }\n",
              "\n",
              "    [theme=dark] .colab-df-convert:hover {\n",
              "      background-color: #434B5C;\n",
              "      box-shadow: 0px 1px 3px 1px rgba(0, 0, 0, 0.15);\n",
              "      filter: drop-shadow(0px 1px 2px rgba(0, 0, 0, 0.3));\n",
              "      fill: #FFFFFF;\n",
              "    }\n",
              "  </style>\n",
              "\n",
              "      <script>\n",
              "        const buttonEl =\n",
              "          document.querySelector('#df-c056c524-ef5f-4b61-9342-7ced964695b6 button.colab-df-convert');\n",
              "        buttonEl.style.display =\n",
              "          google.colab.kernel.accessAllowed ? 'block' : 'none';\n",
              "\n",
              "        async function convertToInteractive(key) {\n",
              "          const element = document.querySelector('#df-c056c524-ef5f-4b61-9342-7ced964695b6');\n",
              "          const dataTable =\n",
              "            await google.colab.kernel.invokeFunction('convertToInteractive',\n",
              "                                                     [key], {});\n",
              "          if (!dataTable) return;\n",
              "\n",
              "          const docLinkHtml = 'Like what you see? Visit the ' +\n",
              "            '<a target=\"_blank\" href=https://colab.research.google.com/notebooks/data_table.ipynb>data table notebook</a>'\n",
              "            + ' to learn more about interactive tables.';\n",
              "          element.innerHTML = '';\n",
              "          dataTable['output_type'] = 'display_data';\n",
              "          await google.colab.output.renderOutput(dataTable, element);\n",
              "          const docLink = document.createElement('div');\n",
              "          docLink.innerHTML = docLinkHtml;\n",
              "          element.appendChild(docLink);\n",
              "        }\n",
              "      </script>\n",
              "    </div>\n",
              "  </div>\n",
              "  "
            ]
          },
          "metadata": {},
          "execution_count": 169
        }
      ]
    },
    {
      "cell_type": "code",
      "source": [
        "bdf_R = bdf.loc[bdf.index=='Republic']\n",
        "bdf_R.iloc[0].to_list()"
      ],
      "metadata": {
        "colab": {
          "base_uri": "https://localhost:8080/"
        },
        "id": "STzx4NsBe22q",
        "outputId": "decb2386-1b1e-41f4-ef20-52bd253f6612"
      },
      "execution_count": null,
      "outputs": [
        {
          "output_type": "execute_result",
          "data": {
            "text/plain": [
              "[48.0, 0.0, 2.0]"
            ]
          },
          "metadata": {},
          "execution_count": 182
        }
      ]
    },
    {
      "cell_type": "code",
      "source": [
        "plt.pie(bdf_R.iloc[0].to_list(),labels=bdf_R.columns)\n",
        "plt.show()"
      ],
      "metadata": {
        "colab": {
          "base_uri": "https://localhost:8080/",
          "height": 248
        },
        "id": "tjtghNbce-c8",
        "outputId": "3e13a7c0-39a2-44b8-f238-fd5a3a6fa18b"
      },
      "execution_count": null,
      "outputs": [
        {
          "output_type": "display_data",
          "data": {
            "text/plain": [
              "<Figure size 432x288 with 1 Axes>"
            ],
            "image/png": "[encoded data removed]"
          },
          "metadata": {}
        }
      ]
    },
    {
      "cell_type": "markdown",
      "source": [
        "## TODO\n",
        "* Plot the crosstab of Party and Yea/Nay as a heat map with the values\n",
        "* Pie chart representing the number of states in which Democrats domination, Republican domination and Democrats, Republicans in equal ?"
      ],
      "metadata": {
        "id": "VSiMbpteioS6"
      }
    }
  ]
}